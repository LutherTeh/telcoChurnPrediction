{
 "cells": [
  {
   "cell_type": "markdown",
   "metadata": {},
   "source": [
    "## Telco Churn prediction\n",
    "\n",
    "![](img/happy-customer.jpg)\n",
    "\n",
    "\n",
    "## Objective\n",
    "\n",
    "Build a telco churn prediction model and understand what are the important factor contribute to customer churn. The model will help business stakeholders make plan for churn-prevention.\n",
    "\n",
    "\n",
    "- Model task: binary classification ( churn, not churn)\n",
    "- selected evaluation metric: AUC score (area-under-the-curve)\n",
    "- Selected model: Logistic regression, Xgboost, LightGBM & other\n",
    "- identify important feature contribute to churn and suggest action to business stakeholders\n"
   ]
  },
  {
   "cell_type": "code",
   "execution_count": 150,
   "metadata": {},
   "outputs": [],
   "source": [
    "import numpy as np \n",
    "import pandas as pd \n",
    "from datetime import timedelta\n",
    "import datetime as dt\n",
    "\n",
    "import seaborn as sns\n",
    "import xgboost as xgb\n",
    "from sklearn.linear_model import LogisticRegression\n",
    "from sklearn.model_selection import train_test_split\n",
    "from sklearn.metrics import confusion_matrix,accuracy_score,classification_report\n",
    "from sklearn import metrics\n",
    "from math import sqrt\n",
    "import statsmodels.api as sm\n",
    "from sklearn.feature_selection import chi2\n",
    "\n",
    "import xgboost as xgb\n",
    "from xgboost import XGBClassifier\n",
    "\n",
    "import lightgbm as lgb\n",
    "import joblib\n",
    "import gmplot \n",
    "\n",
    "\n",
    "from chart_studio import plotly\n",
    "import plotly.graph_objs as go\n",
    "\n",
    "import warnings\n",
    "warnings.filterwarnings('ignore')\n",
    "%matplotlib inline\n",
    "\n",
    "import matplotlib.pyplot as plt\n",
    "plt.rcParams['figure.figsize'] = [8, 6]\n",
    "\n"
   ]
  },
  {
   "cell_type": "markdown",
   "metadata": {},
   "source": [
    "## input data and exploratory analysis"
   ]
  },
  {
   "cell_type": "code",
   "execution_count": 15,
   "metadata": {},
   "outputs": [],
   "source": [
    "df = pd.read_excel('data/TelcoDataSet.xlsx')"
   ]
  },
  {
   "cell_type": "code",
   "execution_count": 505,
   "metadata": {},
   "outputs": [
    {
     "data": {
      "text/html": [
       "<div>\n",
       "<style scoped>\n",
       "    .dataframe tbody tr th:only-of-type {\n",
       "        vertical-align: middle;\n",
       "    }\n",
       "\n",
       "    .dataframe tbody tr th {\n",
       "        vertical-align: top;\n",
       "    }\n",
       "\n",
       "    .dataframe thead th {\n",
       "        text-align: right;\n",
       "    }\n",
       "</style>\n",
       "<table border=\"1\" class=\"dataframe\">\n",
       "  <thead>\n",
       "    <tr style=\"text-align: right;\">\n",
       "      <th></th>\n",
       "      <th>region</th>\n",
       "      <th>tenure</th>\n",
       "      <th>age</th>\n",
       "      <th>marital</th>\n",
       "      <th>address</th>\n",
       "      <th>income</th>\n",
       "      <th>education</th>\n",
       "      <th>employ</th>\n",
       "      <th>retire</th>\n",
       "      <th>gender</th>\n",
       "      <th>...</th>\n",
       "      <th>confer</th>\n",
       "      <th>ebill</th>\n",
       "      <th>loglong</th>\n",
       "      <th>logtoll</th>\n",
       "      <th>logequi</th>\n",
       "      <th>logcard</th>\n",
       "      <th>logwire</th>\n",
       "      <th>lninc</th>\n",
       "      <th>custcat</th>\n",
       "      <th>churn</th>\n",
       "    </tr>\n",
       "  </thead>\n",
       "  <tbody>\n",
       "    <tr>\n",
       "      <td>0</td>\n",
       "      <td>2</td>\n",
       "      <td>13</td>\n",
       "      <td>44</td>\n",
       "      <td>1</td>\n",
       "      <td>9</td>\n",
       "      <td>64</td>\n",
       "      <td>4</td>\n",
       "      <td>5</td>\n",
       "      <td>0</td>\n",
       "      <td>0</td>\n",
       "      <td>...</td>\n",
       "      <td>0</td>\n",
       "      <td>0</td>\n",
       "      <td>1.308</td>\n",
       "      <td>NaN</td>\n",
       "      <td>NaN</td>\n",
       "      <td>2.015</td>\n",
       "      <td>NaN</td>\n",
       "      <td>4.159</td>\n",
       "      <td>1</td>\n",
       "      <td>1</td>\n",
       "    </tr>\n",
       "    <tr>\n",
       "      <td>1</td>\n",
       "      <td>3</td>\n",
       "      <td>11</td>\n",
       "      <td>33</td>\n",
       "      <td>1</td>\n",
       "      <td>7</td>\n",
       "      <td>136</td>\n",
       "      <td>5</td>\n",
       "      <td>5</td>\n",
       "      <td>0</td>\n",
       "      <td>0</td>\n",
       "      <td>...</td>\n",
       "      <td>1</td>\n",
       "      <td>0</td>\n",
       "      <td>1.482</td>\n",
       "      <td>3.033</td>\n",
       "      <td>NaN</td>\n",
       "      <td>2.725</td>\n",
       "      <td>3.575</td>\n",
       "      <td>4.913</td>\n",
       "      <td>4</td>\n",
       "      <td>1</td>\n",
       "    </tr>\n",
       "    <tr>\n",
       "      <td>2</td>\n",
       "      <td>3</td>\n",
       "      <td>68</td>\n",
       "      <td>52</td>\n",
       "      <td>1</td>\n",
       "      <td>24</td>\n",
       "      <td>116</td>\n",
       "      <td>1</td>\n",
       "      <td>29</td>\n",
       "      <td>0</td>\n",
       "      <td>1</td>\n",
       "      <td>...</td>\n",
       "      <td>1</td>\n",
       "      <td>0</td>\n",
       "      <td>2.899</td>\n",
       "      <td>2.890</td>\n",
       "      <td>NaN</td>\n",
       "      <td>3.409</td>\n",
       "      <td>NaN</td>\n",
       "      <td>4.754</td>\n",
       "      <td>3</td>\n",
       "      <td>0</td>\n",
       "    </tr>\n",
       "    <tr>\n",
       "      <td>3</td>\n",
       "      <td>2</td>\n",
       "      <td>33</td>\n",
       "      <td>33</td>\n",
       "      <td>0</td>\n",
       "      <td>12</td>\n",
       "      <td>33</td>\n",
       "      <td>2</td>\n",
       "      <td>0</td>\n",
       "      <td>0</td>\n",
       "      <td>1</td>\n",
       "      <td>...</td>\n",
       "      <td>0</td>\n",
       "      <td>0</td>\n",
       "      <td>2.246</td>\n",
       "      <td>NaN</td>\n",
       "      <td>NaN</td>\n",
       "      <td>NaN</td>\n",
       "      <td>NaN</td>\n",
       "      <td>3.497</td>\n",
       "      <td>1</td>\n",
       "      <td>1</td>\n",
       "    </tr>\n",
       "    <tr>\n",
       "      <td>4</td>\n",
       "      <td>2</td>\n",
       "      <td>23</td>\n",
       "      <td>30</td>\n",
       "      <td>1</td>\n",
       "      <td>9</td>\n",
       "      <td>30</td>\n",
       "      <td>1</td>\n",
       "      <td>2</td>\n",
       "      <td>0</td>\n",
       "      <td>0</td>\n",
       "      <td>...</td>\n",
       "      <td>1</td>\n",
       "      <td>0</td>\n",
       "      <td>1.841</td>\n",
       "      <td>NaN</td>\n",
       "      <td>NaN</td>\n",
       "      <td>NaN</td>\n",
       "      <td>NaN</td>\n",
       "      <td>3.401</td>\n",
       "      <td>3</td>\n",
       "      <td>0</td>\n",
       "    </tr>\n",
       "  </tbody>\n",
       "</table>\n",
       "<p>5 rows × 42 columns</p>\n",
       "</div>"
      ],
      "text/plain": [
       "   region  tenure  age  marital  address  income  education  employ  retire  \\\n",
       "0       2      13   44        1        9      64          4       5       0   \n",
       "1       3      11   33        1        7     136          5       5       0   \n",
       "2       3      68   52        1       24     116          1      29       0   \n",
       "3       2      33   33        0       12      33          2       0       0   \n",
       "4       2      23   30        1        9      30          1       2       0   \n",
       "\n",
       "   gender  ...  confer  ebill  loglong  logtoll  logequi  logcard  logwire  \\\n",
       "0       0  ...       0      0    1.308      NaN      NaN    2.015      NaN   \n",
       "1       0  ...       1      0    1.482    3.033      NaN    2.725    3.575   \n",
       "2       1  ...       1      0    2.899    2.890      NaN    3.409      NaN   \n",
       "3       1  ...       0      0    2.246      NaN      NaN      NaN      NaN   \n",
       "4       0  ...       1      0    1.841      NaN      NaN      NaN      NaN   \n",
       "\n",
       "   lninc  custcat  churn  \n",
       "0  4.159        1      1  \n",
       "1  4.913        4      1  \n",
       "2  4.754        3      0  \n",
       "3  3.497        1      1  \n",
       "4  3.401        3      0  \n",
       "\n",
       "[5 rows x 42 columns]"
      ]
     },
     "execution_count": 505,
     "metadata": {},
     "output_type": "execute_result"
    }
   ],
   "source": [
    "df.head()"
   ]
  },
  {
   "cell_type": "code",
   "execution_count": 506,
   "metadata": {},
   "outputs": [
    {
     "data": {
      "text/plain": [
       "(1000, 42)"
      ]
     },
     "execution_count": 506,
     "metadata": {},
     "output_type": "execute_result"
    }
   ],
   "source": [
    "df.shape"
   ]
  },
  {
   "cell_type": "code",
   "execution_count": 507,
   "metadata": {},
   "outputs": [
    {
     "data": {
      "text/html": [
       "<div>\n",
       "<style scoped>\n",
       "    .dataframe tbody tr th:only-of-type {\n",
       "        vertical-align: middle;\n",
       "    }\n",
       "\n",
       "    .dataframe tbody tr th {\n",
       "        vertical-align: top;\n",
       "    }\n",
       "\n",
       "    .dataframe thead th {\n",
       "        text-align: right;\n",
       "    }\n",
       "</style>\n",
       "<table border=\"1\" class=\"dataframe\">\n",
       "  <thead>\n",
       "    <tr style=\"text-align: right;\">\n",
       "      <th></th>\n",
       "      <th>region</th>\n",
       "      <th>tenure</th>\n",
       "      <th>age</th>\n",
       "      <th>marital</th>\n",
       "      <th>address</th>\n",
       "      <th>income</th>\n",
       "      <th>education</th>\n",
       "      <th>employ</th>\n",
       "      <th>retire</th>\n",
       "      <th>gender</th>\n",
       "      <th>...</th>\n",
       "      <th>confer</th>\n",
       "      <th>ebill</th>\n",
       "      <th>loglong</th>\n",
       "      <th>logtoll</th>\n",
       "      <th>logequi</th>\n",
       "      <th>logcard</th>\n",
       "      <th>logwire</th>\n",
       "      <th>lninc</th>\n",
       "      <th>custcat</th>\n",
       "      <th>churn</th>\n",
       "    </tr>\n",
       "  </thead>\n",
       "  <tbody>\n",
       "    <tr>\n",
       "      <td>count</td>\n",
       "      <td>1000.0000</td>\n",
       "      <td>1000.000000</td>\n",
       "      <td>1000.000000</td>\n",
       "      <td>1000.000000</td>\n",
       "      <td>1000.000000</td>\n",
       "      <td>1000.000000</td>\n",
       "      <td>1000.000000</td>\n",
       "      <td>1000.000000</td>\n",
       "      <td>1000.000000</td>\n",
       "      <td>1000.000000</td>\n",
       "      <td>...</td>\n",
       "      <td>1000.000000</td>\n",
       "      <td>1000.000000</td>\n",
       "      <td>1000.000000</td>\n",
       "      <td>475.000000</td>\n",
       "      <td>386.000000</td>\n",
       "      <td>678.000000</td>\n",
       "      <td>296.000000</td>\n",
       "      <td>1000.000000</td>\n",
       "      <td>1000.000000</td>\n",
       "      <td>1000.000000</td>\n",
       "    </tr>\n",
       "    <tr>\n",
       "      <td>mean</td>\n",
       "      <td>2.0220</td>\n",
       "      <td>35.526000</td>\n",
       "      <td>41.684000</td>\n",
       "      <td>0.495000</td>\n",
       "      <td>11.551000</td>\n",
       "      <td>77.535000</td>\n",
       "      <td>2.671000</td>\n",
       "      <td>10.987000</td>\n",
       "      <td>0.047000</td>\n",
       "      <td>0.517000</td>\n",
       "      <td>...</td>\n",
       "      <td>0.502000</td>\n",
       "      <td>0.371000</td>\n",
       "      <td>2.182333</td>\n",
       "      <td>3.239709</td>\n",
       "      <td>3.568122</td>\n",
       "      <td>2.854212</td>\n",
       "      <td>3.598324</td>\n",
       "      <td>3.957206</td>\n",
       "      <td>2.487000</td>\n",
       "      <td>0.274000</td>\n",
       "    </tr>\n",
       "    <tr>\n",
       "      <td>std</td>\n",
       "      <td>0.8162</td>\n",
       "      <td>21.359812</td>\n",
       "      <td>12.558816</td>\n",
       "      <td>0.500225</td>\n",
       "      <td>10.086681</td>\n",
       "      <td>107.044165</td>\n",
       "      <td>1.222397</td>\n",
       "      <td>10.082087</td>\n",
       "      <td>0.211745</td>\n",
       "      <td>0.499961</td>\n",
       "      <td>...</td>\n",
       "      <td>0.500246</td>\n",
       "      <td>0.483314</td>\n",
       "      <td>0.733932</td>\n",
       "      <td>0.413809</td>\n",
       "      <td>0.277570</td>\n",
       "      <td>0.557297</td>\n",
       "      <td>0.367295</td>\n",
       "      <td>0.803733</td>\n",
       "      <td>1.120306</td>\n",
       "      <td>0.446232</td>\n",
       "    </tr>\n",
       "    <tr>\n",
       "      <td>min</td>\n",
       "      <td>1.0000</td>\n",
       "      <td>1.000000</td>\n",
       "      <td>18.000000</td>\n",
       "      <td>0.000000</td>\n",
       "      <td>0.000000</td>\n",
       "      <td>9.000000</td>\n",
       "      <td>1.000000</td>\n",
       "      <td>0.000000</td>\n",
       "      <td>0.000000</td>\n",
       "      <td>0.000000</td>\n",
       "      <td>...</td>\n",
       "      <td>0.000000</td>\n",
       "      <td>0.000000</td>\n",
       "      <td>0.049000</td>\n",
       "      <td>1.749000</td>\n",
       "      <td>2.734000</td>\n",
       "      <td>1.012000</td>\n",
       "      <td>2.701000</td>\n",
       "      <td>2.197000</td>\n",
       "      <td>1.000000</td>\n",
       "      <td>0.000000</td>\n",
       "    </tr>\n",
       "    <tr>\n",
       "      <td>25%</td>\n",
       "      <td>1.0000</td>\n",
       "      <td>17.000000</td>\n",
       "      <td>32.000000</td>\n",
       "      <td>0.000000</td>\n",
       "      <td>3.000000</td>\n",
       "      <td>29.000000</td>\n",
       "      <td>2.000000</td>\n",
       "      <td>3.000000</td>\n",
       "      <td>0.000000</td>\n",
       "      <td>0.000000</td>\n",
       "      <td>...</td>\n",
       "      <td>0.000000</td>\n",
       "      <td>0.000000</td>\n",
       "      <td>1.649000</td>\n",
       "      <td>2.970000</td>\n",
       "      <td>3.367500</td>\n",
       "      <td>2.464000</td>\n",
       "      <td>3.333500</td>\n",
       "      <td>3.367000</td>\n",
       "      <td>1.000000</td>\n",
       "      <td>0.000000</td>\n",
       "    </tr>\n",
       "    <tr>\n",
       "      <td>50%</td>\n",
       "      <td>2.0000</td>\n",
       "      <td>34.000000</td>\n",
       "      <td>40.000000</td>\n",
       "      <td>0.000000</td>\n",
       "      <td>9.000000</td>\n",
       "      <td>47.000000</td>\n",
       "      <td>3.000000</td>\n",
       "      <td>8.000000</td>\n",
       "      <td>0.000000</td>\n",
       "      <td>1.000000</td>\n",
       "      <td>...</td>\n",
       "      <td>1.000000</td>\n",
       "      <td>0.000000</td>\n",
       "      <td>2.143000</td>\n",
       "      <td>3.209000</td>\n",
       "      <td>3.572500</td>\n",
       "      <td>2.848000</td>\n",
       "      <td>3.595000</td>\n",
       "      <td>3.850000</td>\n",
       "      <td>3.000000</td>\n",
       "      <td>0.000000</td>\n",
       "    </tr>\n",
       "    <tr>\n",
       "      <td>75%</td>\n",
       "      <td>3.0000</td>\n",
       "      <td>54.000000</td>\n",
       "      <td>51.000000</td>\n",
       "      <td>1.000000</td>\n",
       "      <td>18.000000</td>\n",
       "      <td>83.000000</td>\n",
       "      <td>4.000000</td>\n",
       "      <td>17.000000</td>\n",
       "      <td>0.000000</td>\n",
       "      <td>1.000000</td>\n",
       "      <td>...</td>\n",
       "      <td>1.000000</td>\n",
       "      <td>1.000000</td>\n",
       "      <td>2.668000</td>\n",
       "      <td>3.489000</td>\n",
       "      <td>3.757750</td>\n",
       "      <td>3.209000</td>\n",
       "      <td>3.862000</td>\n",
       "      <td>4.419000</td>\n",
       "      <td>3.000000</td>\n",
       "      <td>1.000000</td>\n",
       "    </tr>\n",
       "    <tr>\n",
       "      <td>max</td>\n",
       "      <td>3.0000</td>\n",
       "      <td>72.000000</td>\n",
       "      <td>77.000000</td>\n",
       "      <td>1.000000</td>\n",
       "      <td>55.000000</td>\n",
       "      <td>1668.000000</td>\n",
       "      <td>5.000000</td>\n",
       "      <td>47.000000</td>\n",
       "      <td>1.000000</td>\n",
       "      <td>1.000000</td>\n",
       "      <td>...</td>\n",
       "      <td>1.000000</td>\n",
       "      <td>1.000000</td>\n",
       "      <td>4.605000</td>\n",
       "      <td>5.153000</td>\n",
       "      <td>4.353000</td>\n",
       "      <td>4.694000</td>\n",
       "      <td>4.718000</td>\n",
       "      <td>7.419000</td>\n",
       "      <td>4.000000</td>\n",
       "      <td>1.000000</td>\n",
       "    </tr>\n",
       "  </tbody>\n",
       "</table>\n",
       "<p>8 rows × 42 columns</p>\n",
       "</div>"
      ],
      "text/plain": [
       "          region       tenure          age      marital      address  \\\n",
       "count  1000.0000  1000.000000  1000.000000  1000.000000  1000.000000   \n",
       "mean      2.0220    35.526000    41.684000     0.495000    11.551000   \n",
       "std       0.8162    21.359812    12.558816     0.500225    10.086681   \n",
       "min       1.0000     1.000000    18.000000     0.000000     0.000000   \n",
       "25%       1.0000    17.000000    32.000000     0.000000     3.000000   \n",
       "50%       2.0000    34.000000    40.000000     0.000000     9.000000   \n",
       "75%       3.0000    54.000000    51.000000     1.000000    18.000000   \n",
       "max       3.0000    72.000000    77.000000     1.000000    55.000000   \n",
       "\n",
       "            income    education       employ       retire       gender  ...  \\\n",
       "count  1000.000000  1000.000000  1000.000000  1000.000000  1000.000000  ...   \n",
       "mean     77.535000     2.671000    10.987000     0.047000     0.517000  ...   \n",
       "std     107.044165     1.222397    10.082087     0.211745     0.499961  ...   \n",
       "min       9.000000     1.000000     0.000000     0.000000     0.000000  ...   \n",
       "25%      29.000000     2.000000     3.000000     0.000000     0.000000  ...   \n",
       "50%      47.000000     3.000000     8.000000     0.000000     1.000000  ...   \n",
       "75%      83.000000     4.000000    17.000000     0.000000     1.000000  ...   \n",
       "max    1668.000000     5.000000    47.000000     1.000000     1.000000  ...   \n",
       "\n",
       "            confer        ebill      loglong     logtoll     logequi  \\\n",
       "count  1000.000000  1000.000000  1000.000000  475.000000  386.000000   \n",
       "mean      0.502000     0.371000     2.182333    3.239709    3.568122   \n",
       "std       0.500246     0.483314     0.733932    0.413809    0.277570   \n",
       "min       0.000000     0.000000     0.049000    1.749000    2.734000   \n",
       "25%       0.000000     0.000000     1.649000    2.970000    3.367500   \n",
       "50%       1.000000     0.000000     2.143000    3.209000    3.572500   \n",
       "75%       1.000000     1.000000     2.668000    3.489000    3.757750   \n",
       "max       1.000000     1.000000     4.605000    5.153000    4.353000   \n",
       "\n",
       "          logcard     logwire        lninc      custcat        churn  \n",
       "count  678.000000  296.000000  1000.000000  1000.000000  1000.000000  \n",
       "mean     2.854212    3.598324     3.957206     2.487000     0.274000  \n",
       "std      0.557297    0.367295     0.803733     1.120306     0.446232  \n",
       "min      1.012000    2.701000     2.197000     1.000000     0.000000  \n",
       "25%      2.464000    3.333500     3.367000     1.000000     0.000000  \n",
       "50%      2.848000    3.595000     3.850000     3.000000     0.000000  \n",
       "75%      3.209000    3.862000     4.419000     3.000000     1.000000  \n",
       "max      4.694000    4.718000     7.419000     4.000000     1.000000  \n",
       "\n",
       "[8 rows x 42 columns]"
      ]
     },
     "execution_count": 507,
     "metadata": {},
     "output_type": "execute_result"
    }
   ],
   "source": [
    "## describe summary stats\n",
    "df.describe()"
   ]
  },
  {
   "cell_type": "code",
   "execution_count": 508,
   "metadata": {},
   "outputs": [
    {
     "name": "stdout",
     "output_type": "stream",
     "text": [
      "<class 'pandas.core.frame.DataFrame'>\n",
      "RangeIndex: 1000 entries, 0 to 999\n",
      "Data columns (total 42 columns):\n",
      "region       1000 non-null int64\n",
      "tenure       1000 non-null int64\n",
      "age          1000 non-null int64\n",
      "marital      1000 non-null int64\n",
      "address      1000 non-null int64\n",
      "income       1000 non-null int64\n",
      "education    1000 non-null int64\n",
      "employ       1000 non-null int64\n",
      "retire       1000 non-null int64\n",
      "gender       1000 non-null int64\n",
      "reside       1000 non-null int64\n",
      "tollfree     1000 non-null int64\n",
      "equip        1000 non-null int64\n",
      "callcard     1000 non-null int64\n",
      "wireless     1000 non-null int64\n",
      "longmon      1000 non-null float64\n",
      "tollmon      1000 non-null float64\n",
      "equipmon     1000 non-null float64\n",
      "cardmon      1000 non-null float64\n",
      "wiremon      1000 non-null float64\n",
      "longten      1000 non-null float64\n",
      "tollten      1000 non-null float64\n",
      "equipten     1000 non-null float64\n",
      "cardten      1000 non-null float64\n",
      "wireten      1000 non-null float64\n",
      "multline     1000 non-null int64\n",
      "voice        1000 non-null int64\n",
      "pager        1000 non-null int64\n",
      "internet     1000 non-null int64\n",
      "callid       1000 non-null int64\n",
      "callwait     1000 non-null int64\n",
      "forward      1000 non-null int64\n",
      "confer       1000 non-null int64\n",
      "ebill        1000 non-null int64\n",
      "loglong      1000 non-null float64\n",
      "logtoll      475 non-null float64\n",
      "logequi      386 non-null float64\n",
      "logcard      678 non-null float64\n",
      "logwire      296 non-null float64\n",
      "lninc        1000 non-null float64\n",
      "custcat      1000 non-null int64\n",
      "churn        1000 non-null int64\n",
      "dtypes: float64(16), int64(26)\n",
      "memory usage: 328.2 KB\n"
     ]
    }
   ],
   "source": [
    "## data type\n",
    "df.info()"
   ]
  },
  {
   "cell_type": "code",
   "execution_count": 16,
   "metadata": {},
   "outputs": [
    {
     "data": {
      "text/plain": [
       "0    726\n",
       "1    274\n",
       "Name: churn, dtype: int64"
      ]
     },
     "execution_count": 16,
     "metadata": {},
     "output_type": "execute_result"
    }
   ],
   "source": [
    "## check whether class imbalance\n",
    "\n",
    "df.churn.value_counts()\n"
   ]
  },
  {
   "cell_type": "markdown",
   "metadata": {},
   "source": [
    "- the postive and negative class ratio still okay, no issue on imbalance dataset, therefore no further sampling like SMOTE needed. \n",
    "- for model evaluation metric we can use the accuracy ROC ( or F1-score will be relevant for imbalance class case)"
   ]
  },
  {
   "cell_type": "markdown",
   "metadata": {},
   "source": [
    "### deal with null value "
   ]
  },
  {
   "cell_type": "code",
   "execution_count": 17,
   "metadata": {
    "collapsed": true
   },
   "outputs": [
    {
     "data": {
      "text/plain": [
       "region         0\n",
       "tenure         0\n",
       "age            0\n",
       "marital        0\n",
       "address        0\n",
       "income         0\n",
       "education      0\n",
       "employ         0\n",
       "retire         0\n",
       "gender         0\n",
       "reside         0\n",
       "tollfree       0\n",
       "equip          0\n",
       "callcard       0\n",
       "wireless       0\n",
       "longmon        0\n",
       "tollmon        0\n",
       "equipmon       0\n",
       "cardmon        0\n",
       "wiremon        0\n",
       "longten        0\n",
       "tollten        0\n",
       "equipten       0\n",
       "cardten        0\n",
       "wireten        0\n",
       "multline       0\n",
       "voice          0\n",
       "pager          0\n",
       "internet       0\n",
       "callid         0\n",
       "callwait       0\n",
       "forward        0\n",
       "confer         0\n",
       "ebill          0\n",
       "loglong        0\n",
       "logtoll      525\n",
       "logequi      614\n",
       "logcard      322\n",
       "logwire      704\n",
       "lninc          0\n",
       "custcat        0\n",
       "churn          0\n",
       "dtype: int64"
      ]
     },
     "execution_count": 17,
     "metadata": {},
     "output_type": "execute_result"
    }
   ],
   "source": [
    "## check null value\n",
    "\n",
    "df.isnull().sum()"
   ]
  },
  {
   "cell_type": "markdown",
   "metadata": {},
   "source": [
    "-  as we can see there are 4 variables with many null values, which are logtoll, logequip, logcard, logwire\n",
    "- we can further explore the distribution of these variables and determine the treatment of null value, such as replace with zeroes or meanvalue & other\n",
    "\n",
    "- meanwhile, the loglong contain no null value, and we can try make inference based on this variable, it is a log-scale of long distance call duration, logtoll --> can be log of toll free call duration, logwire --> can be log of cetain wireless usage duration\n",
    "\n",
    "- we can try replace it with zero values first, as some of the user might not use these service at all"
   ]
  },
  {
   "cell_type": "code",
   "execution_count": 94,
   "metadata": {},
   "outputs": [],
   "source": [
    "## deal with null value\n",
    "df = df.fillna(0)"
   ]
  },
  {
   "cell_type": "code",
   "execution_count": null,
   "metadata": {},
   "outputs": [],
   "source": []
  },
  {
   "cell_type": "code",
   "execution_count": 512,
   "metadata": {},
   "outputs": [],
   "source": [
    "## seaborn pairplot\n",
    "\n",
    "# sns.pairplot(df[:100])"
   ]
  },
  {
   "cell_type": "code",
   "execution_count": 18,
   "metadata": {
    "collapsed": true
   },
   "outputs": [
    {
     "name": "stdout",
     "output_type": "stream",
     "text": [
      "             region    tenure       age   marital   address    income  \\\n",
      "region     1.000000  0.016388  0.015034 -0.080637  0.010320  0.023765   \n",
      "tenure     0.016388  1.000000  0.490217  0.154171  0.522952  0.242912   \n",
      "age        0.015034  0.490217  1.000000 -0.014433  0.660435  0.327948   \n",
      "marital   -0.080637  0.154171 -0.014433  1.000000 -0.012051 -0.043984   \n",
      "address    0.010320  0.522952  0.660435 -0.012051  1.000000  0.226781   \n",
      "income     0.023765  0.242912  0.327948 -0.043984  0.226781  1.000000   \n",
      "education -0.057952 -0.109797 -0.154857  0.001400 -0.128330  0.113939   \n",
      "employ     0.016335  0.520288  0.670047 -0.002891  0.463291  0.516349   \n",
      "retire     0.005595  0.171143  0.429440 -0.078109  0.292503 -0.083651   \n",
      "gender     0.050596  0.023533 -0.011419  0.008345  0.008363  0.038706   \n",
      "reside    -0.065158 -0.036592 -0.254993  0.625999 -0.201645 -0.097591   \n",
      "tollfree   0.025953  0.068731  0.092821  0.013499  0.065917  0.138450   \n",
      "equip     -0.016346 -0.153177 -0.172481 -0.000288 -0.153154 -0.036987   \n",
      "callcard   0.008091  0.462182  0.280004  0.057318  0.257383  0.131210   \n",
      "wireless  -0.006745  0.003007 -0.010203  0.032773 -0.036525  0.093583   \n",
      "longmon   -0.001581  0.713678  0.401273  0.129905  0.465633  0.194624   \n",
      "tollmon    0.029748  0.226529  0.168817  0.069274  0.149459  0.173492   \n",
      "equipmon  -0.015332 -0.060356 -0.127305  0.013013 -0.114087  0.001052   \n",
      "cardmon   -0.003259  0.439972  0.290600  0.100684  0.276900  0.120870   \n",
      "wiremon    0.007597  0.102091  0.034313  0.049864  0.013004  0.128254   \n",
      "longten    0.007032  0.747307  0.423223  0.121588  0.490878  0.209389   \n",
      "tollten    0.015826  0.487215  0.301531  0.084645  0.300070  0.235904   \n",
      "equipten  -0.007275  0.307137  0.049751  0.091361  0.058411  0.082987   \n",
      "cardten    0.002580  0.676737  0.394331  0.125669  0.410420  0.169710   \n",
      "wireten    0.020980  0.327803  0.143856  0.082498  0.129098  0.185441   \n",
      "multline  -0.033015  0.409630  0.124928  0.091619  0.155581  0.103220   \n",
      "voice     -0.015158 -0.005591 -0.032376  0.019654 -0.053372  0.131332   \n",
      "pager      0.000720 -0.020721 -0.054876  0.044654 -0.055969  0.112121   \n",
      "internet  -0.000244 -0.140888 -0.141025  0.024220 -0.131174 -0.009436   \n",
      "callid     0.018199  0.058311  0.080998  0.035648  0.032155  0.156401   \n",
      "callwait   0.010620  0.086777  0.073685  0.023712  0.059891  0.135933   \n",
      "forward    0.017541  0.085884  0.080595  0.043866  0.078042  0.117148   \n",
      "confer    -0.017269  0.133585  0.121193  0.006040  0.087962  0.138563   \n",
      "ebill      0.030039 -0.157095 -0.144425 -0.056495 -0.131088 -0.034062   \n",
      "loglong   -0.008797  0.840693  0.428655  0.164174  0.471809  0.201632   \n",
      "logtoll   -0.024545  0.527153  0.289699  0.159945  0.296358  0.140467   \n",
      "logequi   -0.002438  0.409218  0.193753  0.068520  0.164670  0.219956   \n",
      "logcard   -0.035569  0.224460  0.153400  0.122356  0.147842  0.057215   \n",
      "logwire    0.047257  0.460874  0.217937  0.106708  0.215169  0.181376   \n",
      "lninc     -0.005515  0.333131  0.388472 -0.011274  0.262437  0.780465   \n",
      "custcat   -0.023771  0.166691  0.056909  0.083836  0.067913  0.134525   \n",
      "churn     -0.016567 -0.376828 -0.252819 -0.038701 -0.243072 -0.091339   \n",
      "\n",
      "           education    employ    retire    gender  ...    confer     ebill  \\\n",
      "region     -0.057952  0.016335  0.005595  0.050596  ... -0.017269  0.030039   \n",
      "tenure     -0.109797  0.520288  0.171143  0.023533  ...  0.133585 -0.157095   \n",
      "age        -0.154857  0.670047  0.429440 -0.011419  ...  0.121193 -0.144425   \n",
      "marital     0.001400 -0.002891 -0.078109  0.008345  ...  0.006040 -0.056495   \n",
      "address    -0.128330  0.463291  0.292503  0.008363  ...  0.087962 -0.131088   \n",
      "income      0.113939  0.516349 -0.083651  0.038706  ...  0.138563 -0.034062   \n",
      "education   1.000000 -0.228580 -0.114229  0.006704  ...  0.016628  0.405040   \n",
      "employ     -0.228580  1.000000  0.277401  0.046016  ...  0.168608 -0.182043   \n",
      "retire     -0.114229  0.277401  1.000000  0.053906  ...  0.060538 -0.082524   \n",
      "gender      0.006704  0.046016  0.053906  1.000000  ... -0.002137 -0.015771   \n",
      "reside      0.021045 -0.134683 -0.140120  0.016556  ... -0.005800  0.000287   \n",
      "tollfree    0.029416  0.142727  0.044684 -0.016263  ...  0.572988 -0.044998   \n",
      "equip       0.443835 -0.204244 -0.108141 -0.002310  ... -0.011388  0.568914   \n",
      "callcard   -0.064705  0.292415  0.092368  0.002030  ...  0.362315 -0.095422   \n",
      "wireless    0.321630 -0.013076 -0.040492 -0.000140  ...  0.418009  0.336408   \n",
      "longmon    -0.090403  0.469142  0.271877  0.014520  ...  0.109595 -0.150669   \n",
      "tollmon    -0.021795  0.235056  0.086179  0.008925  ...  0.554082 -0.081842   \n",
      "equipmon    0.461308 -0.161108 -0.093075  0.001624  ...  0.106340  0.567337   \n",
      "cardmon    -0.064219  0.276390  0.124455 -0.020723  ...  0.282573 -0.093046   \n",
      "wiremon     0.320265  0.031978 -0.027316  0.012877  ...  0.423994  0.332919   \n",
      "longten    -0.101509  0.497399  0.283651  0.023679  ...  0.117063 -0.151497   \n",
      "tollten    -0.050319  0.381430  0.145919  0.009331  ...  0.471835 -0.106710   \n",
      "equipten    0.338000  0.021850 -0.051888  0.015318  ...  0.121992  0.382180   \n",
      "cardten    -0.097718  0.401080  0.182542  0.013001  ...  0.152180 -0.117186   \n",
      "wireten     0.224562  0.152311  0.020352  0.023266  ...  0.349481  0.219277   \n",
      "multline    0.265969  0.118670  0.025311  0.021740  ...  0.046258  0.243643   \n",
      "voice       0.309637 -0.031077 -0.054319  0.016671  ...  0.366939  0.311496   \n",
      "pager       0.301666 -0.015728 -0.056666 -0.031609  ...  0.341448  0.311889   \n",
      "internet    0.460052 -0.198614 -0.120472  0.019685  ...  0.005242  0.538582   \n",
      "callid      0.031532  0.143053  0.032087  0.001294  ...  0.610598 -0.030871   \n",
      "callwait    0.014027  0.152555  0.049210 -0.031012  ...  0.582387 -0.061861   \n",
      "forward     0.029790  0.115801  0.036188 -0.035548  ...  0.598119 -0.024442   \n",
      "confer      0.016628  0.168608  0.060538 -0.002137  ...  1.000000 -0.038264   \n",
      "ebill       0.405040 -0.182043 -0.082524 -0.015771  ... -0.038264  1.000000   \n",
      "loglong    -0.074736  0.460555  0.196626  0.003085  ...  0.112828 -0.155570   \n",
      "logtoll    -0.095736  0.323609  0.117563  0.054466  ...  0.399247 -0.115928   \n",
      "logequi     0.239892  0.186230  0.072918  0.019388  ...  0.564233  0.167024   \n",
      "logcard    -0.043079  0.141459  0.083273 -0.053282  ...  0.125163 -0.058256   \n",
      "logwire     0.135359  0.215019  0.075666  0.062400  ...  0.277389  0.118723   \n",
      "lninc       0.154085  0.633625 -0.212396  0.027102  ...  0.165538  0.007923   \n",
      "custcat     0.193864  0.110011  0.008908 -0.004966  ...  0.663595  0.154040   \n",
      "churn       0.203965 -0.274213 -0.104648  0.006021  ... -0.065237  0.256880   \n",
      "\n",
      "            loglong   logtoll   logequi   logcard   logwire     lninc  \\\n",
      "region    -0.008797 -0.024545 -0.002438 -0.035569  0.047257 -0.005515   \n",
      "tenure     0.840693  0.527153  0.409218  0.224460  0.460874  0.333131   \n",
      "age        0.428655  0.289699  0.193753  0.153400  0.217937  0.388472   \n",
      "marital    0.164174  0.159945  0.068520  0.122356  0.106708 -0.011274   \n",
      "address    0.471809  0.296358  0.164670  0.147842  0.215169  0.262437   \n",
      "income     0.201632  0.140467  0.219956  0.057215  0.181376  0.780465   \n",
      "education -0.074736 -0.095736  0.239892 -0.043079  0.135359  0.154085   \n",
      "employ     0.460555  0.323609  0.186230  0.141459  0.215019  0.633625   \n",
      "retire     0.196626  0.117563  0.072918  0.083273  0.075666 -0.212396   \n",
      "gender     0.003085  0.054466  0.019388 -0.053282  0.062400  0.027102   \n",
      "reside    -0.026630  0.030067  0.050897  0.045042  0.066905 -0.097024   \n",
      "tollfree   0.095404 -0.212593  0.494797  0.069436  0.249300  0.176720   \n",
      "equip     -0.147287 -0.150278       NaN -0.007885  0.104648 -0.004755   \n",
      "callcard   0.417689  0.309634  0.509365       NaN  0.263173  0.220515   \n",
      "wireless   0.005941  0.171069  0.707672  0.084478       NaN  0.141650   \n",
      "longmon    0.874327  0.404651  0.290880  0.223808  0.359618  0.258701   \n",
      "tollmon    0.221644  0.919885  0.577430  0.155664  0.438573  0.209095   \n",
      "equipmon  -0.061691 -0.059073  0.984105  0.031227  0.311476  0.042870   \n",
      "cardmon    0.419856  0.365558  0.448306  0.920377  0.295943  0.193973   \n",
      "wiremon    0.088607  0.289230  0.804399  0.128834  0.967954  0.178445   \n",
      "longten    0.826831  0.422035  0.290708  0.242243  0.377605  0.270868   \n",
      "tollten    0.441474  0.779677  0.527747  0.195837  0.502225  0.282864   \n",
      "equipten   0.250909  0.138969  0.644495  0.092288  0.448101  0.139388   \n",
      "cardten    0.611523  0.483140  0.368110  0.721813  0.424568  0.245715   \n",
      "wireten    0.275079  0.415024  0.681858  0.135631  0.753533  0.219139   \n",
      "multline   0.368335  0.215411  0.337222  0.105803  0.380845  0.153973   \n",
      "voice     -0.002250  0.180125  0.611197  0.115808  0.390083  0.140722   \n",
      "pager     -0.016010  0.138713  0.616826  0.078910  0.435407  0.144176   \n",
      "internet  -0.125168 -0.078975  0.288972 -0.074400  0.169156  0.003289   \n",
      "callid     0.071532  0.300740  0.544049  0.079954  0.226797  0.179052   \n",
      "callwait   0.111976  0.310119  0.539082  0.079710  0.236193  0.157662   \n",
      "forward    0.101882  0.292348  0.527209  0.128921  0.271462  0.139255   \n",
      "confer     0.112828  0.399247  0.564233  0.125163  0.277389  0.165538   \n",
      "ebill     -0.155570 -0.115928  0.167024 -0.058256  0.118723  0.007923   \n",
      "loglong    1.000000  0.458813  0.383848  0.226786  0.402766  0.287624   \n",
      "logtoll    0.458813  1.000000  0.520037  0.307389  0.451068  0.204363   \n",
      "logequi    0.383848  0.520037  1.000000  0.228796  0.764156  0.243526   \n",
      "logcard    0.226786  0.307389  0.228796  1.000000  0.212088  0.073510   \n",
      "logwire    0.402766  0.451068  0.764156  0.212088  1.000000  0.234576   \n",
      "lninc      0.287624  0.204363  0.243526  0.073510  0.234576  1.000000   \n",
      "custcat    0.176963  0.317034  0.698980  0.124597  0.487991  0.190948   \n",
      "churn     -0.336367 -0.209531 -0.154933  0.027984 -0.080080 -0.104647   \n",
      "\n",
      "            custcat     churn  \n",
      "region    -0.023771 -0.016567  \n",
      "tenure     0.166691 -0.376828  \n",
      "age        0.056909 -0.252819  \n",
      "marital    0.083836 -0.038701  \n",
      "address    0.067913 -0.243072  \n",
      "income     0.134525 -0.091339  \n",
      "education  0.193864  0.203965  \n",
      "employ     0.110011 -0.274213  \n",
      "retire     0.008908 -0.104648  \n",
      "gender    -0.004966  0.006021  \n",
      "reside     0.082022  0.009852  \n",
      "tollfree   0.610182 -0.021895  \n",
      "equip      0.212828  0.305051  \n",
      "callcard   0.416316 -0.243634  \n",
      "wireless   0.608130  0.132103  \n",
      "longmon    0.149224 -0.272372  \n",
      "tollmon    0.561467 -0.090126  \n",
      "equipmon   0.351927  0.253659  \n",
      "cardmon    0.332065 -0.156919  \n",
      "wiremon    0.622253  0.099533  \n",
      "longten    0.146896 -0.275460  \n",
      "tollten    0.458457 -0.162703  \n",
      "equipten   0.307143  0.021670  \n",
      "cardten    0.199422 -0.232340  \n",
      "wireten    0.491511 -0.032341  \n",
      "multline   0.340995 -0.014143  \n",
      "voice      0.582359  0.159410  \n",
      "pager      0.607790  0.130111  \n",
      "internet   0.232929  0.270432  \n",
      "callid     0.696649 -0.021513  \n",
      "callwait   0.692978 -0.062314  \n",
      "forward    0.700065 -0.018306  \n",
      "confer     0.663595 -0.065237  \n",
      "ebill      0.154040  0.256880  \n",
      "loglong    0.176963 -0.336367  \n",
      "logtoll    0.317034 -0.209531  \n",
      "logequi    0.698980 -0.154933  \n",
      "logcard    0.124597  0.027984  \n",
      "logwire    0.487991 -0.080080  \n",
      "lninc      0.190948 -0.104647  \n",
      "custcat    1.000000  0.007132  \n",
      "churn      0.007132  1.000000  \n",
      "\n",
      "[42 rows x 42 columns]\n"
     ]
    }
   ],
   "source": [
    "## correlation matrix\n",
    "\n",
    "corr = df.corr()\n",
    "\n",
    "print(corr)\n",
    "\n"
   ]
  },
  {
   "cell_type": "code",
   "execution_count": 23,
   "metadata": {},
   "outputs": [
    {
     "data": {
      "text/plain": [
       "Index(['region', 'tenure', 'age', 'marital', 'address', 'income', 'education',\n",
       "       'employ', 'retire', 'gender', 'reside', 'tollfree', 'equip', 'callcard',\n",
       "       'wireless', 'longmon', 'tollmon', 'equipmon', 'cardmon', 'wiremon',\n",
       "       'longten', 'tollten', 'equipten', 'cardten', 'wireten', 'multline',\n",
       "       'voice', 'pager', 'internet', 'callid', 'callwait', 'forward', 'confer',\n",
       "       'ebill', 'loglong', 'logtoll', 'logequi', 'logcard', 'logwire', 'lninc',\n",
       "       'custcat', 'churn'],\n",
       "      dtype='object')"
      ]
     },
     "execution_count": 23,
     "metadata": {},
     "output_type": "execute_result"
    }
   ],
   "source": [
    "corr.columns"
   ]
  },
  {
   "cell_type": "code",
   "execution_count": 19,
   "metadata": {
    "collapsed": true
   },
   "outputs": [
    {
     "data": {
      "text/plain": [
       "<matplotlib.axes._subplots.AxesSubplot at 0x177c33c8088>"
      ]
     },
     "execution_count": 19,
     "metadata": {},
     "output_type": "execute_result"
    },
    {
     "data": {
      "image/png": "[encoded data removed]",
      "text/plain": [
       "<Figure size 576x432 with 2 Axes>"
      ]
     },
     "metadata": {
      "needs_background": "light"
     },
     "output_type": "display_data"
    }
   ],
   "source": [
    "# corr heatmap \n",
    "sns.heatmap(corr,  cmap=\"YlGnBu\" , square=True)\n"
   ]
  },
  {
   "cell_type": "markdown",
   "metadata": {},
   "source": [
    "- there are some variables that are highly-correlated such as \n",
    "- there is no variable highly-correlated with churn"
   ]
  },
  {
   "cell_type": "code",
   "execution_count": 25,
   "metadata": {},
   "outputs": [
    {
     "data": {
      "application/vnd.plotly.v1+json": {
       "config": {
        "plotlyServerURL": "https://plot.ly"
       },
       "data": [
        {
         "colorscale": [
          [
           0,
           "#440154"
          ],
          [
           0.1111111111111111,
           "#482878"
          ],
          [
           0.2222222222222222,
           "#3e4989"
          ],
          [
           0.3333333333333333,
           "#31688e"
          ],
          [
           0.4444444444444444,
           "#26828e"
          ],
          [
           0.5555555555555556,
           "#1f9e89"
          ],
          [
           0.6666666666666666,
           "#35b779"
          ],
          [
           0.7777777777777778,
           "#6ece58"
          ],
          [
           0.8888888888888888,
           "#b5de2b"
          ],
          [
           1,
           "#fde725"
          ]
         ],
         "type": "heatmap",
         "x": [
          "region",
          "tenure",
          "age",
          "marital",
          "address",
          "income",
          "education",
          "employ",
          "retire",
          "gender",
          "reside",
          "tollfree",
          "equip",
          "callcard",
          "wireless",
          "longmon",
          "tollmon",
          "equipmon",
          "cardmon",
          "wiremon",
          "longten",
          "tollten",
          "equipten",
          "cardten",
          "wireten",
          "multline",
          "voice",
          "pager",
          "internet",
          "callid",
          "callwait",
          "forward",
          "confer",
          "ebill",
          "loglong",
          "logtoll",
          "logequi",
          "logcard",
          "logwire",
          "lninc",
          "custcat",
          "churn"
         ],
         "y": [
          "region",
          "tenure",
          "age",
          "marital",
          "address",
          "income",
          "education",
          "employ",
          "retire",
          "gender",
          "reside",
          "tollfree",
          "equip",
          "callcard",
          "wireless",
          "longmon",
          "tollmon",
          "equipmon",
          "cardmon",
          "wiremon",
          "longten",
          "tollten",
          "equipten",
          "cardten",
          "wireten",
          "multline",
          "voice",
          "pager",
          "internet",
          "callid",
          "callwait",
          "forward",
          "confer",
          "ebill",
          "loglong",
          "logtoll",
          "logequi",
          "logcard",
          "logwire",
          "lninc",
          "custcat",
          "churn"
         ],
         "z": [
          [
           1,
           0.016388422638292672,
           0.015034002953239756,
           -0.08063736622926355,
           0.010320122274923417,
           0.023764677138991955,
           -0.057951959156617355,
           0.016334968438778578,
           0.005595030993295714,
           0.050596086453023006,
           -0.06515809134301338,
           0.025953495663499915,
           -0.016346373680626643,
           0.008090816213374173,
           -0.0067454076286422825,
           -0.0015808114369786409,
           0.029747533879684238,
           -0.015332063460451049,
           -0.003259415424364909,
           0.0075971753159768535,
           0.007032250808178731,
           0.01582556831414062,
           -0.007275358876827783,
           0.0025798519032235716,
           0.02097971380825794,
           -0.03301540106045141,
           -0.015157896090812329,
           0.000720108575142013,
           -0.00024401107264914807,
           0.018199160762970734,
           0.010620235862871358,
           0.017540511188633787,
           -0.017269253585669535,
           0.03003909245670337,
           -0.008796806858430404,
           -0.024545139143969295,
           -0.0024376526111038275,
           -0.03556914192367417,
           0.04725671362836228,
           -0.005515414780174855,
           -0.023770651305126844,
           -0.016567249067909365
          ],
          [
           0.016388422638292672,
           1,
           0.49021725957909,
           0.15417137258359528,
           0.5229521681440303,
           0.24291221751367376,
           -0.10979683147186443,
           0.5202884191871192,
           0.17114338073944674,
           0.02353287886729164,
           -0.03659249666523727,
           0.06873053971954757,
           -0.15317746488100792,
           0.46218198947878486,
           0.0030068693072866004,
           0.7136778049367565,
           0.22652904558801512,
           -0.060356183646650685,
           0.43997171677656677,
           0.1020905519719616,
           0.7473074655843217,
           0.48721462741237753,
           0.30713718981137517,
           0.6767369063901483,
           0.3278034036719336,
           0.4096297439308058,
           -0.005590908770682831,
           -0.02072138908919249,
           -0.14088847735750692,
           0.058310908740579294,
           0.08677702184171382,
           0.08588376912400171,
           0.13358478318701372,
           -0.1570947627988282,
           0.8406932309887876,
           0.527153166534657,
           0.4092183948465951,
           0.22446009698982222,
           0.46087397501606875,
           0.33313055552189796,
           0.1666905578826468,
           -0.37682844906621626
          ],
          [
           0.015034002953239756,
           0.49021725957909,
           1,
           -0.014432865828528567,
           0.6604349979763406,
           0.3279477737613509,
           -0.1548569596187364,
           0.6700469860278451,
           0.42943998137092065,
           -0.011419117309714545,
           -0.2549932735520098,
           0.09282143470854387,
           -0.1724809789458753,
           0.2800041739898198,
           -0.010202929530550136,
           0.40127256306444054,
           0.1688171183176258,
           -0.12730540948267546,
           0.29060018738768045,
           0.03431281774987947,
           0.4232232757892742,
           0.3015309370651468,
           0.049751030817782434,
           0.3943311750358555,
           0.14385633661534755,
           0.12492786383726931,
           -0.032375768085664766,
           -0.05487643722868196,
           -0.14102544670729772,
           0.08099768790420246,
           0.07368521883440585,
           0.08059528373300122,
           0.12119274126342679,
           -0.14442532638679814,
           0.42865468273979107,
           0.289699278320861,
           0.19375253614697577,
           0.15339970750172086,
           0.21793727074061636,
           0.3884717253468511,
           0.05690892712798072,
           -0.25281861938041733
          ],
          [
           -0.08063736622926355,
           0.15417137258359528,
           -0.014432865828528567,
           1,
           -0.012051225242736609,
           -0.04398408839581781,
           0.0013996613720133812,
           -0.002890873000635555,
           -0.07810866050394705,
           0.008345241975951847,
           0.6259987754850056,
           0.013498936967423021,
           -0.0002875887635260758,
           0.05731779907135935,
           0.032773371750189025,
           0.12990527966282986,
           0.0692743845707523,
           0.01301276944490634,
           0.10068447315319155,
           0.04986351645419247,
           0.12158811108146973,
           0.08464526547976409,
           0.09136127793953498,
           0.12566931537859952,
           0.08249812379210303,
           0.09161917097396081,
           0.019653899668076572,
           0.044653636900997336,
           0.024220444552480864,
           0.0356475279467213,
           0.02371185782681093,
           0.043866492291401035,
           0.006040350345647997,
           -0.05649538517786189,
           0.16417412065776404,
           0.15994485003152428,
           0.06852023360948901,
           0.12235622766882517,
           0.10670815779908203,
           -0.01127354771700025,
           0.08383570717342569,
           -0.0387007084678578
          ],
          [
           0.010320122274923417,
           0.5229521681440303,
           0.6604349979763406,
           -0.012051225242736609,
           1,
           0.22678100734020967,
           -0.12833033549409978,
           0.4632909216782414,
           0.29250267807628627,
           0.008363200375022592,
           -0.20164508446837406,
           0.06591698347785589,
           -0.15315373043515887,
           0.25738307270202115,
           -0.036525330120717514,
           0.46563296243916846,
           0.14945924629388882,
           -0.11408677310642776,
           0.27689985742231005,
           0.01300407911646732,
           0.4908778620985995,
           0.30006962568299383,
           0.05841076413508309,
           0.41042040987058614,
           0.1290975993838885,
           0.15558107378550434,
           -0.05337154393937748,
           -0.0559689375924008,
           -0.13117444400240721,
           0.03215471314497594,
           0.059891244704893445,
           0.07804200160957711,
           0.0879622147556103,
           -0.13108827312948634,
           0.47180862414451,
           0.29635828722447144,
           0.16466954423047736,
           0.1478419513624435,
           0.21516869526844143,
           0.2624371451653095,
           0.06791316309090531,
           -0.24307214586155382
          ],
          [
           0.023764677138991955,
           0.24291221751367376,
           0.3279477737613509,
           -0.04398408839581781,
           0.22678100734020967,
           1,
           0.11393868306829918,
           0.5163486389893354,
           -0.0836511855379861,
           0.03870623373529445,
           -0.09759105643021962,
           0.1384500738985833,
           -0.03698687907864872,
           0.1312100143867657,
           0.09358345797742364,
           0.19462370241549792,
           0.1734923148824548,
           0.0010522144848910914,
           0.12087010064981096,
           0.12825447588697433,
           0.20938874203753058,
           0.23590402203879526,
           0.08298652050961652,
           0.1697102662380019,
           0.18544145639456563,
           0.10321990959871141,
           0.1313321918082256,
           0.11212117508388633,
           -0.009436126279945762,
           0.15640076133693553,
           0.13593336328427627,
           0.11714781413376585,
           0.13856333668000326,
           -0.03406232663673684,
           0.20163216142430707,
           0.1404666770205444,
           0.21995639793237864,
           0.05721505841024848,
           0.18137621706465773,
           0.7804648675466258,
           0.13452539502269487,
           -0.09133909075408327
          ],
          [
           -0.057951959156617355,
           -0.10979683147186443,
           -0.1548569596187364,
           0.0013996613720133812,
           -0.12833033549409978,
           0.11393868306829918,
           1,
           -0.2285803034052756,
           -0.11422894206440681,
           0.006703908199057777,
           0.02104482317210845,
           0.02941648459902279,
           0.44383481858934704,
           -0.06470468764616691,
           0.3216300880919711,
           -0.09040252334078905,
           -0.021794793528069116,
           0.46130771081487987,
           -0.06421949095983435,
           0.32026495592252674,
           -0.10150929432128873,
           -0.050318919038584556,
           0.33800002102014526,
           -0.09771767157855474,
           0.2245621279517741,
           0.26596856624956366,
           0.309637049764595,
           0.301665997920928,
           0.460052465442704,
           0.03153240574684257,
           0.014026781579375945,
           0.02979048039703487,
           0.01662826087589146,
           0.4050400535760745,
           -0.07473562411569885,
           -0.09573616436741214,
           0.2398922511032933,
           -0.04307922297871908,
           0.13535881354618903,
           0.1540846215434884,
           0.19386384961454142,
           0.20396488118082234
          ],
          [
           0.016334968438778578,
           0.5202884191871192,
           0.6700469860278451,
           -0.002890873000635555,
           0.4632909216782414,
           0.5163486389893354,
           -0.2285803034052756,
           1,
           0.27740077730608004,
           0.04601647737047378,
           -0.1346832977120954,
           0.14272734636635373,
           -0.20424380585095983,
           0.29241476864836974,
           -0.013076294688453732,
           0.4691424701610352,
           0.23505622390967942,
           -0.16110771387826062,
           0.276389729419386,
           0.03197828860228753,
           0.49739876905075686,
           0.381430172726078,
           0.021849873290698874,
           0.4010800696574157,
           0.15231052086263686,
           0.1186702819767985,
           -0.031076538171717686,
           -0.015728136013485734,
           -0.19861355115544935,
           0.14305257226353912,
           0.1525548391347076,
           0.11580105014061921,
           0.1686075266945854,
           -0.18204342975336096,
           0.4605545602150173,
           0.3236085691579972,
           0.1862300293003795,
           0.14145867047750557,
           0.21501873941452723,
           0.6336248311171065,
           0.11001069597646529,
           -0.2742131649379378
          ],
          [
           0.005595030993295714,
           0.17114338073944674,
           0.42943998137092065,
           -0.07810866050394705,
           0.29250267807628627,
           -0.0836511855379861,
           -0.11422894206440681,
           0.27740077730608004,
           1,
           0.053905964976057825,
           -0.14012033264386478,
           0.04468364168135555,
           -0.10814088936009314,
           0.09236827756477757,
           -0.040492191465949685,
           0.2718771313086711,
           0.08617937708839707,
           -0.093075232376512,
           0.12445492349783976,
           -0.027315956293172666,
           0.2836510920487009,
           0.14591944377388083,
           -0.05188796693476108,
           0.1825416066183817,
           0.020352076664609142,
           0.025310571449555078,
           -0.05431936140212326,
           -0.05666637955245625,
           -0.12047197404744572,
           0.03208723265612231,
           0.04920971737157045,
           0.0361878305246413,
           0.06053757569502232,
           -0.08252402316333246,
           0.19662603306797352,
           0.11756345718106727,
           0.07291795062612,
           0.08327275172533062,
           0.07566575354126086,
           -0.2123956738353791,
           0.008907859375651856,
           -0.10464778750284713
          ],
          [
           0.050596086453023006,
           0.02353287886729164,
           -0.011419117309714545,
           0.008345241975951847,
           0.008363200375022592,
           0.03870623373529445,
           0.006703908199057777,
           0.04601647737047378,
           0.053905964976057825,
           1,
           0.01655644781093764,
           -0.016263393229858758,
           -0.00231014713194796,
           0.0020300966847076585,
           -0.00014028103333020906,
           0.014519902872906545,
           0.008924714447956181,
           0.0016236259883782563,
           -0.020722688857032875,
           0.012876699997378015,
           0.023678633352346087,
           0.0093307699810548,
           0.015318210455333554,
           0.013001129982669841,
           0.023266474286361864,
           0.021739745171824372,
           0.016671138205766538,
           -0.0316089729421621,
           0.01968536151884842,
           0.0012936817997698555,
           -0.03101188046743101,
           -0.035548034569272406,
           -0.002137252777527765,
           -0.01577072875887085,
           0.0030849169202349855,
           0.05446612354507152,
           0.01938766871151873,
           -0.053282267432934516,
           0.06240003683940934,
           0.027101627693337023,
           -0.004966497351835191,
           0.006021297525098114
          ],
          [
           -0.06515809134301338,
           -0.03659249666523727,
           -0.2549932735520098,
           0.6259987754850056,
           -0.20164508446837406,
           -0.09759105643021962,
           0.02104482317210845,
           -0.1346832977120954,
           -0.14012033264386478,
           0.01655644781093764,
           1,
           0.025267717150950435,
           0.010354430087362776,
           -0.014045636894754233,
           0.03972531949680476,
           -0.03595010738493208,
           0.04548840150184466,
           0.02009595290805556,
           0.00473903979135148,
           0.04780250201361611,
           -0.04680260111653201,
           -0.0031136199844467977,
           0.013923253419490697,
           -0.020982131498272348,
           0.014850075132149863,
           0.0457342727462216,
           0.06874012715481172,
           0.06443255539643856,
           0.034955446904262305,
           0.0345723040632929,
           0.04108255971716201,
           0.04295250060852851,
           -0.005800441879595282,
           0.00028705580410380685,
           -0.026630271173693477,
           0.030066885327719114,
           0.05089695633317052,
           0.04504225072952165,
           0.06690519469549921,
           -0.09702401617661122,
           0.08202218369702716,
           0.009852260997048676
          ],
          [
           0.025953495663499915,
           0.06873053971954757,
           0.09282143470854387,
           0.013498936967423021,
           0.06591698347785589,
           0.1384500738985833,
           0.02941648459902279,
           0.14272734636635373,
           0.04468364168135555,
           -0.016263393229858758,
           0.025267717150950435,
           1,
           0.004261866823542676,
           0.36273482407711616,
           0.4022871524973652,
           0.07726013578802723,
           0.8072075623896527,
           0.10598469017159108,
           0.26806821520517377,
           0.4056141922195398,
           0.07227007700941779,
           0.6344550785603892,
           0.09023700326040582,
           0.12653325616989355,
           0.3148369744355482,
           0.011429740243726874,
           0.3348308572681386,
           0.4025940246752088,
           0.0023587604885079933,
           0.609287784028542,
           0.6456036408678695,
           0.5941339620661048,
           0.5729877815921924,
           -0.04499823679796097,
           0.09540398097074394,
           -0.2125934780627656,
           0.49479655043026444,
           0.06943554209360828,
           0.2493000749503027,
           0.17672010614234965,
           0.6101815997419455,
           -0.02189465278105143
          ],
          [
           -0.016346373680626643,
           -0.15317746488100792,
           -0.1724809789458753,
           -0.0002875887635260758,
           -0.15315373043515887,
           -0.03698687907864872,
           0.44383481858934704,
           -0.20424380585095983,
           -0.10814088936009314,
           -0.00231014713194796,
           0.010354430087362776,
           0.004261866823542676,
           1,
           -0.08224447649212552,
           0.3948275107400184,
           -0.10996338295426959,
           -0.05538598875741371,
           0.9409875172922192,
           -0.05668277589268572,
           0.37980529773740546,
           -0.107569987534242,
           -0.08546148931898274,
           0.68538125012221,
           -0.07973170318017352,
           0.26437896226766844,
           0.29060820486958755,
           0.34678137726772645,
           0.3660043400340099,
           0.6003589041042144,
           0.0013731323906733066,
           -0.02141338875437825,
           0.011101459208233362,
           -0.011388036700302901,
           0.5689138707401963,
           -0.14728740931999296,
           -0.15027849324112103,
           null,
           -0.007884895693819657,
           0.10464761317378146,
           -0.004754747259428055,
           0.21282764281211475,
           0.3050511508747483
          ],
          [
           0.008090816213374173,
           0.46218198947878486,
           0.2800041739898198,
           0.05731779907135935,
           0.25738307270202115,
           0.1312100143867657,
           -0.06470468764616691,
           0.29241476864836974,
           0.09236827756477757,
           0.0020300966847076585,
           -0.014045636894754233,
           0.36273482407711616,
           -0.08224447649212552,
           1,
           0.25932500462693103,
           0.3457524751508182,
           0.37043101331974165,
           0.028104480980834488,
           0.6746363790721065,
           0.2740496572699851,
           0.35060876414679526,
           0.33410311712479973,
           0.17527048813778612,
           0.5031491486432773,
           0.25381927849350167,
           0.14121673937644869,
           0.213508384877566,
           0.2000061087246839,
           -0.02442604731189244,
           0.36359391301883554,
           0.3647282313378662,
           0.37134641520620926,
           0.36231546000965653,
           -0.0954223949181086,
           0.4176892119419768,
           0.3096337987126504,
           0.5093646183014136,
           null,
           0.2631726391433639,
           0.22051455973513406,
           0.41631638731958764,
           -0.2436340007246777
          ],
          [
           -0.0067454076286422825,
           0.0030068693072866004,
           -0.010202929530550136,
           0.032773371750189025,
           -0.036525330120717514,
           0.09358345797742364,
           0.3216300880919711,
           -0.013076294688453732,
           -0.040492191465949685,
           -0.00014028103333020906,
           0.03972531949680476,
           0.4022871524973652,
           0.3948275107400184,
           0.25932500462693103,
           1,
           -0.009070076226595615,
           0.38575860666992046,
           0.5285460440853491,
           0.21312247568581472,
           0.9063966025496222,
           -0.008613919100244378,
           0.2840409462831272,
           0.4244398628739789,
           0.0754602052476476,
           0.7031913031556946,
           0.23863836128037358,
           0.6144265535272354,
           0.6571374033748741,
           0.38643104500520564,
           0.43679290252746206,
           0.40956813529227076,
           0.4165748107757616,
           0.41800942777070554,
           0.3364075887543697,
           0.005940984862276668,
           0.17106933005216995,
           0.7076724969452123,
           0.08447750069467659,
           null,
           0.1416501769240429,
           0.6081299473175732,
           0.13210276848236557
          ],
          [
           -0.0015808114369786409,
           0.7136778049367565,
           0.40127256306444054,
           0.12990527966282986,
           0.46563296243916846,
           0.19462370241549792,
           -0.09040252334078905,
           0.4691424701610352,
           0.2718771313086711,
           0.014519902872906545,
           -0.03595010738493208,
           0.07726013578802723,
           -0.10996338295426959,
           0.3457524751508182,
           -0.009070076226595615,
           1,
           0.2053989390545681,
           -0.047661742278608143,
           0.3949815241686045,
           0.06391064875290185,
           0.9832181262929334,
           0.4160455797905281,
           0.21027023270849268,
           0.5924405388840411,
           0.2347384947810257,
           0.33417486214411457,
           -0.004622049724589158,
           -0.008348598479512623,
           -0.12004037605984229,
           0.05625425766076838,
           0.09438158060452013,
           0.08887687506374578,
           0.1095948490275129,
           -0.15066917937514773,
           0.87432701923194,
           0.4046507376128683,
           0.2908798595597753,
           0.22380788271928573,
           0.35961783172958595,
           0.2587009318929063,
           0.14922405543475545,
           -0.2723717933577015
          ],
          [
           0.029747533879684238,
           0.22652904558801512,
           0.1688171183176258,
           0.0692743845707523,
           0.14945924629388882,
           0.1734923148824548,
           -0.021794793528069116,
           0.23505622390967942,
           0.08617937708839707,
           0.008924714447956181,
           0.04548840150184466,
           0.8072075623896527,
           -0.05538598875741371,
           0.37043101331974165,
           0.38575860666992046,
           0.2053989390545681,
           1,
           0.053753228288697566,
           0.3285610045494811,
           0.445982697244342,
           0.21156644392233587,
           0.8440649402382238,
           0.11499502062641517,
           0.2584466742827318,
           0.4378317262583061,
           0.07409673372141487,
           0.3338724508440078,
           0.38301631885529425,
           -0.03370277315738869,
           0.5651411603504892,
           0.5883679812971914,
           0.5511679316438722,
           0.5540820610339466,
           -0.0818422930014737,
           0.22164391780484793,
           0.9198852919893642,
           0.5774298191720821,
           0.15566422053677872,
           0.43857307538216384,
           0.20909482015269734,
           0.561467295157599,
           -0.09012614844893069
          ],
          [
           -0.015332063460451049,
           -0.060356183646650685,
           -0.12730540948267546,
           0.01301276944490634,
           -0.11408677310642776,
           0.0010522144848910914,
           0.46130771081487987,
           -0.16110771387826062,
           -0.093075232376512,
           0.0016236259883782563,
           0.02009595290805556,
           0.10598469017159108,
           0.9409875172922192,
           0.028104480980834488,
           0.5285460440853491,
           -0.047661742278608143,
           0.053753228288697566,
           1,
           0.03712855845747051,
           0.5611361433448372,
           -0.0456925858013599,
           0.01805193308682618,
           0.809290927863161,
           -0.0023414778205627295,
           0.43649237386963596,
           0.3386464215938224,
           0.462976957564722,
           0.4907311554663246,
           0.6187198118123174,
           0.11381073639900241,
           0.0908165629329923,
           0.11835867698064127,
           0.10634014299344717,
           0.5673371168977692,
           -0.06169119629632835,
           -0.059072513987551166,
           0.9841046894994216,
           0.031226840760266324,
           0.31147597646308306,
           0.04287003131886225,
           0.3519269364252986,
           0.25365900583802264
          ],
          [
           -0.003259415424364909,
           0.43997171677656677,
           0.29060018738768045,
           0.10068447315319155,
           0.27689985742231005,
           0.12087010064981096,
           -0.06421949095983435,
           0.276389729419386,
           0.12445492349783976,
           -0.020722688857032875,
           0.00473903979135148,
           0.26806821520517377,
           -0.05668277589268572,
           0.6746363790721065,
           0.21312247568581472,
           0.3949815241686045,
           0.3285610045494811,
           0.03712855845747051,
           1,
           0.25427714738399854,
           0.41087593034648284,
           0.34010413217826446,
           0.18108058172424515,
           0.8685575930549666,
           0.25571118364763534,
           0.16138514192947043,
           0.2013897790480213,
           0.1747922354194339,
           -0.056548442588444,
           0.27693176570219025,
           0.26973198056057585,
           0.2970241841240467,
           0.2825729919859615,
           -0.0930457406817791,
           0.41985575857789376,
           0.3655576193789307,
           0.44830626844727794,
           0.9203773751367574,
           0.2959433379791004,
           0.19397304040854726,
           0.33206537190682084,
           -0.15691922036699657
          ],
          [
           0.0075971753159768535,
           0.1020905519719616,
           0.03431281774987947,
           0.04986351645419247,
           0.01300407911646732,
           0.12825447588697433,
           0.32026495592252674,
           0.03197828860228753,
           -0.027315956293172666,
           0.012876699997378015,
           0.04780250201361611,
           0.4056141922195398,
           0.37980529773740546,
           0.2740496572699851,
           0.9063966025496222,
           0.06391064875290185,
           0.445982697244342,
           0.5611361433448372,
           0.25427714738399854,
           1,
           0.06880102907736181,
           0.39172105603095986,
           0.5284097051201753,
           0.1559779443890488,
           0.8752369947328426,
           0.29204576955240047,
           0.6376581112987567,
           0.6890216585763269,
           0.3873816555723518,
           0.42976122076608236,
           0.4093062794365384,
           0.41998321679493755,
           0.42399372678984865,
           0.3329192389393149,
           0.08860738807552414,
           0.2892302700034577,
           0.8043992233248357,
           0.12883371559109452,
           0.9679539505250104,
           0.17844478766464714,
           0.6222530562013728,
           0.0995332757578406
          ],
          [
           0.007032250808178731,
           0.7473074655843217,
           0.4232232757892742,
           0.12158811108146973,
           0.4908778620985995,
           0.20938874203753058,
           -0.10150929432128873,
           0.49739876905075686,
           0.2836510920487009,
           0.023678633352346087,
           -0.04680260111653201,
           0.07227007700941779,
           -0.107569987534242,
           0.35060876414679526,
           -0.008613919100244378,
           0.9832181262929334,
           0.21156644392233587,
           -0.0456925858013599,
           0.41087593034648284,
           0.06880102907736181,
           1,
           0.4386007838650763,
           0.2190445240494822,
           0.6290470909337798,
           0.2510044147790973,
           0.3478557578932977,
           -0.002280786857894967,
           -0.008047652163947702,
           -0.12212349550373394,
           0.056249235608071324,
           0.0853231308642755,
           0.08548307814630453,
           0.11706321823748476,
           -0.15149667933872235,
           0.8268313272070905,
           0.42203456372222886,
           0.2907076736017799,
           0.24224304592570398,
           0.3776054671390508,
           0.2708683436621161,
           0.1468963758669725,
           -0.2754602178817853
          ],
          [
           0.01582556831414062,
           0.48721462741237753,
           0.3015309370651468,
           0.08464526547976409,
           0.30006962568299383,
           0.23590402203879526,
           -0.050318919038584556,
           0.381430172726078,
           0.14591944377388083,
           0.0093307699810548,
           -0.0031136199844467977,
           0.6344550785603892,
           -0.08546148931898274,
           0.33410311712479973,
           0.2840409462831272,
           0.4160455797905281,
           0.8440649402382238,
           0.01805193308682618,
           0.34010413217826446,
           0.39172105603095986,
           0.4386007838650763,
           1,
           0.18501415863413362,
           0.4207519369325606,
           0.524473619731234,
           0.2001652270595056,
           0.2529618522779657,
           0.28367242794186304,
           -0.07556432944243352,
           0.4596387553636913,
           0.4765049982842145,
           0.44296792294288817,
           0.4718350609422307,
           -0.10670975869739498,
           0.44147351025250914,
           0.779677310029863,
           0.5277471290727961,
           0.1958374777731266,
           0.5022248923234278,
           0.28286393308691965,
           0.4584571634306776,
           -0.16270293428955254
          ],
          [
           -0.007275358876827783,
           0.30713718981137517,
           0.049751030817782434,
           0.09136127793953498,
           0.05841076413508309,
           0.08298652050961652,
           0.33800002102014526,
           0.021849873290698874,
           -0.05188796693476108,
           0.015318210455333554,
           0.013923253419490697,
           0.09023700326040582,
           0.68538125012221,
           0.17527048813778612,
           0.4244398628739789,
           0.21027023270849268,
           0.11499502062641517,
           0.809290927863161,
           0.18108058172424515,
           0.5284097051201753,
           0.2190445240494822,
           0.18501415863413362,
           1,
           0.23447461473036854,
           0.6027619911363409,
           0.3865173901908781,
           0.3624009828006379,
           0.3716151957323668,
           0.45609927295103475,
           0.12116621486495753,
           0.08088614046174863,
           0.10532327933455361,
           0.12199188525143301,
           0.38218041397261415,
           0.2509085958411224,
           0.13896911514026145,
           0.644495117687673,
           0.09228808837431805,
           0.44810110307211015,
           0.13938752460413154,
           0.3071433385800808,
           0.02167009520848411
          ],
          [
           0.0025798519032235716,
           0.6767369063901483,
           0.3943311750358555,
           0.12566931537859952,
           0.41042040987058614,
           0.1697102662380019,
           -0.09771767157855474,
           0.4010800696574157,
           0.1825416066183817,
           0.013001129982669841,
           -0.020982131498272348,
           0.12653325616989355,
           -0.07973170318017352,
           0.5031491486432773,
           0.0754602052476476,
           0.5924405388840411,
           0.2584466742827318,
           -0.0023414778205627295,
           0.8685575930549666,
           0.1559779443890488,
           0.6290470909337798,
           0.4207519369325606,
           0.23447461473036854,
           1,
           0.2840770850696932,
           0.2833142927750924,
           0.0789193658603043,
           0.06710637638014103,
           -0.10584359347573374,
           0.13043135320698657,
           0.12354616648330582,
           0.14943908034674153,
           0.1521797107058802,
           -0.11718583459936337,
           0.61152336502338,
           0.483140220120532,
           0.3681104384811773,
           0.7218126872827043,
           0.42456839087684073,
           0.24571465100761544,
           0.19942237504847946,
           -0.23233963443477815
          ],
          [
           0.02097971380825794,
           0.3278034036719336,
           0.14385633661534755,
           0.08249812379210303,
           0.1290975993838885,
           0.18544145639456563,
           0.2245621279517741,
           0.15231052086263686,
           0.020352076664609142,
           0.023266474286361864,
           0.014850075132149863,
           0.3148369744355482,
           0.26437896226766844,
           0.25381927849350167,
           0.7031913031556946,
           0.2347384947810257,
           0.4378317262583061,
           0.43649237386963596,
           0.25571118364763534,
           0.8752369947328426,
           0.2510044147790973,
           0.524473619731234,
           0.6027619911363409,
           0.2840770850696932,
           1,
           0.32482676045549347,
           0.49641538901683074,
           0.5239478904930286,
           0.27433130666713096,
           0.34399698124259626,
           0.3196233367180674,
           0.3403089257215939,
           0.34948091353390726,
           0.21927732005631,
           0.27507889721242385,
           0.4150235660361639,
           0.6818583590353697,
           0.13563079590052174,
           0.7535334572645855,
           0.21913887508366559,
           0.4915113347665151,
           -0.03234146631582668
          ],
          [
           -0.03301540106045141,
           0.4096297439308058,
           0.12492786383726931,
           0.09161917097396081,
           0.15558107378550434,
           0.10321990959871141,
           0.26596856624956366,
           0.1186702819767985,
           0.025310571449555078,
           0.021739745171824372,
           0.0457342727462216,
           0.011429740243726874,
           0.29060820486958755,
           0.14121673937644869,
           0.23863836128037358,
           0.33417486214411457,
           0.07409673372141487,
           0.3386464215938224,
           0.16138514192947043,
           0.29204576955240047,
           0.3478557578932977,
           0.2001652270595056,
           0.3865173901908781,
           0.2833142927750924,
           0.32482676045549347,
           1,
           0.21157697382012136,
           0.20529803478600242,
           0.2707314384345261,
           0.002104149677044075,
           0.038565573837524875,
           0.019326064375941063,
           0.046258228574639494,
           0.2436429805772201,
           0.36833503710716864,
           0.21541069866070042,
           0.33722240048609564,
           0.10580258487118864,
           0.38084480757254924,
           0.15397261749382185,
           0.3409948319255174,
           -0.014142966266777114
          ],
          [
           -0.015157896090812329,
           -0.005590908770682831,
           -0.032375768085664766,
           0.019653899668076572,
           -0.05337154393937748,
           0.1313321918082256,
           0.309637049764595,
           -0.031076538171717686,
           -0.05431936140212326,
           0.016671138205766538,
           0.06874012715481172,
           0.3348308572681386,
           0.34678137726772645,
           0.213508384877566,
           0.6144265535272354,
           -0.004622049724589158,
           0.3338724508440078,
           0.462976957564722,
           0.2013897790480213,
           0.6376581112987567,
           -0.002280786857894967,
           0.2529618522779657,
           0.3624009828006379,
           0.0789193658603043,
           0.49641538901683074,
           0.21157697382012136,
           1,
           0.537860719700403,
           0.34317888610786845,
           0.36452052896178694,
           0.3678316360904905,
           0.3832172617425693,
           0.3669385477147912,
           0.311496239900948,
           -0.0022500627212291165,
           0.18012478308384935,
           0.6111971986459656,
           0.11580790282783941,
           0.3900830302571453,
           0.1407220248627378,
           0.5823590767081066,
           0.1594101134080165
          ],
          [
           0.000720108575142013,
           -0.02072138908919249,
           -0.05487643722868196,
           0.044653636900997336,
           -0.0559689375924008,
           0.11212117508388633,
           0.301665997920928,
           -0.015728136013485734,
           -0.05666637955245625,
           -0.0316089729421621,
           0.06443255539643856,
           0.4025940246752088,
           0.3660043400340099,
           0.2000061087246839,
           0.6571374033748741,
           -0.008348598479512623,
           0.38301631885529425,
           0.4907311554663246,
           0.1747922354194339,
           0.6890216585763269,
           -0.008047652163947702,
           0.28367242794186304,
           0.3716151957323668,
           0.06710637638014103,
           0.5239478904930286,
           0.20529803478600242,
           0.537860719700403,
           1,
           0.35860330928683,
           0.38034217592102293,
           0.37092616597027794,
           0.37950354245252954,
           0.34144821669185044,
           0.3118888297766585,
           -0.016010064118794624,
           0.13871324968560303,
           0.6168256504857316,
           0.07890995854806072,
           0.43540653753392594,
           0.14417583226717798,
           0.6077903068717248,
           0.1301114791635673
          ],
          [
           -0.00024401107264914807,
           -0.14088847735750692,
           -0.14102544670729772,
           0.024220444552480864,
           -0.13117444400240721,
           -0.009436126279945762,
           0.460052465442704,
           -0.19861355115544935,
           -0.12047197404744572,
           0.01968536151884842,
           0.034955446904262305,
           0.0023587604885079933,
           0.6003589041042144,
           -0.02442604731189244,
           0.38643104500520564,
           -0.12004037605984229,
           -0.03370277315738869,
           0.6187198118123174,
           -0.056548442588444,
           0.3873816555723518,
           -0.12212349550373394,
           -0.07556432944243352,
           0.45609927295103475,
           -0.10584359347573374,
           0.27433130666713096,
           0.2707314384345261,
           0.34317888610786845,
           0.35860330928683,
           1,
           0.024867557974690695,
           0.0021574781761859664,
           0.018979122458827297,
           0.005242013022568164,
           0.5385823222988907,
           -0.1251676304875841,
           -0.07897493923286532,
           0.28897162775138097,
           -0.07440035428338457,
           0.1691563046335041,
           0.0032889538584700393,
           0.23292894053303914,
           0.27043200708143245
          ],
          [
           0.018199160762970734,
           0.058310908740579294,
           0.08099768790420246,
           0.0356475279467213,
           0.03215471314497594,
           0.15640076133693553,
           0.03153240574684257,
           0.14305257226353912,
           0.03208723265612231,
           0.0012936817997698555,
           0.0345723040632929,
           0.609287784028542,
           0.0013731323906733066,
           0.36359391301883554,
           0.43679290252746206,
           0.05625425766076838,
           0.5651411603504892,
           0.11381073639900241,
           0.27693176570219025,
           0.42976122076608236,
           0.056249235608071324,
           0.4596387553636913,
           0.12116621486495753,
           0.13043135320698657,
           0.34399698124259626,
           0.002104149677044075,
           0.36452052896178694,
           0.38034217592102293,
           0.024867557974690695,
           1,
           0.6356049525442616,
           0.6199765015323115,
           0.6105978922152172,
           -0.03087067095846917,
           0.07153227012791563,
           0.3007404420930952,
           0.5440494810082224,
           0.07995411638525296,
           0.2267965142460923,
           0.1790515704237816,
           0.6966485668130458,
           -0.0215128634609858
          ],
          [
           0.010620235862871358,
           0.08677702184171382,
           0.07368521883440585,
           0.02371185782681093,
           0.059891244704893445,
           0.13593336328427627,
           0.014026781579375945,
           0.1525548391347076,
           0.04920971737157045,
           -0.03101188046743101,
           0.04108255971716201,
           0.6456036408678695,
           -0.02141338875437825,
           0.3647282313378662,
           0.40956813529227076,
           0.09438158060452013,
           0.5883679812971914,
           0.0908165629329923,
           0.26973198056057585,
           0.4093062794365384,
           0.0853231308642755,
           0.4765049982842145,
           0.08088614046174863,
           0.12354616648330582,
           0.3196233367180674,
           0.038565573837524875,
           0.3678316360904905,
           0.37092616597027794,
           0.0021574781761859664,
           0.6356049525442616,
           1,
           0.6199197544517584,
           0.5823867900646238,
           -0.0618612178449126,
           0.1119764267316157,
           0.3101186620214271,
           0.5390817517554934,
           0.07970985499849373,
           0.23619330674571717,
           0.15766247427504995,
           0.6929779544729924,
           -0.06231379054271576
          ],
          [
           0.017540511188633787,
           0.08588376912400171,
           0.08059528373300122,
           0.043866492291401035,
           0.07804200160957711,
           0.11714781413376585,
           0.02979048039703487,
           0.11580105014061921,
           0.0361878305246413,
           -0.035548034569272406,
           0.04295250060852851,
           0.5941339620661048,
           0.011101459208233362,
           0.37134641520620926,
           0.4165748107757616,
           0.08887687506374578,
           0.5511679316438722,
           0.11835867698064127,
           0.2970241841240467,
           0.41998321679493755,
           0.08548307814630453,
           0.44296792294288817,
           0.10532327933455361,
           0.14943908034674153,
           0.3403089257215939,
           0.019326064375941063,
           0.3832172617425693,
           0.37950354245252954,
           0.018979122458827297,
           0.6199765015323115,
           0.6199197544517584,
           1,
           0.5981194030793663,
           -0.024441793263989018,
           0.10188191854459044,
           0.29234808843689103,
           0.5272087862821739,
           0.12892140493483928,
           0.27146151877431124,
           0.13925494855419832,
           0.700064888045335,
           -0.018306358763880756
          ],
          [
           -0.017269253585669535,
           0.13358478318701372,
           0.12119274126342679,
           0.006040350345647997,
           0.0879622147556103,
           0.13856333668000326,
           0.01662826087589146,
           0.1686075266945854,
           0.06053757569502232,
           -0.002137252777527765,
           -0.005800441879595282,
           0.5729877815921924,
           -0.011388036700302901,
           0.36231546000965653,
           0.41800942777070554,
           0.1095948490275129,
           0.5540820610339466,
           0.10634014299344717,
           0.2825729919859615,
           0.42399372678984865,
           0.11706321823748476,
           0.4718350609422307,
           0.12199188525143301,
           0.1521797107058802,
           0.34948091353390726,
           0.046258228574639494,
           0.3669385477147912,
           0.34144821669185044,
           0.005242013022568164,
           0.6105978922152172,
           0.5823867900646238,
           0.5981194030793663,
           1,
           -0.03826371707788024,
           0.11282756892320348,
           0.3992465483447055,
           0.5642331998237297,
           0.1251625507151225,
           0.2773887694612175,
           0.16553849359032555,
           0.6635951148358581,
           -0.06523687823445354
          ],
          [
           0.03003909245670337,
           -0.1570947627988282,
           -0.14442532638679814,
           -0.05649538517786189,
           -0.13108827312948634,
           -0.03406232663673684,
           0.4050400535760745,
           -0.18204342975336096,
           -0.08252402316333246,
           -0.01577072875887085,
           0.00028705580410380685,
           -0.04499823679796097,
           0.5689138707401963,
           -0.0954223949181086,
           0.3364075887543697,
           -0.15066917937514773,
           -0.0818422930014737,
           0.5673371168977692,
           -0.0930457406817791,
           0.3329192389393149,
           -0.15149667933872235,
           -0.10670975869739498,
           0.38218041397261415,
           -0.11718583459936337,
           0.21927732005631,
           0.2436429805772201,
           0.311496239900948,
           0.3118888297766585,
           0.5385823222988907,
           -0.03087067095846917,
           -0.0618612178449126,
           -0.024441793263989018,
           -0.03826371707788024,
           1,
           -0.15556997025516842,
           -0.11592765349021995,
           0.16702379513657228,
           -0.05825622278163142,
           0.11872298561601453,
           0.007922787867912206,
           0.15403986131672517,
           0.25688004548743015
          ],
          [
           -0.008796806858430404,
           0.8406932309887876,
           0.42865468273979107,
           0.16417412065776404,
           0.47180862414451,
           0.20163216142430707,
           -0.07473562411569885,
           0.4605545602150173,
           0.19662603306797352,
           0.0030849169202349855,
           -0.026630271173693477,
           0.09540398097074394,
           -0.14728740931999296,
           0.4176892119419768,
           0.005940984862276668,
           0.87432701923194,
           0.22164391780484793,
           -0.06169119629632835,
           0.41985575857789376,
           0.08860738807552414,
           0.8268313272070905,
           0.44147351025250914,
           0.2509085958411224,
           0.61152336502338,
           0.27507889721242385,
           0.36833503710716864,
           -0.0022500627212291165,
           -0.016010064118794624,
           -0.1251676304875841,
           0.07153227012791563,
           0.1119764267316157,
           0.10188191854459044,
           0.11282756892320348,
           -0.15556997025516842,
           1,
           0.45881287890759626,
           0.383848112994602,
           0.22678596639158444,
           0.4027655730549385,
           0.28762449039674315,
           0.17696339667843727,
           -0.33636661756474673
          ],
          [
           -0.024545139143969295,
           0.527153166534657,
           0.289699278320861,
           0.15994485003152428,
           0.29635828722447144,
           0.1404666770205444,
           -0.09573616436741214,
           0.3236085691579972,
           0.11756345718106727,
           0.05446612354507152,
           0.030066885327719114,
           -0.2125934780627656,
           -0.15027849324112103,
           0.3096337987126504,
           0.17106933005216995,
           0.4046507376128683,
           0.9198852919893642,
           -0.059072513987551166,
           0.3655576193789307,
           0.2892302700034577,
           0.42203456372222886,
           0.779677310029863,
           0.13896911514026145,
           0.483140220120532,
           0.4150235660361639,
           0.21541069866070042,
           0.18012478308384935,
           0.13871324968560303,
           -0.07897493923286532,
           0.3007404420930952,
           0.3101186620214271,
           0.29234808843689103,
           0.3992465483447055,
           -0.11592765349021995,
           0.45881287890759626,
           1,
           0.5200368844475027,
           0.3073886787187624,
           0.45106774480871364,
           0.2043625027159872,
           0.31703364967436254,
           -0.20953080062224144
          ],
          [
           -0.0024376526111038275,
           0.4092183948465951,
           0.19375253614697577,
           0.06852023360948901,
           0.16466954423047736,
           0.21995639793237864,
           0.2398922511032933,
           0.1862300293003795,
           0.07291795062612,
           0.01938766871151873,
           0.05089695633317052,
           0.49479655043026444,
           null,
           0.5093646183014136,
           0.7076724969452123,
           0.2908798595597753,
           0.5774298191720821,
           0.9841046894994216,
           0.44830626844727794,
           0.8043992233248357,
           0.2907076736017799,
           0.5277471290727961,
           0.644495117687673,
           0.3681104384811773,
           0.6818583590353697,
           0.33722240048609564,
           0.6111971986459656,
           0.6168256504857316,
           0.28897162775138097,
           0.5440494810082224,
           0.5390817517554934,
           0.5272087862821739,
           0.5642331998237297,
           0.16702379513657228,
           0.383848112994602,
           0.5200368844475027,
           1,
           0.2287955598173868,
           0.7641556899030979,
           0.24352627985604747,
           0.6989797094802775,
           -0.15493296990930622
          ],
          [
           -0.03556914192367417,
           0.22446009698982222,
           0.15339970750172086,
           0.12235622766882517,
           0.1478419513624435,
           0.05721505841024848,
           -0.04307922297871908,
           0.14145867047750557,
           0.08327275172533062,
           -0.053282267432934516,
           0.04504225072952165,
           0.06943554209360828,
           -0.007884895693819657,
           null,
           0.08447750069467659,
           0.22380788271928573,
           0.15566422053677872,
           0.031226840760266324,
           0.9203773751367574,
           0.12883371559109452,
           0.24224304592570398,
           0.1958374777731266,
           0.09228808837431805,
           0.7218126872827043,
           0.13563079590052174,
           0.10580258487118864,
           0.11580790282783941,
           0.07890995854806072,
           -0.07440035428338457,
           0.07995411638525296,
           0.07970985499849373,
           0.12892140493483928,
           0.1251625507151225,
           -0.05825622278163142,
           0.22678596639158444,
           0.3073886787187624,
           0.2287955598173868,
           1,
           0.21208801991436993,
           0.07351047877928021,
           0.1245969408604556,
           0.027984037772391845
          ],
          [
           0.04725671362836228,
           0.46087397501606875,
           0.21793727074061636,
           0.10670815779908203,
           0.21516869526844143,
           0.18137621706465773,
           0.13535881354618903,
           0.21501873941452723,
           0.07566575354126086,
           0.06240003683940934,
           0.06690519469549921,
           0.2493000749503027,
           0.10464761317378146,
           0.2631726391433639,
           null,
           0.35961783172958595,
           0.43857307538216384,
           0.31147597646308306,
           0.2959433379791004,
           0.9679539505250104,
           0.3776054671390508,
           0.5022248923234278,
           0.44810110307211015,
           0.42456839087684073,
           0.7535334572645855,
           0.38084480757254924,
           0.3900830302571453,
           0.43540653753392594,
           0.1691563046335041,
           0.2267965142460923,
           0.23619330674571717,
           0.27146151877431124,
           0.2773887694612175,
           0.11872298561601453,
           0.4027655730549385,
           0.45106774480871364,
           0.7641556899030979,
           0.21208801991436993,
           1,
           0.23457550711929762,
           0.487991378728953,
           -0.08007986774909959
          ],
          [
           -0.005515414780174855,
           0.33313055552189796,
           0.3884717253468511,
           -0.01127354771700025,
           0.2624371451653095,
           0.7804648675466258,
           0.1540846215434884,
           0.6336248311171065,
           -0.2123956738353791,
           0.027101627693337023,
           -0.09702401617661122,
           0.17672010614234965,
           -0.004754747259428055,
           0.22051455973513406,
           0.1416501769240429,
           0.2587009318929063,
           0.20909482015269734,
           0.04287003131886225,
           0.19397304040854726,
           0.17844478766464714,
           0.2708683436621161,
           0.28286393308691965,
           0.13938752460413154,
           0.24571465100761544,
           0.21913887508366559,
           0.15397261749382185,
           0.1407220248627378,
           0.14417583226717798,
           0.0032889538584700393,
           0.1790515704237816,
           0.15766247427504995,
           0.13925494855419832,
           0.16553849359032555,
           0.007922787867912206,
           0.28762449039674315,
           0.2043625027159872,
           0.24352627985604747,
           0.07351047877928021,
           0.23457550711929762,
           1,
           0.19094779876283527,
           -0.10464745750586428
          ],
          [
           -0.023770651305126844,
           0.1666905578826468,
           0.05690892712798072,
           0.08383570717342569,
           0.06791316309090531,
           0.13452539502269487,
           0.19386384961454142,
           0.11001069597646529,
           0.008907859375651856,
           -0.004966497351835191,
           0.08202218369702716,
           0.6101815997419455,
           0.21282764281211475,
           0.41631638731958764,
           0.6081299473175732,
           0.14922405543475545,
           0.561467295157599,
           0.3519269364252986,
           0.33206537190682084,
           0.6222530562013728,
           0.1468963758669725,
           0.4584571634306776,
           0.3071433385800808,
           0.19942237504847946,
           0.4915113347665151,
           0.3409948319255174,
           0.5823590767081066,
           0.6077903068717248,
           0.23292894053303914,
           0.6966485668130458,
           0.6929779544729924,
           0.700064888045335,
           0.6635951148358581,
           0.15403986131672517,
           0.17696339667843727,
           0.31703364967436254,
           0.6989797094802775,
           0.1245969408604556,
           0.487991378728953,
           0.19094779876283527,
           1,
           0.007132320027494281
          ],
          [
           -0.016567249067909365,
           -0.37682844906621626,
           -0.25281861938041733,
           -0.0387007084678578,
           -0.24307214586155382,
           -0.09133909075408327,
           0.20396488118082234,
           -0.2742131649379378,
           -0.10464778750284713,
           0.006021297525098114,
           0.009852260997048676,
           -0.02189465278105143,
           0.3050511508747483,
           -0.2436340007246777,
           0.13210276848236557,
           -0.2723717933577015,
           -0.09012614844893069,
           0.25365900583802264,
           -0.15691922036699657,
           0.0995332757578406,
           -0.2754602178817853,
           -0.16270293428955254,
           0.02167009520848411,
           -0.23233963443477815,
           -0.03234146631582668,
           -0.014142966266777114,
           0.1594101134080165,
           0.1301114791635673,
           0.27043200708143245,
           -0.0215128634609858,
           -0.06231379054271576,
           -0.018306358763880756,
           -0.06523687823445354,
           0.25688004548743015,
           -0.33636661756474673,
           -0.20953080062224144,
           -0.15493296990930622,
           0.027984037772391845,
           -0.08007986774909959,
           -0.10464745750586428,
           0.007132320027494281,
           1
          ]
         ]
        }
       ],
       "layout": {
        "template": {
         "data": {
          "bar": [
           {
            "error_x": {
             "color": "#2a3f5f"
            },
            "error_y": {
             "color": "#2a3f5f"
            },
            "marker": {
             "line": {
              "color": "#E5ECF6",
              "width": 0.5
             }
            },
            "type": "bar"
           }
          ],
          "barpolar": [
           {
            "marker": {
             "line": {
              "color": "#E5ECF6",
              "width": 0.5
             }
            },
            "type": "barpolar"
           }
          ],
          "carpet": [
           {
            "aaxis": {
             "endlinecolor": "#2a3f5f",
             "gridcolor": "white",
             "linecolor": "white",
             "minorgridcolor": "white",
             "startlinecolor": "#2a3f5f"
            },
            "baxis": {
             "endlinecolor": "#2a3f5f",
             "gridcolor": "white",
             "linecolor": "white",
             "minorgridcolor": "white",
             "startlinecolor": "#2a3f5f"
            },
            "type": "carpet"
           }
          ],
          "choropleth": [
           {
            "colorbar": {
             "outlinewidth": 0,
             "ticks": ""
            },
            "type": "choropleth"
           }
          ],
          "contour": [
           {
            "colorbar": {
             "outlinewidth": 0,
             "ticks": ""
            },
            "colorscale": [
             [
              0,
              "#0d0887"
             ],
             [
              0.1111111111111111,
              "#46039f"
             ],
             [
              0.2222222222222222,
              "#7201a8"
             ],
             [
              0.3333333333333333,
              "#9c179e"
             ],
             [
              0.4444444444444444,
              "#bd3786"
             ],
             [
              0.5555555555555556,
              "#d8576b"
             ],
             [
              0.6666666666666666,
              "#ed7953"
             ],
             [
              0.7777777777777778,
              "#fb9f3a"
             ],
             [
              0.8888888888888888,
              "#fdca26"
             ],
             [
              1,
              "#f0f921"
             ]
            ],
            "type": "contour"
           }
          ],
          "contourcarpet": [
           {
            "colorbar": {
             "outlinewidth": 0,
             "ticks": ""
            },
            "type": "contourcarpet"
           }
          ],
          "heatmap": [
           {
            "colorbar": {
             "outlinewidth": 0,
             "ticks": ""
            },
            "colorscale": [
             [
              0,
              "#0d0887"
             ],
             [
              0.1111111111111111,
              "#46039f"
             ],
             [
              0.2222222222222222,
              "#7201a8"
             ],
             [
              0.3333333333333333,
              "#9c179e"
             ],
             [
              0.4444444444444444,
              "#bd3786"
             ],
             [
              0.5555555555555556,
              "#d8576b"
             ],
             [
              0.6666666666666666,
              "#ed7953"
             ],
             [
              0.7777777777777778,
              "#fb9f3a"
             ],
             [
              0.8888888888888888,
              "#fdca26"
             ],
             [
              1,
              "#f0f921"
             ]
            ],
            "type": "heatmap"
           }
          ],
          "heatmapgl": [
           {
            "colorbar": {
             "outlinewidth": 0,
             "ticks": ""
            },
            "colorscale": [
             [
              0,
              "#0d0887"
             ],
             [
              0.1111111111111111,
              "#46039f"
             ],
             [
              0.2222222222222222,
              "#7201a8"
             ],
             [
              0.3333333333333333,
              "#9c179e"
             ],
             [
              0.4444444444444444,
              "#bd3786"
             ],
             [
              0.5555555555555556,
              "#d8576b"
             ],
             [
              0.6666666666666666,
              "#ed7953"
             ],
             [
              0.7777777777777778,
              "#fb9f3a"
             ],
             [
              0.8888888888888888,
              "#fdca26"
             ],
             [
              1,
              "#f0f921"
             ]
            ],
            "type": "heatmapgl"
           }
          ],
          "histogram": [
           {
            "marker": {
             "colorbar": {
              "outlinewidth": 0,
              "ticks": ""
             }
            },
            "type": "histogram"
           }
          ],
          "histogram2d": [
           {
            "colorbar": {
             "outlinewidth": 0,
             "ticks": ""
            },
            "colorscale": [
             [
              0,
              "#0d0887"
             ],
             [
              0.1111111111111111,
              "#46039f"
             ],
             [
              0.2222222222222222,
              "#7201a8"
             ],
             [
              0.3333333333333333,
              "#9c179e"
             ],
             [
              0.4444444444444444,
              "#bd3786"
             ],
             [
              0.5555555555555556,
              "#d8576b"
             ],
             [
              0.6666666666666666,
              "#ed7953"
             ],
             [
              0.7777777777777778,
              "#fb9f3a"
             ],
             [
              0.8888888888888888,
              "#fdca26"
             ],
             [
              1,
              "#f0f921"
             ]
            ],
            "type": "histogram2d"
           }
          ],
          "histogram2dcontour": [
           {
            "colorbar": {
             "outlinewidth": 0,
             "ticks": ""
            },
            "colorscale": [
             [
              0,
              "#0d0887"
             ],
             [
              0.1111111111111111,
              "#46039f"
             ],
             [
              0.2222222222222222,
              "#7201a8"
             ],
             [
              0.3333333333333333,
              "#9c179e"
             ],
             [
              0.4444444444444444,
              "#bd3786"
             ],
             [
              0.5555555555555556,
              "#d8576b"
             ],
             [
              0.6666666666666666,
              "#ed7953"
             ],
             [
              0.7777777777777778,
              "#fb9f3a"
             ],
             [
              0.8888888888888888,
              "#fdca26"
             ],
             [
              1,
              "#f0f921"
             ]
            ],
            "type": "histogram2dcontour"
           }
          ],
          "mesh3d": [
           {
            "colorbar": {
             "outlinewidth": 0,
             "ticks": ""
            },
            "type": "mesh3d"
           }
          ],
          "parcoords": [
           {
            "line": {
             "colorbar": {
              "outlinewidth": 0,
              "ticks": ""
             }
            },
            "type": "parcoords"
           }
          ],
          "pie": [
           {
            "automargin": true,
            "type": "pie"
           }
          ],
          "scatter": [
           {
            "marker": {
             "colorbar": {
              "outlinewidth": 0,
              "ticks": ""
             }
            },
            "type": "scatter"
           }
          ],
          "scatter3d": [
           {
            "line": {
             "colorbar": {
              "outlinewidth": 0,
              "ticks": ""
             }
            },
            "marker": {
             "colorbar": {
              "outlinewidth": 0,
              "ticks": ""
             }
            },
            "type": "scatter3d"
           }
          ],
          "scattercarpet": [
           {
            "marker": {
             "colorbar": {
              "outlinewidth": 0,
              "ticks": ""
             }
            },
            "type": "scattercarpet"
           }
          ],
          "scattergeo": [
           {
            "marker": {
             "colorbar": {
              "outlinewidth": 0,
              "ticks": ""
             }
            },
            "type": "scattergeo"
           }
          ],
          "scattergl": [
           {
            "marker": {
             "colorbar": {
              "outlinewidth": 0,
              "ticks": ""
             }
            },
            "type": "scattergl"
           }
          ],
          "scattermapbox": [
           {
            "marker": {
             "colorbar": {
              "outlinewidth": 0,
              "ticks": ""
             }
            },
            "type": "scattermapbox"
           }
          ],
          "scatterpolar": [
           {
            "marker": {
             "colorbar": {
              "outlinewidth": 0,
              "ticks": ""
             }
            },
            "type": "scatterpolar"
           }
          ],
          "scatterpolargl": [
           {
            "marker": {
             "colorbar": {
              "outlinewidth": 0,
              "ticks": ""
             }
            },
            "type": "scatterpolargl"
           }
          ],
          "scatterternary": [
           {
            "marker": {
             "colorbar": {
              "outlinewidth": 0,
              "ticks": ""
             }
            },
            "type": "scatterternary"
           }
          ],
          "surface": [
           {
            "colorbar": {
             "outlinewidth": 0,
             "ticks": ""
            },
            "colorscale": [
             [
              0,
              "#0d0887"
             ],
             [
              0.1111111111111111,
              "#46039f"
             ],
             [
              0.2222222222222222,
              "#7201a8"
             ],
             [
              0.3333333333333333,
              "#9c179e"
             ],
             [
              0.4444444444444444,
              "#bd3786"
             ],
             [
              0.5555555555555556,
              "#d8576b"
             ],
             [
              0.6666666666666666,
              "#ed7953"
             ],
             [
              0.7777777777777778,
              "#fb9f3a"
             ],
             [
              0.8888888888888888,
              "#fdca26"
             ],
             [
              1,
              "#f0f921"
             ]
            ],
            "type": "surface"
           }
          ],
          "table": [
           {
            "cells": {
             "fill": {
              "color": "#EBF0F8"
             },
             "line": {
              "color": "white"
             }
            },
            "header": {
             "fill": {
              "color": "#C8D4E3"
             },
             "line": {
              "color": "white"
             }
            },
            "type": "table"
           }
          ]
         },
         "layout": {
          "annotationdefaults": {
           "arrowcolor": "#2a3f5f",
           "arrowhead": 0,
           "arrowwidth": 1
          },
          "coloraxis": {
           "colorbar": {
            "outlinewidth": 0,
            "ticks": ""
           }
          },
          "colorscale": {
           "diverging": [
            [
             0,
             "#8e0152"
            ],
            [
             0.1,
             "#c51b7d"
            ],
            [
             0.2,
             "#de77ae"
            ],
            [
             0.3,
             "#f1b6da"
            ],
            [
             0.4,
             "#fde0ef"
            ],
            [
             0.5,
             "#f7f7f7"
            ],
            [
             0.6,
             "#e6f5d0"
            ],
            [
             0.7,
             "#b8e186"
            ],
            [
             0.8,
             "#7fbc41"
            ],
            [
             0.9,
             "#4d9221"
            ],
            [
             1,
             "#276419"
            ]
           ],
           "sequential": [
            [
             0,
             "#0d0887"
            ],
            [
             0.1111111111111111,
             "#46039f"
            ],
            [
             0.2222222222222222,
             "#7201a8"
            ],
            [
             0.3333333333333333,
             "#9c179e"
            ],
            [
             0.4444444444444444,
             "#bd3786"
            ],
            [
             0.5555555555555556,
             "#d8576b"
            ],
            [
             0.6666666666666666,
             "#ed7953"
            ],
            [
             0.7777777777777778,
             "#fb9f3a"
            ],
            [
             0.8888888888888888,
             "#fdca26"
            ],
            [
             1,
             "#f0f921"
            ]
           ],
           "sequentialminus": [
            [
             0,
             "#0d0887"
            ],
            [
             0.1111111111111111,
             "#46039f"
            ],
            [
             0.2222222222222222,
             "#7201a8"
            ],
            [
             0.3333333333333333,
             "#9c179e"
            ],
            [
             0.4444444444444444,
             "#bd3786"
            ],
            [
             0.5555555555555556,
             "#d8576b"
            ],
            [
             0.6666666666666666,
             "#ed7953"
            ],
            [
             0.7777777777777778,
             "#fb9f3a"
            ],
            [
             0.8888888888888888,
             "#fdca26"
            ],
            [
             1,
             "#f0f921"
            ]
           ]
          },
          "colorway": [
           "#636efa",
           "#EF553B",
           "#00cc96",
           "#ab63fa",
           "#FFA15A",
           "#19d3f3",
           "#FF6692",
           "#B6E880",
           "#FF97FF",
           "#FECB52"
          ],
          "font": {
           "color": "#2a3f5f"
          },
          "geo": {
           "bgcolor": "white",
           "lakecolor": "white",
           "landcolor": "#E5ECF6",
           "showlakes": true,
           "showland": true,
           "subunitcolor": "white"
          },
          "hoverlabel": {
           "align": "left"
          },
          "hovermode": "closest",
          "mapbox": {
           "style": "light"
          },
          "paper_bgcolor": "white",
          "plot_bgcolor": "#E5ECF6",
          "polar": {
           "angularaxis": {
            "gridcolor": "white",
            "linecolor": "white",
            "ticks": ""
           },
           "bgcolor": "#E5ECF6",
           "radialaxis": {
            "gridcolor": "white",
            "linecolor": "white",
            "ticks": ""
           }
          },
          "scene": {
           "xaxis": {
            "backgroundcolor": "#E5ECF6",
            "gridcolor": "white",
            "gridwidth": 2,
            "linecolor": "white",
            "showbackground": true,
            "ticks": "",
            "zerolinecolor": "white"
           },
           "yaxis": {
            "backgroundcolor": "#E5ECF6",
            "gridcolor": "white",
            "gridwidth": 2,
            "linecolor": "white",
            "showbackground": true,
            "ticks": "",
            "zerolinecolor": "white"
           },
           "zaxis": {
            "backgroundcolor": "#E5ECF6",
            "gridcolor": "white",
            "gridwidth": 2,
            "linecolor": "white",
            "showbackground": true,
            "ticks": "",
            "zerolinecolor": "white"
           }
          },
          "shapedefaults": {
           "line": {
            "color": "#2a3f5f"
           }
          },
          "ternary": {
           "aaxis": {
            "gridcolor": "white",
            "linecolor": "white",
            "ticks": ""
           },
           "baxis": {
            "gridcolor": "white",
            "linecolor": "white",
            "ticks": ""
           },
           "bgcolor": "#E5ECF6",
           "caxis": {
            "gridcolor": "white",
            "linecolor": "white",
            "ticks": ""
           }
          },
          "title": {
           "x": 0.05
          },
          "xaxis": {
           "automargin": true,
           "gridcolor": "white",
           "linecolor": "white",
           "ticks": "",
           "title": {
            "standoff": 15
           },
           "zerolinecolor": "white",
           "zerolinewidth": 2
          },
          "yaxis": {
           "automargin": true,
           "gridcolor": "white",
           "linecolor": "white",
           "ticks": "",
           "title": {
            "standoff": 15
           },
           "zerolinecolor": "white",
           "zerolinewidth": 2
          }
         }
        }
       }
      },
      "text/html": [
       "<div>\n",
       "        \n",
       "        \n",
       "            <div id=\"9c517252-1682-47d5-91fc-a2a0f207b9bd\" class=\"plotly-graph-div\" style=\"height:525px; width:100%;\"></div>\n",
       "            <script type=\"text/javascript\">\n",
       "                require([\"plotly\"], function(Plotly) {\n",
       "                    window.PLOTLYENV=window.PLOTLYENV || {};\n",
       "                    \n",
       "                if (document.getElementById(\"9c517252-1682-47d5-91fc-a2a0f207b9bd\")) {\n",
       "                    Plotly.newPlot(\n",
       "                        '9c517252-1682-47d5-91fc-a2a0f207b9bd',\n",
       "                        [{\"colorscale\": [[0.0, \"#440154\"], [0.1111111111111111, \"#482878\"], [0.2222222222222222, \"#3e4989\"], [0.3333333333333333, \"#31688e\"], [0.4444444444444444, \"#26828e\"], [0.5555555555555556, \"#1f9e89\"], [0.6666666666666666, \"#35b779\"], [0.7777777777777778, \"#6ece58\"], [0.8888888888888888, \"#b5de2b\"], [1.0, \"#fde725\"]], \"type\": \"heatmap\", \"x\": [\"region\", \"tenure\", \"age\", \"marital\", \"address\", \"income\", \"education\", \"employ\", \"retire\", \"gender\", \"reside\", \"tollfree\", \"equip\", \"callcard\", \"wireless\", \"longmon\", \"tollmon\", \"equipmon\", \"cardmon\", \"wiremon\", \"longten\", \"tollten\", \"equipten\", \"cardten\", \"wireten\", \"multline\", \"voice\", \"pager\", \"internet\", \"callid\", \"callwait\", \"forward\", \"confer\", \"ebill\", \"loglong\", \"logtoll\", \"logequi\", \"logcard\", \"logwire\", \"lninc\", \"custcat\", \"churn\"], \"y\": [\"region\", \"tenure\", \"age\", \"marital\", \"address\", \"income\", \"education\", \"employ\", \"retire\", \"gender\", \"reside\", \"tollfree\", \"equip\", \"callcard\", \"wireless\", \"longmon\", \"tollmon\", \"equipmon\", \"cardmon\", \"wiremon\", \"longten\", \"tollten\", \"equipten\", \"cardten\", \"wireten\", \"multline\", \"voice\", \"pager\", \"internet\", \"callid\", \"callwait\", \"forward\", \"confer\", \"ebill\", \"loglong\", \"logtoll\", \"logequi\", \"logcard\", \"logwire\", \"lninc\", \"custcat\", \"churn\"], \"z\": [[1.0, 0.016388422638292672, 0.015034002953239756, -0.08063736622926355, 0.010320122274923417, 0.023764677138991955, -0.057951959156617355, 0.016334968438778578, 0.005595030993295714, 0.050596086453023006, -0.06515809134301338, 0.025953495663499915, -0.016346373680626643, 0.008090816213374173, -0.0067454076286422825, -0.0015808114369786409, 0.029747533879684238, -0.015332063460451049, -0.003259415424364909, 0.0075971753159768535, 0.007032250808178731, 0.01582556831414062, -0.007275358876827783, 0.0025798519032235716, 0.02097971380825794, -0.03301540106045141, -0.015157896090812329, 0.000720108575142013, -0.00024401107264914807, 0.018199160762970734, 0.010620235862871358, 0.017540511188633787, -0.017269253585669535, 0.03003909245670337, -0.008796806858430404, -0.024545139143969295, -0.0024376526111038275, -0.03556914192367417, 0.04725671362836228, -0.005515414780174855, -0.023770651305126844, -0.016567249067909365], [0.016388422638292672, 1.0, 0.49021725957909, 0.15417137258359528, 0.5229521681440303, 0.24291221751367376, -0.10979683147186443, 0.5202884191871192, 0.17114338073944674, 0.02353287886729164, -0.03659249666523727, 0.06873053971954757, -0.15317746488100792, 0.46218198947878486, 0.0030068693072866004, 0.7136778049367565, 0.22652904558801512, -0.060356183646650685, 0.43997171677656677, 0.1020905519719616, 0.7473074655843217, 0.48721462741237753, 0.30713718981137517, 0.6767369063901483, 0.3278034036719336, 0.4096297439308058, -0.005590908770682831, -0.02072138908919249, -0.14088847735750692, 0.058310908740579294, 0.08677702184171382, 0.08588376912400171, 0.13358478318701372, -0.1570947627988282, 0.8406932309887876, 0.527153166534657, 0.4092183948465951, 0.22446009698982222, 0.46087397501606875, 0.33313055552189796, 0.1666905578826468, -0.37682844906621626], [0.015034002953239756, 0.49021725957909, 1.0, -0.014432865828528567, 0.6604349979763406, 0.3279477737613509, -0.1548569596187364, 0.6700469860278451, 0.42943998137092065, -0.011419117309714545, -0.2549932735520098, 0.09282143470854387, -0.1724809789458753, 0.2800041739898198, -0.010202929530550136, 0.40127256306444054, 0.1688171183176258, -0.12730540948267546, 0.29060018738768045, 0.03431281774987947, 0.4232232757892742, 0.3015309370651468, 0.049751030817782434, 0.3943311750358555, 0.14385633661534755, 0.12492786383726931, -0.032375768085664766, -0.05487643722868196, -0.14102544670729772, 0.08099768790420246, 0.07368521883440585, 0.08059528373300122, 0.12119274126342679, -0.14442532638679814, 0.42865468273979107, 0.289699278320861, 0.19375253614697577, 0.15339970750172086, 0.21793727074061636, 0.3884717253468511, 0.05690892712798072, -0.25281861938041733], [-0.08063736622926355, 0.15417137258359528, -0.014432865828528567, 1.0, -0.012051225242736609, -0.04398408839581781, 0.0013996613720133812, -0.002890873000635555, -0.07810866050394705, 0.008345241975951847, 0.6259987754850056, 0.013498936967423021, -0.0002875887635260758, 0.05731779907135935, 0.032773371750189025, 0.12990527966282986, 0.0692743845707523, 0.01301276944490634, 0.10068447315319155, 0.04986351645419247, 0.12158811108146973, 0.08464526547976409, 0.09136127793953498, 0.12566931537859952, 0.08249812379210303, 0.09161917097396081, 0.019653899668076572, 0.044653636900997336, 0.024220444552480864, 0.0356475279467213, 0.02371185782681093, 0.043866492291401035, 0.006040350345647997, -0.05649538517786189, 0.16417412065776404, 0.15994485003152428, 0.06852023360948901, 0.12235622766882517, 0.10670815779908203, -0.01127354771700025, 0.08383570717342569, -0.0387007084678578], [0.010320122274923417, 0.5229521681440303, 0.6604349979763406, -0.012051225242736609, 1.0, 0.22678100734020967, -0.12833033549409978, 0.4632909216782414, 0.29250267807628627, 0.008363200375022592, -0.20164508446837406, 0.06591698347785589, -0.15315373043515887, 0.25738307270202115, -0.036525330120717514, 0.46563296243916846, 0.14945924629388882, -0.11408677310642776, 0.27689985742231005, 0.01300407911646732, 0.4908778620985995, 0.30006962568299383, 0.05841076413508309, 0.41042040987058614, 0.1290975993838885, 0.15558107378550434, -0.05337154393937748, -0.0559689375924008, -0.13117444400240721, 0.03215471314497594, 0.059891244704893445, 0.07804200160957711, 0.0879622147556103, -0.13108827312948634, 0.47180862414451, 0.29635828722447144, 0.16466954423047736, 0.1478419513624435, 0.21516869526844143, 0.2624371451653095, 0.06791316309090531, -0.24307214586155382], [0.023764677138991955, 0.24291221751367376, 0.3279477737613509, -0.04398408839581781, 0.22678100734020967, 1.0, 0.11393868306829918, 0.5163486389893354, -0.0836511855379861, 0.03870623373529445, -0.09759105643021962, 0.1384500738985833, -0.03698687907864872, 0.1312100143867657, 0.09358345797742364, 0.19462370241549792, 0.1734923148824548, 0.0010522144848910914, 0.12087010064981096, 0.12825447588697433, 0.20938874203753058, 0.23590402203879526, 0.08298652050961652, 0.1697102662380019, 0.18544145639456563, 0.10321990959871141, 0.1313321918082256, 0.11212117508388633, -0.009436126279945762, 0.15640076133693553, 0.13593336328427627, 0.11714781413376585, 0.13856333668000326, -0.03406232663673684, 0.20163216142430707, 0.1404666770205444, 0.21995639793237864, 0.05721505841024848, 0.18137621706465773, 0.7804648675466258, 0.13452539502269487, -0.09133909075408327], [-0.057951959156617355, -0.10979683147186443, -0.1548569596187364, 0.0013996613720133812, -0.12833033549409978, 0.11393868306829918, 1.0, -0.2285803034052756, -0.11422894206440681, 0.006703908199057777, 0.02104482317210845, 0.02941648459902279, 0.44383481858934704, -0.06470468764616691, 0.3216300880919711, -0.09040252334078905, -0.021794793528069116, 0.46130771081487987, -0.06421949095983435, 0.32026495592252674, -0.10150929432128873, -0.050318919038584556, 0.33800002102014526, -0.09771767157855474, 0.2245621279517741, 0.26596856624956366, 0.309637049764595, 0.301665997920928, 0.460052465442704, 0.03153240574684257, 0.014026781579375945, 0.02979048039703487, 0.01662826087589146, 0.4050400535760745, -0.07473562411569885, -0.09573616436741214, 0.2398922511032933, -0.04307922297871908, 0.13535881354618903, 0.1540846215434884, 0.19386384961454142, 0.20396488118082234], [0.016334968438778578, 0.5202884191871192, 0.6700469860278451, -0.002890873000635555, 0.4632909216782414, 0.5163486389893354, -0.2285803034052756, 1.0, 0.27740077730608004, 0.04601647737047378, -0.1346832977120954, 0.14272734636635373, -0.20424380585095983, 0.29241476864836974, -0.013076294688453732, 0.4691424701610352, 0.23505622390967942, -0.16110771387826062, 0.276389729419386, 0.03197828860228753, 0.49739876905075686, 0.381430172726078, 0.021849873290698874, 0.4010800696574157, 0.15231052086263686, 0.1186702819767985, -0.031076538171717686, -0.015728136013485734, -0.19861355115544935, 0.14305257226353912, 0.1525548391347076, 0.11580105014061921, 0.1686075266945854, -0.18204342975336096, 0.4605545602150173, 0.3236085691579972, 0.1862300293003795, 0.14145867047750557, 0.21501873941452723, 0.6336248311171065, 0.11001069597646529, -0.2742131649379378], [0.005595030993295714, 0.17114338073944674, 0.42943998137092065, -0.07810866050394705, 0.29250267807628627, -0.0836511855379861, -0.11422894206440681, 0.27740077730608004, 1.0, 0.053905964976057825, -0.14012033264386478, 0.04468364168135555, -0.10814088936009314, 0.09236827756477757, -0.040492191465949685, 0.2718771313086711, 0.08617937708839707, -0.093075232376512, 0.12445492349783976, -0.027315956293172666, 0.2836510920487009, 0.14591944377388083, -0.05188796693476108, 0.1825416066183817, 0.020352076664609142, 0.025310571449555078, -0.05431936140212326, -0.05666637955245625, -0.12047197404744572, 0.03208723265612231, 0.04920971737157045, 0.0361878305246413, 0.06053757569502232, -0.08252402316333246, 0.19662603306797352, 0.11756345718106727, 0.07291795062612, 0.08327275172533062, 0.07566575354126086, -0.2123956738353791, 0.008907859375651856, -0.10464778750284713], [0.050596086453023006, 0.02353287886729164, -0.011419117309714545, 0.008345241975951847, 0.008363200375022592, 0.03870623373529445, 0.006703908199057777, 0.04601647737047378, 0.053905964976057825, 1.0, 0.01655644781093764, -0.016263393229858758, -0.00231014713194796, 0.0020300966847076585, -0.00014028103333020906, 0.014519902872906545, 0.008924714447956181, 0.0016236259883782563, -0.020722688857032875, 0.012876699997378015, 0.023678633352346087, 0.0093307699810548, 0.015318210455333554, 0.013001129982669841, 0.023266474286361864, 0.021739745171824372, 0.016671138205766538, -0.0316089729421621, 0.01968536151884842, 0.0012936817997698555, -0.03101188046743101, -0.035548034569272406, -0.002137252777527765, -0.01577072875887085, 0.0030849169202349855, 0.05446612354507152, 0.01938766871151873, -0.053282267432934516, 0.06240003683940934, 0.027101627693337023, -0.004966497351835191, 0.006021297525098114], [-0.06515809134301338, -0.03659249666523727, -0.2549932735520098, 0.6259987754850056, -0.20164508446837406, -0.09759105643021962, 0.02104482317210845, -0.1346832977120954, -0.14012033264386478, 0.01655644781093764, 1.0, 0.025267717150950435, 0.010354430087362776, -0.014045636894754233, 0.03972531949680476, -0.03595010738493208, 0.04548840150184466, 0.02009595290805556, 0.00473903979135148, 0.04780250201361611, -0.04680260111653201, -0.0031136199844467977, 0.013923253419490697, -0.020982131498272348, 0.014850075132149863, 0.0457342727462216, 0.06874012715481172, 0.06443255539643856, 0.034955446904262305, 0.0345723040632929, 0.04108255971716201, 0.04295250060852851, -0.005800441879595282, 0.00028705580410380685, -0.026630271173693477, 0.030066885327719114, 0.05089695633317052, 0.04504225072952165, 0.06690519469549921, -0.09702401617661122, 0.08202218369702716, 0.009852260997048676], [0.025953495663499915, 0.06873053971954757, 0.09282143470854387, 0.013498936967423021, 0.06591698347785589, 0.1384500738985833, 0.02941648459902279, 0.14272734636635373, 0.04468364168135555, -0.016263393229858758, 0.025267717150950435, 1.0, 0.004261866823542676, 0.36273482407711616, 0.4022871524973652, 0.07726013578802723, 0.8072075623896527, 0.10598469017159108, 0.26806821520517377, 0.4056141922195398, 0.07227007700941779, 0.6344550785603892, 0.09023700326040582, 0.12653325616989355, 0.3148369744355482, 0.011429740243726874, 0.3348308572681386, 0.4025940246752088, 0.0023587604885079933, 0.609287784028542, 0.6456036408678695, 0.5941339620661048, 0.5729877815921924, -0.04499823679796097, 0.09540398097074394, -0.2125934780627656, 0.49479655043026444, 0.06943554209360828, 0.2493000749503027, 0.17672010614234965, 0.6101815997419455, -0.02189465278105143], [-0.016346373680626643, -0.15317746488100792, -0.1724809789458753, -0.0002875887635260758, -0.15315373043515887, -0.03698687907864872, 0.44383481858934704, -0.20424380585095983, -0.10814088936009314, -0.00231014713194796, 0.010354430087362776, 0.004261866823542676, 1.0, -0.08224447649212552, 0.3948275107400184, -0.10996338295426959, -0.05538598875741371, 0.9409875172922192, -0.05668277589268572, 0.37980529773740546, -0.107569987534242, -0.08546148931898274, 0.68538125012221, -0.07973170318017352, 0.26437896226766844, 0.29060820486958755, 0.34678137726772645, 0.3660043400340099, 0.6003589041042144, 0.0013731323906733066, -0.02141338875437825, 0.011101459208233362, -0.011388036700302901, 0.5689138707401963, -0.14728740931999296, -0.15027849324112103, null, -0.007884895693819657, 0.10464761317378146, -0.004754747259428055, 0.21282764281211475, 0.3050511508747483], [0.008090816213374173, 0.46218198947878486, 0.2800041739898198, 0.05731779907135935, 0.25738307270202115, 0.1312100143867657, -0.06470468764616691, 0.29241476864836974, 0.09236827756477757, 0.0020300966847076585, -0.014045636894754233, 0.36273482407711616, -0.08224447649212552, 1.0, 0.25932500462693103, 0.3457524751508182, 0.37043101331974165, 0.028104480980834488, 0.6746363790721065, 0.2740496572699851, 0.35060876414679526, 0.33410311712479973, 0.17527048813778612, 0.5031491486432773, 0.25381927849350167, 0.14121673937644869, 0.213508384877566, 0.2000061087246839, -0.02442604731189244, 0.36359391301883554, 0.3647282313378662, 0.37134641520620926, 0.36231546000965653, -0.0954223949181086, 0.4176892119419768, 0.3096337987126504, 0.5093646183014136, null, 0.2631726391433639, 0.22051455973513406, 0.41631638731958764, -0.2436340007246777], [-0.0067454076286422825, 0.0030068693072866004, -0.010202929530550136, 0.032773371750189025, -0.036525330120717514, 0.09358345797742364, 0.3216300880919711, -0.013076294688453732, -0.040492191465949685, -0.00014028103333020906, 0.03972531949680476, 0.4022871524973652, 0.3948275107400184, 0.25932500462693103, 1.0, -0.009070076226595615, 0.38575860666992046, 0.5285460440853491, 0.21312247568581472, 0.9063966025496222, -0.008613919100244378, 0.2840409462831272, 0.4244398628739789, 0.0754602052476476, 0.7031913031556946, 0.23863836128037358, 0.6144265535272354, 0.6571374033748741, 0.38643104500520564, 0.43679290252746206, 0.40956813529227076, 0.4165748107757616, 0.41800942777070554, 0.3364075887543697, 0.005940984862276668, 0.17106933005216995, 0.7076724969452123, 0.08447750069467659, null, 0.1416501769240429, 0.6081299473175732, 0.13210276848236557], [-0.0015808114369786409, 0.7136778049367565, 0.40127256306444054, 0.12990527966282986, 0.46563296243916846, 0.19462370241549792, -0.09040252334078905, 0.4691424701610352, 0.2718771313086711, 0.014519902872906545, -0.03595010738493208, 0.07726013578802723, -0.10996338295426959, 0.3457524751508182, -0.009070076226595615, 1.0, 0.2053989390545681, -0.047661742278608143, 0.3949815241686045, 0.06391064875290185, 0.9832181262929334, 0.4160455797905281, 0.21027023270849268, 0.5924405388840411, 0.2347384947810257, 0.33417486214411457, -0.004622049724589158, -0.008348598479512623, -0.12004037605984229, 0.05625425766076838, 0.09438158060452013, 0.08887687506374578, 0.1095948490275129, -0.15066917937514773, 0.87432701923194, 0.4046507376128683, 0.2908798595597753, 0.22380788271928573, 0.35961783172958595, 0.2587009318929063, 0.14922405543475545, -0.2723717933577015], [0.029747533879684238, 0.22652904558801512, 0.1688171183176258, 0.0692743845707523, 0.14945924629388882, 0.1734923148824548, -0.021794793528069116, 0.23505622390967942, 0.08617937708839707, 0.008924714447956181, 0.04548840150184466, 0.8072075623896527, -0.05538598875741371, 0.37043101331974165, 0.38575860666992046, 0.2053989390545681, 1.0, 0.053753228288697566, 0.3285610045494811, 0.445982697244342, 0.21156644392233587, 0.8440649402382238, 0.11499502062641517, 0.2584466742827318, 0.4378317262583061, 0.07409673372141487, 0.3338724508440078, 0.38301631885529425, -0.03370277315738869, 0.5651411603504892, 0.5883679812971914, 0.5511679316438722, 0.5540820610339466, -0.0818422930014737, 0.22164391780484793, 0.9198852919893642, 0.5774298191720821, 0.15566422053677872, 0.43857307538216384, 0.20909482015269734, 0.561467295157599, -0.09012614844893069], [-0.015332063460451049, -0.060356183646650685, -0.12730540948267546, 0.01301276944490634, -0.11408677310642776, 0.0010522144848910914, 0.46130771081487987, -0.16110771387826062, -0.093075232376512, 0.0016236259883782563, 0.02009595290805556, 0.10598469017159108, 0.9409875172922192, 0.028104480980834488, 0.5285460440853491, -0.047661742278608143, 0.053753228288697566, 1.0, 0.03712855845747051, 0.5611361433448372, -0.0456925858013599, 0.01805193308682618, 0.809290927863161, -0.0023414778205627295, 0.43649237386963596, 0.3386464215938224, 0.462976957564722, 0.4907311554663246, 0.6187198118123174, 0.11381073639900241, 0.0908165629329923, 0.11835867698064127, 0.10634014299344717, 0.5673371168977692, -0.06169119629632835, -0.059072513987551166, 0.9841046894994216, 0.031226840760266324, 0.31147597646308306, 0.04287003131886225, 0.3519269364252986, 0.25365900583802264], [-0.003259415424364909, 0.43997171677656677, 0.29060018738768045, 0.10068447315319155, 0.27689985742231005, 0.12087010064981096, -0.06421949095983435, 0.276389729419386, 0.12445492349783976, -0.020722688857032875, 0.00473903979135148, 0.26806821520517377, -0.05668277589268572, 0.6746363790721065, 0.21312247568581472, 0.3949815241686045, 0.3285610045494811, 0.03712855845747051, 1.0, 0.25427714738399854, 0.41087593034648284, 0.34010413217826446, 0.18108058172424515, 0.8685575930549666, 0.25571118364763534, 0.16138514192947043, 0.2013897790480213, 0.1747922354194339, -0.056548442588444, 0.27693176570219025, 0.26973198056057585, 0.2970241841240467, 0.2825729919859615, -0.0930457406817791, 0.41985575857789376, 0.3655576193789307, 0.44830626844727794, 0.9203773751367574, 0.2959433379791004, 0.19397304040854726, 0.33206537190682084, -0.15691922036699657], [0.0075971753159768535, 0.1020905519719616, 0.03431281774987947, 0.04986351645419247, 0.01300407911646732, 0.12825447588697433, 0.32026495592252674, 0.03197828860228753, -0.027315956293172666, 0.012876699997378015, 0.04780250201361611, 0.4056141922195398, 0.37980529773740546, 0.2740496572699851, 0.9063966025496222, 0.06391064875290185, 0.445982697244342, 0.5611361433448372, 0.25427714738399854, 1.0, 0.06880102907736181, 0.39172105603095986, 0.5284097051201753, 0.1559779443890488, 0.8752369947328426, 0.29204576955240047, 0.6376581112987567, 0.6890216585763269, 0.3873816555723518, 0.42976122076608236, 0.4093062794365384, 0.41998321679493755, 0.42399372678984865, 0.3329192389393149, 0.08860738807552414, 0.2892302700034577, 0.8043992233248357, 0.12883371559109452, 0.9679539505250104, 0.17844478766464714, 0.6222530562013728, 0.0995332757578406], [0.007032250808178731, 0.7473074655843217, 0.4232232757892742, 0.12158811108146973, 0.4908778620985995, 0.20938874203753058, -0.10150929432128873, 0.49739876905075686, 0.2836510920487009, 0.023678633352346087, -0.04680260111653201, 0.07227007700941779, -0.107569987534242, 0.35060876414679526, -0.008613919100244378, 0.9832181262929334, 0.21156644392233587, -0.0456925858013599, 0.41087593034648284, 0.06880102907736181, 1.0, 0.4386007838650763, 0.2190445240494822, 0.6290470909337798, 0.2510044147790973, 0.3478557578932977, -0.002280786857894967, -0.008047652163947702, -0.12212349550373394, 0.056249235608071324, 0.0853231308642755, 0.08548307814630453, 0.11706321823748476, -0.15149667933872235, 0.8268313272070905, 0.42203456372222886, 0.2907076736017799, 0.24224304592570398, 0.3776054671390508, 0.2708683436621161, 0.1468963758669725, -0.2754602178817853], [0.01582556831414062, 0.48721462741237753, 0.3015309370651468, 0.08464526547976409, 0.30006962568299383, 0.23590402203879526, -0.050318919038584556, 0.381430172726078, 0.14591944377388083, 0.0093307699810548, -0.0031136199844467977, 0.6344550785603892, -0.08546148931898274, 0.33410311712479973, 0.2840409462831272, 0.4160455797905281, 0.8440649402382238, 0.01805193308682618, 0.34010413217826446, 0.39172105603095986, 0.4386007838650763, 1.0, 0.18501415863413362, 0.4207519369325606, 0.524473619731234, 0.2001652270595056, 0.2529618522779657, 0.28367242794186304, -0.07556432944243352, 0.4596387553636913, 0.4765049982842145, 0.44296792294288817, 0.4718350609422307, -0.10670975869739498, 0.44147351025250914, 0.779677310029863, 0.5277471290727961, 0.1958374777731266, 0.5022248923234278, 0.28286393308691965, 0.4584571634306776, -0.16270293428955254], [-0.007275358876827783, 0.30713718981137517, 0.049751030817782434, 0.09136127793953498, 0.05841076413508309, 0.08298652050961652, 0.33800002102014526, 0.021849873290698874, -0.05188796693476108, 0.015318210455333554, 0.013923253419490697, 0.09023700326040582, 0.68538125012221, 0.17527048813778612, 0.4244398628739789, 0.21027023270849268, 0.11499502062641517, 0.809290927863161, 0.18108058172424515, 0.5284097051201753, 0.2190445240494822, 0.18501415863413362, 1.0, 0.23447461473036854, 0.6027619911363409, 0.3865173901908781, 0.3624009828006379, 0.3716151957323668, 0.45609927295103475, 0.12116621486495753, 0.08088614046174863, 0.10532327933455361, 0.12199188525143301, 0.38218041397261415, 0.2509085958411224, 0.13896911514026145, 0.644495117687673, 0.09228808837431805, 0.44810110307211015, 0.13938752460413154, 0.3071433385800808, 0.02167009520848411], [0.0025798519032235716, 0.6767369063901483, 0.3943311750358555, 0.12566931537859952, 0.41042040987058614, 0.1697102662380019, -0.09771767157855474, 0.4010800696574157, 0.1825416066183817, 0.013001129982669841, -0.020982131498272348, 0.12653325616989355, -0.07973170318017352, 0.5031491486432773, 0.0754602052476476, 0.5924405388840411, 0.2584466742827318, -0.0023414778205627295, 0.8685575930549666, 0.1559779443890488, 0.6290470909337798, 0.4207519369325606, 0.23447461473036854, 1.0, 0.2840770850696932, 0.2833142927750924, 0.0789193658603043, 0.06710637638014103, -0.10584359347573374, 0.13043135320698657, 0.12354616648330582, 0.14943908034674153, 0.1521797107058802, -0.11718583459936337, 0.61152336502338, 0.483140220120532, 0.3681104384811773, 0.7218126872827043, 0.42456839087684073, 0.24571465100761544, 0.19942237504847946, -0.23233963443477815], [0.02097971380825794, 0.3278034036719336, 0.14385633661534755, 0.08249812379210303, 0.1290975993838885, 0.18544145639456563, 0.2245621279517741, 0.15231052086263686, 0.020352076664609142, 0.023266474286361864, 0.014850075132149863, 0.3148369744355482, 0.26437896226766844, 0.25381927849350167, 0.7031913031556946, 0.2347384947810257, 0.4378317262583061, 0.43649237386963596, 0.25571118364763534, 0.8752369947328426, 0.2510044147790973, 0.524473619731234, 0.6027619911363409, 0.2840770850696932, 1.0, 0.32482676045549347, 0.49641538901683074, 0.5239478904930286, 0.27433130666713096, 0.34399698124259626, 0.3196233367180674, 0.3403089257215939, 0.34948091353390726, 0.21927732005631, 0.27507889721242385, 0.4150235660361639, 0.6818583590353697, 0.13563079590052174, 0.7535334572645855, 0.21913887508366559, 0.4915113347665151, -0.03234146631582668], [-0.03301540106045141, 0.4096297439308058, 0.12492786383726931, 0.09161917097396081, 0.15558107378550434, 0.10321990959871141, 0.26596856624956366, 0.1186702819767985, 0.025310571449555078, 0.021739745171824372, 0.0457342727462216, 0.011429740243726874, 0.29060820486958755, 0.14121673937644869, 0.23863836128037358, 0.33417486214411457, 0.07409673372141487, 0.3386464215938224, 0.16138514192947043, 0.29204576955240047, 0.3478557578932977, 0.2001652270595056, 0.3865173901908781, 0.2833142927750924, 0.32482676045549347, 1.0, 0.21157697382012136, 0.20529803478600242, 0.2707314384345261, 0.002104149677044075, 0.038565573837524875, 0.019326064375941063, 0.046258228574639494, 0.2436429805772201, 0.36833503710716864, 0.21541069866070042, 0.33722240048609564, 0.10580258487118864, 0.38084480757254924, 0.15397261749382185, 0.3409948319255174, -0.014142966266777114], [-0.015157896090812329, -0.005590908770682831, -0.032375768085664766, 0.019653899668076572, -0.05337154393937748, 0.1313321918082256, 0.309637049764595, -0.031076538171717686, -0.05431936140212326, 0.016671138205766538, 0.06874012715481172, 0.3348308572681386, 0.34678137726772645, 0.213508384877566, 0.6144265535272354, -0.004622049724589158, 0.3338724508440078, 0.462976957564722, 0.2013897790480213, 0.6376581112987567, -0.002280786857894967, 0.2529618522779657, 0.3624009828006379, 0.0789193658603043, 0.49641538901683074, 0.21157697382012136, 1.0, 0.537860719700403, 0.34317888610786845, 0.36452052896178694, 0.3678316360904905, 0.3832172617425693, 0.3669385477147912, 0.311496239900948, -0.0022500627212291165, 0.18012478308384935, 0.6111971986459656, 0.11580790282783941, 0.3900830302571453, 0.1407220248627378, 0.5823590767081066, 0.1594101134080165], [0.000720108575142013, -0.02072138908919249, -0.05487643722868196, 0.044653636900997336, -0.0559689375924008, 0.11212117508388633, 0.301665997920928, -0.015728136013485734, -0.05666637955245625, -0.0316089729421621, 0.06443255539643856, 0.4025940246752088, 0.3660043400340099, 0.2000061087246839, 0.6571374033748741, -0.008348598479512623, 0.38301631885529425, 0.4907311554663246, 0.1747922354194339, 0.6890216585763269, -0.008047652163947702, 0.28367242794186304, 0.3716151957323668, 0.06710637638014103, 0.5239478904930286, 0.20529803478600242, 0.537860719700403, 1.0, 0.35860330928683, 0.38034217592102293, 0.37092616597027794, 0.37950354245252954, 0.34144821669185044, 0.3118888297766585, -0.016010064118794624, 0.13871324968560303, 0.6168256504857316, 0.07890995854806072, 0.43540653753392594, 0.14417583226717798, 0.6077903068717248, 0.1301114791635673], [-0.00024401107264914807, -0.14088847735750692, -0.14102544670729772, 0.024220444552480864, -0.13117444400240721, -0.009436126279945762, 0.460052465442704, -0.19861355115544935, -0.12047197404744572, 0.01968536151884842, 0.034955446904262305, 0.0023587604885079933, 0.6003589041042144, -0.02442604731189244, 0.38643104500520564, -0.12004037605984229, -0.03370277315738869, 0.6187198118123174, -0.056548442588444, 0.3873816555723518, -0.12212349550373394, -0.07556432944243352, 0.45609927295103475, -0.10584359347573374, 0.27433130666713096, 0.2707314384345261, 0.34317888610786845, 0.35860330928683, 1.0, 0.024867557974690695, 0.0021574781761859664, 0.018979122458827297, 0.005242013022568164, 0.5385823222988907, -0.1251676304875841, -0.07897493923286532, 0.28897162775138097, -0.07440035428338457, 0.1691563046335041, 0.0032889538584700393, 0.23292894053303914, 0.27043200708143245], [0.018199160762970734, 0.058310908740579294, 0.08099768790420246, 0.0356475279467213, 0.03215471314497594, 0.15640076133693553, 0.03153240574684257, 0.14305257226353912, 0.03208723265612231, 0.0012936817997698555, 0.0345723040632929, 0.609287784028542, 0.0013731323906733066, 0.36359391301883554, 0.43679290252746206, 0.05625425766076838, 0.5651411603504892, 0.11381073639900241, 0.27693176570219025, 0.42976122076608236, 0.056249235608071324, 0.4596387553636913, 0.12116621486495753, 0.13043135320698657, 0.34399698124259626, 0.002104149677044075, 0.36452052896178694, 0.38034217592102293, 0.024867557974690695, 1.0, 0.6356049525442616, 0.6199765015323115, 0.6105978922152172, -0.03087067095846917, 0.07153227012791563, 0.3007404420930952, 0.5440494810082224, 0.07995411638525296, 0.2267965142460923, 0.1790515704237816, 0.6966485668130458, -0.0215128634609858], [0.010620235862871358, 0.08677702184171382, 0.07368521883440585, 0.02371185782681093, 0.059891244704893445, 0.13593336328427627, 0.014026781579375945, 0.1525548391347076, 0.04920971737157045, -0.03101188046743101, 0.04108255971716201, 0.6456036408678695, -0.02141338875437825, 0.3647282313378662, 0.40956813529227076, 0.09438158060452013, 0.5883679812971914, 0.0908165629329923, 0.26973198056057585, 0.4093062794365384, 0.0853231308642755, 0.4765049982842145, 0.08088614046174863, 0.12354616648330582, 0.3196233367180674, 0.038565573837524875, 0.3678316360904905, 0.37092616597027794, 0.0021574781761859664, 0.6356049525442616, 1.0, 0.6199197544517584, 0.5823867900646238, -0.0618612178449126, 0.1119764267316157, 0.3101186620214271, 0.5390817517554934, 0.07970985499849373, 0.23619330674571717, 0.15766247427504995, 0.6929779544729924, -0.06231379054271576], [0.017540511188633787, 0.08588376912400171, 0.08059528373300122, 0.043866492291401035, 0.07804200160957711, 0.11714781413376585, 0.02979048039703487, 0.11580105014061921, 0.0361878305246413, -0.035548034569272406, 0.04295250060852851, 0.5941339620661048, 0.011101459208233362, 0.37134641520620926, 0.4165748107757616, 0.08887687506374578, 0.5511679316438722, 0.11835867698064127, 0.2970241841240467, 0.41998321679493755, 0.08548307814630453, 0.44296792294288817, 0.10532327933455361, 0.14943908034674153, 0.3403089257215939, 0.019326064375941063, 0.3832172617425693, 0.37950354245252954, 0.018979122458827297, 0.6199765015323115, 0.6199197544517584, 1.0, 0.5981194030793663, -0.024441793263989018, 0.10188191854459044, 0.29234808843689103, 0.5272087862821739, 0.12892140493483928, 0.27146151877431124, 0.13925494855419832, 0.700064888045335, -0.018306358763880756], [-0.017269253585669535, 0.13358478318701372, 0.12119274126342679, 0.006040350345647997, 0.0879622147556103, 0.13856333668000326, 0.01662826087589146, 0.1686075266945854, 0.06053757569502232, -0.002137252777527765, -0.005800441879595282, 0.5729877815921924, -0.011388036700302901, 0.36231546000965653, 0.41800942777070554, 0.1095948490275129, 0.5540820610339466, 0.10634014299344717, 0.2825729919859615, 0.42399372678984865, 0.11706321823748476, 0.4718350609422307, 0.12199188525143301, 0.1521797107058802, 0.34948091353390726, 0.046258228574639494, 0.3669385477147912, 0.34144821669185044, 0.005242013022568164, 0.6105978922152172, 0.5823867900646238, 0.5981194030793663, 1.0, -0.03826371707788024, 0.11282756892320348, 0.3992465483447055, 0.5642331998237297, 0.1251625507151225, 0.2773887694612175, 0.16553849359032555, 0.6635951148358581, -0.06523687823445354], [0.03003909245670337, -0.1570947627988282, -0.14442532638679814, -0.05649538517786189, -0.13108827312948634, -0.03406232663673684, 0.4050400535760745, -0.18204342975336096, -0.08252402316333246, -0.01577072875887085, 0.00028705580410380685, -0.04499823679796097, 0.5689138707401963, -0.0954223949181086, 0.3364075887543697, -0.15066917937514773, -0.0818422930014737, 0.5673371168977692, -0.0930457406817791, 0.3329192389393149, -0.15149667933872235, -0.10670975869739498, 0.38218041397261415, -0.11718583459936337, 0.21927732005631, 0.2436429805772201, 0.311496239900948, 0.3118888297766585, 0.5385823222988907, -0.03087067095846917, -0.0618612178449126, -0.024441793263989018, -0.03826371707788024, 1.0, -0.15556997025516842, -0.11592765349021995, 0.16702379513657228, -0.05825622278163142, 0.11872298561601453, 0.007922787867912206, 0.15403986131672517, 0.25688004548743015], [-0.008796806858430404, 0.8406932309887876, 0.42865468273979107, 0.16417412065776404, 0.47180862414451, 0.20163216142430707, -0.07473562411569885, 0.4605545602150173, 0.19662603306797352, 0.0030849169202349855, -0.026630271173693477, 0.09540398097074394, -0.14728740931999296, 0.4176892119419768, 0.005940984862276668, 0.87432701923194, 0.22164391780484793, -0.06169119629632835, 0.41985575857789376, 0.08860738807552414, 0.8268313272070905, 0.44147351025250914, 0.2509085958411224, 0.61152336502338, 0.27507889721242385, 0.36833503710716864, -0.0022500627212291165, -0.016010064118794624, -0.1251676304875841, 0.07153227012791563, 0.1119764267316157, 0.10188191854459044, 0.11282756892320348, -0.15556997025516842, 1.0, 0.45881287890759626, 0.383848112994602, 0.22678596639158444, 0.4027655730549385, 0.28762449039674315, 0.17696339667843727, -0.33636661756474673], [-0.024545139143969295, 0.527153166534657, 0.289699278320861, 0.15994485003152428, 0.29635828722447144, 0.1404666770205444, -0.09573616436741214, 0.3236085691579972, 0.11756345718106727, 0.05446612354507152, 0.030066885327719114, -0.2125934780627656, -0.15027849324112103, 0.3096337987126504, 0.17106933005216995, 0.4046507376128683, 0.9198852919893642, -0.059072513987551166, 0.3655576193789307, 0.2892302700034577, 0.42203456372222886, 0.779677310029863, 0.13896911514026145, 0.483140220120532, 0.4150235660361639, 0.21541069866070042, 0.18012478308384935, 0.13871324968560303, -0.07897493923286532, 0.3007404420930952, 0.3101186620214271, 0.29234808843689103, 0.3992465483447055, -0.11592765349021995, 0.45881287890759626, 1.0, 0.5200368844475027, 0.3073886787187624, 0.45106774480871364, 0.2043625027159872, 0.31703364967436254, -0.20953080062224144], [-0.0024376526111038275, 0.4092183948465951, 0.19375253614697577, 0.06852023360948901, 0.16466954423047736, 0.21995639793237864, 0.2398922511032933, 0.1862300293003795, 0.07291795062612, 0.01938766871151873, 0.05089695633317052, 0.49479655043026444, null, 0.5093646183014136, 0.7076724969452123, 0.2908798595597753, 0.5774298191720821, 0.9841046894994216, 0.44830626844727794, 0.8043992233248357, 0.2907076736017799, 0.5277471290727961, 0.644495117687673, 0.3681104384811773, 0.6818583590353697, 0.33722240048609564, 0.6111971986459656, 0.6168256504857316, 0.28897162775138097, 0.5440494810082224, 0.5390817517554934, 0.5272087862821739, 0.5642331998237297, 0.16702379513657228, 0.383848112994602, 0.5200368844475027, 1.0, 0.2287955598173868, 0.7641556899030979, 0.24352627985604747, 0.6989797094802775, -0.15493296990930622], [-0.03556914192367417, 0.22446009698982222, 0.15339970750172086, 0.12235622766882517, 0.1478419513624435, 0.05721505841024848, -0.04307922297871908, 0.14145867047750557, 0.08327275172533062, -0.053282267432934516, 0.04504225072952165, 0.06943554209360828, -0.007884895693819657, null, 0.08447750069467659, 0.22380788271928573, 0.15566422053677872, 0.031226840760266324, 0.9203773751367574, 0.12883371559109452, 0.24224304592570398, 0.1958374777731266, 0.09228808837431805, 0.7218126872827043, 0.13563079590052174, 0.10580258487118864, 0.11580790282783941, 0.07890995854806072, -0.07440035428338457, 0.07995411638525296, 0.07970985499849373, 0.12892140493483928, 0.1251625507151225, -0.05825622278163142, 0.22678596639158444, 0.3073886787187624, 0.2287955598173868, 1.0, 0.21208801991436993, 0.07351047877928021, 0.1245969408604556, 0.027984037772391845], [0.04725671362836228, 0.46087397501606875, 0.21793727074061636, 0.10670815779908203, 0.21516869526844143, 0.18137621706465773, 0.13535881354618903, 0.21501873941452723, 0.07566575354126086, 0.06240003683940934, 0.06690519469549921, 0.2493000749503027, 0.10464761317378146, 0.2631726391433639, null, 0.35961783172958595, 0.43857307538216384, 0.31147597646308306, 0.2959433379791004, 0.9679539505250104, 0.3776054671390508, 0.5022248923234278, 0.44810110307211015, 0.42456839087684073, 0.7535334572645855, 0.38084480757254924, 0.3900830302571453, 0.43540653753392594, 0.1691563046335041, 0.2267965142460923, 0.23619330674571717, 0.27146151877431124, 0.2773887694612175, 0.11872298561601453, 0.4027655730549385, 0.45106774480871364, 0.7641556899030979, 0.21208801991436993, 1.0, 0.23457550711929762, 0.487991378728953, -0.08007986774909959], [-0.005515414780174855, 0.33313055552189796, 0.3884717253468511, -0.01127354771700025, 0.2624371451653095, 0.7804648675466258, 0.1540846215434884, 0.6336248311171065, -0.2123956738353791, 0.027101627693337023, -0.09702401617661122, 0.17672010614234965, -0.004754747259428055, 0.22051455973513406, 0.1416501769240429, 0.2587009318929063, 0.20909482015269734, 0.04287003131886225, 0.19397304040854726, 0.17844478766464714, 0.2708683436621161, 0.28286393308691965, 0.13938752460413154, 0.24571465100761544, 0.21913887508366559, 0.15397261749382185, 0.1407220248627378, 0.14417583226717798, 0.0032889538584700393, 0.1790515704237816, 0.15766247427504995, 0.13925494855419832, 0.16553849359032555, 0.007922787867912206, 0.28762449039674315, 0.2043625027159872, 0.24352627985604747, 0.07351047877928021, 0.23457550711929762, 1.0, 0.19094779876283527, -0.10464745750586428], [-0.023770651305126844, 0.1666905578826468, 0.05690892712798072, 0.08383570717342569, 0.06791316309090531, 0.13452539502269487, 0.19386384961454142, 0.11001069597646529, 0.008907859375651856, -0.004966497351835191, 0.08202218369702716, 0.6101815997419455, 0.21282764281211475, 0.41631638731958764, 0.6081299473175732, 0.14922405543475545, 0.561467295157599, 0.3519269364252986, 0.33206537190682084, 0.6222530562013728, 0.1468963758669725, 0.4584571634306776, 0.3071433385800808, 0.19942237504847946, 0.4915113347665151, 0.3409948319255174, 0.5823590767081066, 0.6077903068717248, 0.23292894053303914, 0.6966485668130458, 0.6929779544729924, 0.700064888045335, 0.6635951148358581, 0.15403986131672517, 0.17696339667843727, 0.31703364967436254, 0.6989797094802775, 0.1245969408604556, 0.487991378728953, 0.19094779876283527, 1.0, 0.007132320027494281], [-0.016567249067909365, -0.37682844906621626, -0.25281861938041733, -0.0387007084678578, -0.24307214586155382, -0.09133909075408327, 0.20396488118082234, -0.2742131649379378, -0.10464778750284713, 0.006021297525098114, 0.009852260997048676, -0.02189465278105143, 0.3050511508747483, -0.2436340007246777, 0.13210276848236557, -0.2723717933577015, -0.09012614844893069, 0.25365900583802264, -0.15691922036699657, 0.0995332757578406, -0.2754602178817853, -0.16270293428955254, 0.02167009520848411, -0.23233963443477815, -0.03234146631582668, -0.014142966266777114, 0.1594101134080165, 0.1301114791635673, 0.27043200708143245, -0.0215128634609858, -0.06231379054271576, -0.018306358763880756, -0.06523687823445354, 0.25688004548743015, -0.33636661756474673, -0.20953080062224144, -0.15493296990930622, 0.027984037772391845, -0.08007986774909959, -0.10464745750586428, 0.007132320027494281, 1.0]]}],\n",
       "                        {\"template\": {\"data\": {\"bar\": [{\"error_x\": {\"color\": \"#2a3f5f\"}, \"error_y\": {\"color\": \"#2a3f5f\"}, \"marker\": {\"line\": {\"color\": \"#E5ECF6\", \"width\": 0.5}}, \"type\": \"bar\"}], \"barpolar\": [{\"marker\": {\"line\": {\"color\": \"#E5ECF6\", \"width\": 0.5}}, \"type\": \"barpolar\"}], \"carpet\": [{\"aaxis\": {\"endlinecolor\": \"#2a3f5f\", \"gridcolor\": \"white\", \"linecolor\": \"white\", \"minorgridcolor\": \"white\", \"startlinecolor\": \"#2a3f5f\"}, \"baxis\": {\"endlinecolor\": \"#2a3f5f\", \"gridcolor\": \"white\", \"linecolor\": \"white\", \"minorgridcolor\": \"white\", \"startlinecolor\": \"#2a3f5f\"}, \"type\": \"carpet\"}], \"choropleth\": [{\"colorbar\": {\"outlinewidth\": 0, \"ticks\": \"\"}, \"type\": \"choropleth\"}], \"contour\": [{\"colorbar\": {\"outlinewidth\": 0, \"ticks\": \"\"}, \"colorscale\": [[0.0, \"#0d0887\"], [0.1111111111111111, \"#46039f\"], [0.2222222222222222, \"#7201a8\"], [0.3333333333333333, \"#9c179e\"], [0.4444444444444444, \"#bd3786\"], [0.5555555555555556, \"#d8576b\"], [0.6666666666666666, \"#ed7953\"], [0.7777777777777778, \"#fb9f3a\"], [0.8888888888888888, \"#fdca26\"], [1.0, \"#f0f921\"]], \"type\": \"contour\"}], \"contourcarpet\": [{\"colorbar\": {\"outlinewidth\": 0, \"ticks\": \"\"}, \"type\": \"contourcarpet\"}], \"heatmap\": [{\"colorbar\": {\"outlinewidth\": 0, \"ticks\": \"\"}, \"colorscale\": [[0.0, \"#0d0887\"], [0.1111111111111111, \"#46039f\"], [0.2222222222222222, \"#7201a8\"], [0.3333333333333333, \"#9c179e\"], [0.4444444444444444, \"#bd3786\"], [0.5555555555555556, \"#d8576b\"], [0.6666666666666666, \"#ed7953\"], [0.7777777777777778, \"#fb9f3a\"], [0.8888888888888888, \"#fdca26\"], [1.0, \"#f0f921\"]], \"type\": \"heatmap\"}], \"heatmapgl\": [{\"colorbar\": {\"outlinewidth\": 0, \"ticks\": \"\"}, \"colorscale\": [[0.0, \"#0d0887\"], [0.1111111111111111, \"#46039f\"], [0.2222222222222222, \"#7201a8\"], [0.3333333333333333, \"#9c179e\"], [0.4444444444444444, \"#bd3786\"], [0.5555555555555556, \"#d8576b\"], [0.6666666666666666, \"#ed7953\"], [0.7777777777777778, \"#fb9f3a\"], [0.8888888888888888, \"#fdca26\"], [1.0, \"#f0f921\"]], \"type\": \"heatmapgl\"}], \"histogram\": [{\"marker\": {\"colorbar\": {\"outlinewidth\": 0, \"ticks\": \"\"}}, \"type\": \"histogram\"}], \"histogram2d\": [{\"colorbar\": {\"outlinewidth\": 0, \"ticks\": \"\"}, \"colorscale\": [[0.0, \"#0d0887\"], [0.1111111111111111, \"#46039f\"], [0.2222222222222222, \"#7201a8\"], [0.3333333333333333, \"#9c179e\"], [0.4444444444444444, \"#bd3786\"], [0.5555555555555556, \"#d8576b\"], [0.6666666666666666, \"#ed7953\"], [0.7777777777777778, \"#fb9f3a\"], [0.8888888888888888, \"#fdca26\"], [1.0, \"#f0f921\"]], \"type\": \"histogram2d\"}], \"histogram2dcontour\": [{\"colorbar\": {\"outlinewidth\": 0, \"ticks\": \"\"}, \"colorscale\": [[0.0, \"#0d0887\"], [0.1111111111111111, \"#46039f\"], [0.2222222222222222, \"#7201a8\"], [0.3333333333333333, \"#9c179e\"], [0.4444444444444444, \"#bd3786\"], [0.5555555555555556, \"#d8576b\"], [0.6666666666666666, \"#ed7953\"], [0.7777777777777778, \"#fb9f3a\"], [0.8888888888888888, \"#fdca26\"], [1.0, \"#f0f921\"]], \"type\": \"histogram2dcontour\"}], \"mesh3d\": [{\"colorbar\": {\"outlinewidth\": 0, \"ticks\": \"\"}, \"type\": \"mesh3d\"}], \"parcoords\": [{\"line\": {\"colorbar\": {\"outlinewidth\": 0, \"ticks\": \"\"}}, \"type\": \"parcoords\"}], \"pie\": [{\"automargin\": true, \"type\": \"pie\"}], \"scatter\": [{\"marker\": {\"colorbar\": {\"outlinewidth\": 0, \"ticks\": \"\"}}, \"type\": \"scatter\"}], \"scatter3d\": [{\"line\": {\"colorbar\": {\"outlinewidth\": 0, \"ticks\": \"\"}}, \"marker\": {\"colorbar\": {\"outlinewidth\": 0, \"ticks\": \"\"}}, \"type\": \"scatter3d\"}], \"scattercarpet\": [{\"marker\": {\"colorbar\": {\"outlinewidth\": 0, \"ticks\": \"\"}}, \"type\": \"scattercarpet\"}], \"scattergeo\": [{\"marker\": {\"colorbar\": {\"outlinewidth\": 0, \"ticks\": \"\"}}, \"type\": \"scattergeo\"}], \"scattergl\": [{\"marker\": {\"colorbar\": {\"outlinewidth\": 0, \"ticks\": \"\"}}, \"type\": \"scattergl\"}], \"scattermapbox\": [{\"marker\": {\"colorbar\": {\"outlinewidth\": 0, \"ticks\": \"\"}}, \"type\": \"scattermapbox\"}], \"scatterpolar\": [{\"marker\": {\"colorbar\": {\"outlinewidth\": 0, \"ticks\": \"\"}}, \"type\": \"scatterpolar\"}], \"scatterpolargl\": [{\"marker\": {\"colorbar\": {\"outlinewidth\": 0, \"ticks\": \"\"}}, \"type\": \"scatterpolargl\"}], \"scatterternary\": [{\"marker\": {\"colorbar\": {\"outlinewidth\": 0, \"ticks\": \"\"}}, \"type\": \"scatterternary\"}], \"surface\": [{\"colorbar\": {\"outlinewidth\": 0, \"ticks\": \"\"}, \"colorscale\": [[0.0, \"#0d0887\"], [0.1111111111111111, \"#46039f\"], [0.2222222222222222, \"#7201a8\"], [0.3333333333333333, \"#9c179e\"], [0.4444444444444444, \"#bd3786\"], [0.5555555555555556, \"#d8576b\"], [0.6666666666666666, \"#ed7953\"], [0.7777777777777778, \"#fb9f3a\"], [0.8888888888888888, \"#fdca26\"], [1.0, \"#f0f921\"]], \"type\": \"surface\"}], \"table\": [{\"cells\": {\"fill\": {\"color\": \"#EBF0F8\"}, \"line\": {\"color\": \"white\"}}, \"header\": {\"fill\": {\"color\": \"#C8D4E3\"}, \"line\": {\"color\": \"white\"}}, \"type\": \"table\"}]}, \"layout\": {\"annotationdefaults\": {\"arrowcolor\": \"#2a3f5f\", \"arrowhead\": 0, \"arrowwidth\": 1}, \"coloraxis\": {\"colorbar\": {\"outlinewidth\": 0, \"ticks\": \"\"}}, \"colorscale\": {\"diverging\": [[0, \"#8e0152\"], [0.1, \"#c51b7d\"], [0.2, \"#de77ae\"], [0.3, \"#f1b6da\"], [0.4, \"#fde0ef\"], [0.5, \"#f7f7f7\"], [0.6, \"#e6f5d0\"], [0.7, \"#b8e186\"], [0.8, \"#7fbc41\"], [0.9, \"#4d9221\"], [1, \"#276419\"]], \"sequential\": [[0.0, \"#0d0887\"], [0.1111111111111111, \"#46039f\"], [0.2222222222222222, \"#7201a8\"], [0.3333333333333333, \"#9c179e\"], [0.4444444444444444, \"#bd3786\"], [0.5555555555555556, \"#d8576b\"], [0.6666666666666666, \"#ed7953\"], [0.7777777777777778, \"#fb9f3a\"], [0.8888888888888888, \"#fdca26\"], [1.0, \"#f0f921\"]], \"sequentialminus\": [[0.0, \"#0d0887\"], [0.1111111111111111, \"#46039f\"], [0.2222222222222222, \"#7201a8\"], [0.3333333333333333, \"#9c179e\"], [0.4444444444444444, \"#bd3786\"], [0.5555555555555556, \"#d8576b\"], [0.6666666666666666, \"#ed7953\"], [0.7777777777777778, \"#fb9f3a\"], [0.8888888888888888, \"#fdca26\"], [1.0, \"#f0f921\"]]}, \"colorway\": [\"#636efa\", \"#EF553B\", \"#00cc96\", \"#ab63fa\", \"#FFA15A\", \"#19d3f3\", \"#FF6692\", \"#B6E880\", \"#FF97FF\", \"#FECB52\"], \"font\": {\"color\": \"#2a3f5f\"}, \"geo\": {\"bgcolor\": \"white\", \"lakecolor\": \"white\", \"landcolor\": \"#E5ECF6\", \"showlakes\": true, \"showland\": true, \"subunitcolor\": \"white\"}, \"hoverlabel\": {\"align\": \"left\"}, \"hovermode\": \"closest\", \"mapbox\": {\"style\": \"light\"}, \"paper_bgcolor\": \"white\", \"plot_bgcolor\": \"#E5ECF6\", \"polar\": {\"angularaxis\": {\"gridcolor\": \"white\", \"linecolor\": \"white\", \"ticks\": \"\"}, \"bgcolor\": \"#E5ECF6\", \"radialaxis\": {\"gridcolor\": \"white\", \"linecolor\": \"white\", \"ticks\": \"\"}}, \"scene\": {\"xaxis\": {\"backgroundcolor\": \"#E5ECF6\", \"gridcolor\": \"white\", \"gridwidth\": 2, \"linecolor\": \"white\", \"showbackground\": true, \"ticks\": \"\", \"zerolinecolor\": \"white\"}, \"yaxis\": {\"backgroundcolor\": \"#E5ECF6\", \"gridcolor\": \"white\", \"gridwidth\": 2, \"linecolor\": \"white\", \"showbackground\": true, \"ticks\": \"\", \"zerolinecolor\": \"white\"}, \"zaxis\": {\"backgroundcolor\": \"#E5ECF6\", \"gridcolor\": \"white\", \"gridwidth\": 2, \"linecolor\": \"white\", \"showbackground\": true, \"ticks\": \"\", \"zerolinecolor\": \"white\"}}, \"shapedefaults\": {\"line\": {\"color\": \"#2a3f5f\"}}, \"ternary\": {\"aaxis\": {\"gridcolor\": \"white\", \"linecolor\": \"white\", \"ticks\": \"\"}, \"baxis\": {\"gridcolor\": \"white\", \"linecolor\": \"white\", \"ticks\": \"\"}, \"bgcolor\": \"#E5ECF6\", \"caxis\": {\"gridcolor\": \"white\", \"linecolor\": \"white\", \"ticks\": \"\"}}, \"title\": {\"x\": 0.05}, \"xaxis\": {\"automargin\": true, \"gridcolor\": \"white\", \"linecolor\": \"white\", \"ticks\": \"\", \"title\": {\"standoff\": 15}, \"zerolinecolor\": \"white\", \"zerolinewidth\": 2}, \"yaxis\": {\"automargin\": true, \"gridcolor\": \"white\", \"linecolor\": \"white\", \"ticks\": \"\", \"title\": {\"standoff\": 15}, \"zerolinecolor\": \"white\", \"zerolinewidth\": 2}}}},\n",
       "                        {\"responsive\": true}\n",
       "                    ).then(function(){\n",
       "                            \n",
       "var gd = document.getElementById('9c517252-1682-47d5-91fc-a2a0f207b9bd');\n",
       "var x = new MutationObserver(function (mutations, observer) {{\n",
       "        var display = window.getComputedStyle(gd).display;\n",
       "        if (!display || display === 'none') {{\n",
       "            console.log([gd, 'removed!']);\n",
       "            Plotly.purge(gd);\n",
       "            observer.disconnect();\n",
       "        }}\n",
       "}});\n",
       "\n",
       "// Listen for the removal of the full notebook cells\n",
       "var notebookContainer = gd.closest('#notebook-container');\n",
       "if (notebookContainer) {{\n",
       "    x.observe(notebookContainer, {childList: true});\n",
       "}}\n",
       "\n",
       "// Listen for the clearing of the current output cell\n",
       "var outputEl = gd.closest('.output');\n",
       "if (outputEl) {{\n",
       "    x.observe(outputEl, {childList: true});\n",
       "}}\n",
       "\n",
       "                        })\n",
       "                };\n",
       "                });\n",
       "            </script>\n",
       "        </div>"
      ]
     },
     "metadata": {},
     "output_type": "display_data"
    }
   ],
   "source": [
    "## plotly heatmap inteactive chart\n",
    "\n",
    "fig = go.Figure(data=go.Heatmap(\n",
    "                    z=corr,\n",
    "                    x=corr.columns,\n",
    "                    y= corr.columns, colorscale=\"Viridis\"))\n",
    "fig.show()"
   ]
  },
  {
   "cell_type": "code",
   "execution_count": null,
   "metadata": {},
   "outputs": [],
   "source": []
  },
  {
   "cell_type": "code",
   "execution_count": null,
   "metadata": {},
   "outputs": [],
   "source": []
  },
  {
   "cell_type": "code",
   "execution_count": 515,
   "metadata": {},
   "outputs": [
    {
     "data": {
      "text/plain": [
       "Index(['region', 'tenure', 'age', 'marital', 'address', 'income', 'education',\n",
       "       'employ', 'retire', 'gender', 'reside', 'tollfree', 'equip', 'callcard',\n",
       "       'wireless', 'longmon', 'tollmon', 'equipmon', 'cardmon', 'wiremon',\n",
       "       'longten', 'tollten', 'equipten', 'cardten', 'wireten', 'multline',\n",
       "       'voice', 'pager', 'internet', 'callid', 'callwait', 'forward', 'confer',\n",
       "       'ebill', 'loglong', 'logtoll', 'logequi', 'logcard', 'logwire', 'lninc',\n",
       "       'custcat', 'churn'],\n",
       "      dtype='object')"
      ]
     },
     "execution_count": 515,
     "metadata": {},
     "output_type": "execute_result"
    }
   ],
   "source": [
    "df.columns"
   ]
  },
  {
   "cell_type": "code",
   "execution_count": 516,
   "metadata": {},
   "outputs": [
    {
     "data": {
      "text/plain": [
       "<matplotlib.axes._subplots.AxesSubplot at 0x2493b035d08>"
      ]
     },
     "execution_count": 516,
     "metadata": {},
     "output_type": "execute_result"
    },
    {
     "data": {
      "image/png": "[encoded data removed]",
      "text/plain": [
       "<Figure size 576x432 with 1 Axes>"
      ]
     },
     "metadata": {
      "needs_background": "light"
     },
     "output_type": "display_data"
    }
   ],
   "source": [
    "sns.boxplot(x=\"churn\", y=\"tenure\", data=df)"
   ]
  },
  {
   "cell_type": "code",
   "execution_count": 54,
   "metadata": {},
   "outputs": [
    {
     "data": {
      "text/plain": [
       "Text(0.5, 1.0, 'Distribution of tenure by churn')"
      ]
     },
     "execution_count": 54,
     "metadata": {},
     "output_type": "execute_result"
    },
    {
     "data": {
      "image/png": "[encoded data removed]",
      "text/plain": [
       "<Figure size 576x432 with 1 Axes>"
      ]
     },
     "metadata": {
      "needs_background": "light"
     },
     "output_type": "display_data"
    }
   ],
   "source": [
    "## KDE density plot to compare distribution\n",
    "\n",
    "ax = sns.kdeplot(df.tenure[(df[\"churn\"] == 1) ],\n",
    "                color=\"Red\", shade = True)\n",
    "ax = sns.kdeplot(df.tenure[(df[\"churn\"] == 0) ],\n",
    "                ax =ax, color=\"Blue\", shade= True)\n",
    "ax.legend([\"Churn\",\"Not Churn\"],loc='upper right')\n",
    "ax.set_ylabel('KDE Density')\n",
    "ax.set_xlabel('Tenure')\n",
    "ax.set_title('Distribution of tenure by churn')"
   ]
  },
  {
   "cell_type": "markdown",
   "metadata": {},
   "source": [
    "- the tenure distribution is different for churn and non-churn group\n",
    "- churn group center at around tenure = 8 to 10 , wheares not-churn group center at tenure= 40\n",
    "- the longer the tenure, the less likely they will churn"
   ]
  },
  {
   "cell_type": "code",
   "execution_count": 384,
   "metadata": {
    "collapsed": true
   },
   "outputs": [
    {
     "data": {
      "text/plain": [
       "<matplotlib.axes._subplots.AxesSubplot at 0x24934f2e088>"
      ]
     },
     "execution_count": 384,
     "metadata": {},
     "output_type": "execute_result"
    },
    {
     "data": {
      "image/png": "[encoded data removed]",
      "text/plain": [
       "<Figure size 576x432 with 1 Axes>"
      ]
     },
     "metadata": {
      "needs_background": "light"
     },
     "output_type": "display_data"
    }
   ],
   "source": [
    "sns.boxplot(x=\"churn\", y=\"age\", data=df)"
   ]
  },
  {
   "cell_type": "code",
   "execution_count": 385,
   "metadata": {
    "collapsed": true
   },
   "outputs": [
    {
     "data": {
      "text/plain": [
       "<matplotlib.axes._subplots.AxesSubplot at 0x24934fa9648>"
      ]
     },
     "execution_count": 385,
     "metadata": {},
     "output_type": "execute_result"
    },
    {
     "data": {
      "image/png": "[encoded data removed]",
      "text/plain": [
       "<Figure size 576x432 with 1 Axes>"
      ]
     },
     "metadata": {
      "needs_background": "light"
     },
     "output_type": "display_data"
    }
   ],
   "source": [
    "sns.boxplot(x=\"churn\", y=\"income\", data=df)"
   ]
  },
  {
   "cell_type": "code",
   "execution_count": 386,
   "metadata": {
    "collapsed": true
   },
   "outputs": [
    {
     "data": {
      "text/plain": [
       "<matplotlib.axes._subplots.AxesSubplot at 0x2493502ca08>"
      ]
     },
     "execution_count": 386,
     "metadata": {},
     "output_type": "execute_result"
    },
    {
     "data": {
      "image/png": "[encoded data removed]",
      "text/plain": [
       "<Figure size 576x432 with 1 Axes>"
      ]
     },
     "metadata": {
      "needs_background": "light"
     },
     "output_type": "display_data"
    }
   ],
   "source": [
    "sns.boxplot(x=\"churn\", y=\"lninc\", data=df)"
   ]
  },
  {
   "cell_type": "markdown",
   "metadata": {},
   "source": [
    "- both income and log-income distribution are not much difference for both churn and non-churn group"
   ]
  },
  {
   "cell_type": "code",
   "execution_count": 387,
   "metadata": {
    "collapsed": true
   },
   "outputs": [
    {
     "data": {
      "text/plain": [
       "<seaborn.axisgrid.PairGrid at 0x249350a7108>"
      ]
     },
     "execution_count": 387,
     "metadata": {},
     "output_type": "execute_result"
    },
    {
     "data": {
      "image/png": "[encoded data removed]",
      "text/plain": [
       "<Figure size 720x720 with 20 Axes>"
      ]
     },
     "metadata": {
      "needs_background": "light"
     },
     "output_type": "display_data"
    }
   ],
   "source": [
    "## pairplot\n",
    "sns.pairplot(df.iloc[:,:4] )\n"
   ]
  },
  {
   "cell_type": "markdown",
   "metadata": {},
   "source": [
    "## data preprocess and feature engineering"
   ]
  },
  {
   "cell_type": "markdown",
   "metadata": {},
   "source": [
    "- some of the variable is in numeric but it represent a class instead of number (e.g. region, address)\n",
    "- it is important to convert these variable to categorical variable, else it will affect the model accuracy and interpretation\n",
    "- some variable is binary in its own ( e.g. marital: 0 or 1, yes or no) these variable we can remain as it is\n",
    "\n",
    "- for feature selection, we can run chi-square test"
   ]
  },
  {
   "cell_type": "code",
   "execution_count": null,
   "metadata": {},
   "outputs": [],
   "source": []
  },
  {
   "cell_type": "markdown",
   "metadata": {},
   "source": [
    "### data transformation on categorical variables"
   ]
  },
  {
   "cell_type": "code",
   "execution_count": 26,
   "metadata": {},
   "outputs": [],
   "source": [
    "\n",
    "## convert var to categorical \n",
    "cat_columns= [ 'region', 'address', 'education', 'employ', 'reside', 'custcat']\n",
    "\n",
    "## change data-type to category for further processing\n",
    "df[cat_columns] = df[cat_columns].astype('category')\n"
   ]
  },
  {
   "cell_type": "code",
   "execution_count": 27,
   "metadata": {},
   "outputs": [],
   "source": [
    "## create dummy data for categorical var (to be fit into one-hot-encoding and model)\n",
    "df_cat_dummy = pd.get_dummies( df[cat_columns], prefix_sep='_')"
   ]
  },
  {
   "cell_type": "code",
   "execution_count": 28,
   "metadata": {},
   "outputs": [
    {
     "data": {
      "text/html": [
       "<div>\n",
       "<style scoped>\n",
       "    .dataframe tbody tr th:only-of-type {\n",
       "        vertical-align: middle;\n",
       "    }\n",
       "\n",
       "    .dataframe tbody tr th {\n",
       "        vertical-align: top;\n",
       "    }\n",
       "\n",
       "    .dataframe thead th {\n",
       "        text-align: right;\n",
       "    }\n",
       "</style>\n",
       "<table border=\"1\" class=\"dataframe\">\n",
       "  <thead>\n",
       "    <tr style=\"text-align: right;\">\n",
       "      <th></th>\n",
       "      <th>region_1</th>\n",
       "      <th>region_2</th>\n",
       "      <th>region_3</th>\n",
       "      <th>address_0</th>\n",
       "      <th>address_1</th>\n",
       "      <th>address_2</th>\n",
       "      <th>address_3</th>\n",
       "      <th>address_4</th>\n",
       "      <th>address_5</th>\n",
       "      <th>address_6</th>\n",
       "      <th>...</th>\n",
       "      <th>reside_3</th>\n",
       "      <th>reside_4</th>\n",
       "      <th>reside_5</th>\n",
       "      <th>reside_6</th>\n",
       "      <th>reside_7</th>\n",
       "      <th>reside_8</th>\n",
       "      <th>custcat_1</th>\n",
       "      <th>custcat_2</th>\n",
       "      <th>custcat_3</th>\n",
       "      <th>custcat_4</th>\n",
       "    </tr>\n",
       "  </thead>\n",
       "  <tbody>\n",
       "    <tr>\n",
       "      <td>0</td>\n",
       "      <td>0</td>\n",
       "      <td>1</td>\n",
       "      <td>0</td>\n",
       "      <td>0</td>\n",
       "      <td>0</td>\n",
       "      <td>0</td>\n",
       "      <td>0</td>\n",
       "      <td>0</td>\n",
       "      <td>0</td>\n",
       "      <td>0</td>\n",
       "      <td>...</td>\n",
       "      <td>0</td>\n",
       "      <td>0</td>\n",
       "      <td>0</td>\n",
       "      <td>0</td>\n",
       "      <td>0</td>\n",
       "      <td>0</td>\n",
       "      <td>1</td>\n",
       "      <td>0</td>\n",
       "      <td>0</td>\n",
       "      <td>0</td>\n",
       "    </tr>\n",
       "    <tr>\n",
       "      <td>1</td>\n",
       "      <td>0</td>\n",
       "      <td>0</td>\n",
       "      <td>1</td>\n",
       "      <td>0</td>\n",
       "      <td>0</td>\n",
       "      <td>0</td>\n",
       "      <td>0</td>\n",
       "      <td>0</td>\n",
       "      <td>0</td>\n",
       "      <td>0</td>\n",
       "      <td>...</td>\n",
       "      <td>0</td>\n",
       "      <td>0</td>\n",
       "      <td>0</td>\n",
       "      <td>1</td>\n",
       "      <td>0</td>\n",
       "      <td>0</td>\n",
       "      <td>0</td>\n",
       "      <td>0</td>\n",
       "      <td>0</td>\n",
       "      <td>1</td>\n",
       "    </tr>\n",
       "    <tr>\n",
       "      <td>2</td>\n",
       "      <td>0</td>\n",
       "      <td>0</td>\n",
       "      <td>1</td>\n",
       "      <td>0</td>\n",
       "      <td>0</td>\n",
       "      <td>0</td>\n",
       "      <td>0</td>\n",
       "      <td>0</td>\n",
       "      <td>0</td>\n",
       "      <td>0</td>\n",
       "      <td>...</td>\n",
       "      <td>0</td>\n",
       "      <td>0</td>\n",
       "      <td>0</td>\n",
       "      <td>0</td>\n",
       "      <td>0</td>\n",
       "      <td>0</td>\n",
       "      <td>0</td>\n",
       "      <td>0</td>\n",
       "      <td>1</td>\n",
       "      <td>0</td>\n",
       "    </tr>\n",
       "    <tr>\n",
       "      <td>3</td>\n",
       "      <td>0</td>\n",
       "      <td>1</td>\n",
       "      <td>0</td>\n",
       "      <td>0</td>\n",
       "      <td>0</td>\n",
       "      <td>0</td>\n",
       "      <td>0</td>\n",
       "      <td>0</td>\n",
       "      <td>0</td>\n",
       "      <td>0</td>\n",
       "      <td>...</td>\n",
       "      <td>0</td>\n",
       "      <td>0</td>\n",
       "      <td>0</td>\n",
       "      <td>0</td>\n",
       "      <td>0</td>\n",
       "      <td>0</td>\n",
       "      <td>1</td>\n",
       "      <td>0</td>\n",
       "      <td>0</td>\n",
       "      <td>0</td>\n",
       "    </tr>\n",
       "    <tr>\n",
       "      <td>4</td>\n",
       "      <td>0</td>\n",
       "      <td>1</td>\n",
       "      <td>0</td>\n",
       "      <td>0</td>\n",
       "      <td>0</td>\n",
       "      <td>0</td>\n",
       "      <td>0</td>\n",
       "      <td>0</td>\n",
       "      <td>0</td>\n",
       "      <td>0</td>\n",
       "      <td>...</td>\n",
       "      <td>0</td>\n",
       "      <td>1</td>\n",
       "      <td>0</td>\n",
       "      <td>0</td>\n",
       "      <td>0</td>\n",
       "      <td>0</td>\n",
       "      <td>0</td>\n",
       "      <td>0</td>\n",
       "      <td>1</td>\n",
       "      <td>0</td>\n",
       "    </tr>\n",
       "  </tbody>\n",
       "</table>\n",
       "<p>5 rows × 116 columns</p>\n",
       "</div>"
      ],
      "text/plain": [
       "   region_1  region_2  region_3  address_0  address_1  address_2  address_3  \\\n",
       "0         0         1         0          0          0          0          0   \n",
       "1         0         0         1          0          0          0          0   \n",
       "2         0         0         1          0          0          0          0   \n",
       "3         0         1         0          0          0          0          0   \n",
       "4         0         1         0          0          0          0          0   \n",
       "\n",
       "   address_4  address_5  address_6  ...  reside_3  reside_4  reside_5  \\\n",
       "0          0          0          0  ...         0         0         0   \n",
       "1          0          0          0  ...         0         0         0   \n",
       "2          0          0          0  ...         0         0         0   \n",
       "3          0          0          0  ...         0         0         0   \n",
       "4          0          0          0  ...         0         1         0   \n",
       "\n",
       "   reside_6  reside_7  reside_8  custcat_1  custcat_2  custcat_3  custcat_4  \n",
       "0         0         0         0          1          0          0          0  \n",
       "1         1         0         0          0          0          0          1  \n",
       "2         0         0         0          0          0          1          0  \n",
       "3         0         0         0          1          0          0          0  \n",
       "4         0         0         0          0          0          1          0  \n",
       "\n",
       "[5 rows x 116 columns]"
      ]
     },
     "execution_count": 28,
     "metadata": {},
     "output_type": "execute_result"
    }
   ],
   "source": [
    "df_cat_dummy.head()"
   ]
  },
  {
   "cell_type": "code",
   "execution_count": 29,
   "metadata": {},
   "outputs": [],
   "source": [
    "## join the original data with cat_dummy_data\n",
    "\n",
    "df = df.join(df_cat_dummy)"
   ]
  },
  {
   "cell_type": "code",
   "execution_count": 30,
   "metadata": {},
   "outputs": [
    {
     "data": {
      "text/html": [
       "<div>\n",
       "<style scoped>\n",
       "    .dataframe tbody tr th:only-of-type {\n",
       "        vertical-align: middle;\n",
       "    }\n",
       "\n",
       "    .dataframe tbody tr th {\n",
       "        vertical-align: top;\n",
       "    }\n",
       "\n",
       "    .dataframe thead th {\n",
       "        text-align: right;\n",
       "    }\n",
       "</style>\n",
       "<table border=\"1\" class=\"dataframe\">\n",
       "  <thead>\n",
       "    <tr style=\"text-align: right;\">\n",
       "      <th></th>\n",
       "      <th>region</th>\n",
       "      <th>tenure</th>\n",
       "      <th>age</th>\n",
       "      <th>marital</th>\n",
       "      <th>address</th>\n",
       "      <th>income</th>\n",
       "      <th>education</th>\n",
       "      <th>employ</th>\n",
       "      <th>retire</th>\n",
       "      <th>gender</th>\n",
       "      <th>...</th>\n",
       "      <th>reside_3</th>\n",
       "      <th>reside_4</th>\n",
       "      <th>reside_5</th>\n",
       "      <th>reside_6</th>\n",
       "      <th>reside_7</th>\n",
       "      <th>reside_8</th>\n",
       "      <th>custcat_1</th>\n",
       "      <th>custcat_2</th>\n",
       "      <th>custcat_3</th>\n",
       "      <th>custcat_4</th>\n",
       "    </tr>\n",
       "  </thead>\n",
       "  <tbody>\n",
       "    <tr>\n",
       "      <td>0</td>\n",
       "      <td>2</td>\n",
       "      <td>13</td>\n",
       "      <td>44</td>\n",
       "      <td>1</td>\n",
       "      <td>9</td>\n",
       "      <td>64</td>\n",
       "      <td>4</td>\n",
       "      <td>5</td>\n",
       "      <td>0</td>\n",
       "      <td>0</td>\n",
       "      <td>...</td>\n",
       "      <td>0</td>\n",
       "      <td>0</td>\n",
       "      <td>0</td>\n",
       "      <td>0</td>\n",
       "      <td>0</td>\n",
       "      <td>0</td>\n",
       "      <td>1</td>\n",
       "      <td>0</td>\n",
       "      <td>0</td>\n",
       "      <td>0</td>\n",
       "    </tr>\n",
       "    <tr>\n",
       "      <td>1</td>\n",
       "      <td>3</td>\n",
       "      <td>11</td>\n",
       "      <td>33</td>\n",
       "      <td>1</td>\n",
       "      <td>7</td>\n",
       "      <td>136</td>\n",
       "      <td>5</td>\n",
       "      <td>5</td>\n",
       "      <td>0</td>\n",
       "      <td>0</td>\n",
       "      <td>...</td>\n",
       "      <td>0</td>\n",
       "      <td>0</td>\n",
       "      <td>0</td>\n",
       "      <td>1</td>\n",
       "      <td>0</td>\n",
       "      <td>0</td>\n",
       "      <td>0</td>\n",
       "      <td>0</td>\n",
       "      <td>0</td>\n",
       "      <td>1</td>\n",
       "    </tr>\n",
       "    <tr>\n",
       "      <td>2</td>\n",
       "      <td>3</td>\n",
       "      <td>68</td>\n",
       "      <td>52</td>\n",
       "      <td>1</td>\n",
       "      <td>24</td>\n",
       "      <td>116</td>\n",
       "      <td>1</td>\n",
       "      <td>29</td>\n",
       "      <td>0</td>\n",
       "      <td>1</td>\n",
       "      <td>...</td>\n",
       "      <td>0</td>\n",
       "      <td>0</td>\n",
       "      <td>0</td>\n",
       "      <td>0</td>\n",
       "      <td>0</td>\n",
       "      <td>0</td>\n",
       "      <td>0</td>\n",
       "      <td>0</td>\n",
       "      <td>1</td>\n",
       "      <td>0</td>\n",
       "    </tr>\n",
       "    <tr>\n",
       "      <td>3</td>\n",
       "      <td>2</td>\n",
       "      <td>33</td>\n",
       "      <td>33</td>\n",
       "      <td>0</td>\n",
       "      <td>12</td>\n",
       "      <td>33</td>\n",
       "      <td>2</td>\n",
       "      <td>0</td>\n",
       "      <td>0</td>\n",
       "      <td>1</td>\n",
       "      <td>...</td>\n",
       "      <td>0</td>\n",
       "      <td>0</td>\n",
       "      <td>0</td>\n",
       "      <td>0</td>\n",
       "      <td>0</td>\n",
       "      <td>0</td>\n",
       "      <td>1</td>\n",
       "      <td>0</td>\n",
       "      <td>0</td>\n",
       "      <td>0</td>\n",
       "    </tr>\n",
       "    <tr>\n",
       "      <td>4</td>\n",
       "      <td>2</td>\n",
       "      <td>23</td>\n",
       "      <td>30</td>\n",
       "      <td>1</td>\n",
       "      <td>9</td>\n",
       "      <td>30</td>\n",
       "      <td>1</td>\n",
       "      <td>2</td>\n",
       "      <td>0</td>\n",
       "      <td>0</td>\n",
       "      <td>...</td>\n",
       "      <td>0</td>\n",
       "      <td>1</td>\n",
       "      <td>0</td>\n",
       "      <td>0</td>\n",
       "      <td>0</td>\n",
       "      <td>0</td>\n",
       "      <td>0</td>\n",
       "      <td>0</td>\n",
       "      <td>1</td>\n",
       "      <td>0</td>\n",
       "    </tr>\n",
       "  </tbody>\n",
       "</table>\n",
       "<p>5 rows × 158 columns</p>\n",
       "</div>"
      ],
      "text/plain": [
       "  region  tenure  age  marital address  income education employ  retire  \\\n",
       "0      2      13   44        1       9      64         4      5       0   \n",
       "1      3      11   33        1       7     136         5      5       0   \n",
       "2      3      68   52        1      24     116         1     29       0   \n",
       "3      2      33   33        0      12      33         2      0       0   \n",
       "4      2      23   30        1       9      30         1      2       0   \n",
       "\n",
       "   gender  ... reside_3  reside_4  reside_5  reside_6  reside_7  reside_8  \\\n",
       "0       0  ...        0         0         0         0         0         0   \n",
       "1       0  ...        0         0         0         1         0         0   \n",
       "2       1  ...        0         0         0         0         0         0   \n",
       "3       1  ...        0         0         0         0         0         0   \n",
       "4       0  ...        0         1         0         0         0         0   \n",
       "\n",
       "   custcat_1  custcat_2  custcat_3  custcat_4  \n",
       "0          1          0          0          0  \n",
       "1          0          0          0          1  \n",
       "2          0          0          1          0  \n",
       "3          1          0          0          0  \n",
       "4          0          0          1          0  \n",
       "\n",
       "[5 rows x 158 columns]"
      ]
     },
     "execution_count": 30,
     "metadata": {},
     "output_type": "execute_result"
    }
   ],
   "source": [
    "df.head()"
   ]
  },
  {
   "cell_type": "code",
   "execution_count": 31,
   "metadata": {},
   "outputs": [],
   "source": [
    "## drop column not needed \n",
    "df = df.drop(cat_columns , axis='columns')"
   ]
  },
  {
   "cell_type": "code",
   "execution_count": 32,
   "metadata": {},
   "outputs": [
    {
     "data": {
      "text/html": [
       "<div>\n",
       "<style scoped>\n",
       "    .dataframe tbody tr th:only-of-type {\n",
       "        vertical-align: middle;\n",
       "    }\n",
       "\n",
       "    .dataframe tbody tr th {\n",
       "        vertical-align: top;\n",
       "    }\n",
       "\n",
       "    .dataframe thead th {\n",
       "        text-align: right;\n",
       "    }\n",
       "</style>\n",
       "<table border=\"1\" class=\"dataframe\">\n",
       "  <thead>\n",
       "    <tr style=\"text-align: right;\">\n",
       "      <th></th>\n",
       "      <th>tenure</th>\n",
       "      <th>age</th>\n",
       "      <th>marital</th>\n",
       "      <th>income</th>\n",
       "      <th>retire</th>\n",
       "      <th>gender</th>\n",
       "      <th>tollfree</th>\n",
       "      <th>equip</th>\n",
       "      <th>callcard</th>\n",
       "      <th>wireless</th>\n",
       "      <th>...</th>\n",
       "      <th>reside_3</th>\n",
       "      <th>reside_4</th>\n",
       "      <th>reside_5</th>\n",
       "      <th>reside_6</th>\n",
       "      <th>reside_7</th>\n",
       "      <th>reside_8</th>\n",
       "      <th>custcat_1</th>\n",
       "      <th>custcat_2</th>\n",
       "      <th>custcat_3</th>\n",
       "      <th>custcat_4</th>\n",
       "    </tr>\n",
       "  </thead>\n",
       "  <tbody>\n",
       "    <tr>\n",
       "      <td>0</td>\n",
       "      <td>13</td>\n",
       "      <td>44</td>\n",
       "      <td>1</td>\n",
       "      <td>64</td>\n",
       "      <td>0</td>\n",
       "      <td>0</td>\n",
       "      <td>0</td>\n",
       "      <td>0</td>\n",
       "      <td>1</td>\n",
       "      <td>0</td>\n",
       "      <td>...</td>\n",
       "      <td>0</td>\n",
       "      <td>0</td>\n",
       "      <td>0</td>\n",
       "      <td>0</td>\n",
       "      <td>0</td>\n",
       "      <td>0</td>\n",
       "      <td>1</td>\n",
       "      <td>0</td>\n",
       "      <td>0</td>\n",
       "      <td>0</td>\n",
       "    </tr>\n",
       "    <tr>\n",
       "      <td>1</td>\n",
       "      <td>11</td>\n",
       "      <td>33</td>\n",
       "      <td>1</td>\n",
       "      <td>136</td>\n",
       "      <td>0</td>\n",
       "      <td>0</td>\n",
       "      <td>1</td>\n",
       "      <td>0</td>\n",
       "      <td>1</td>\n",
       "      <td>1</td>\n",
       "      <td>...</td>\n",
       "      <td>0</td>\n",
       "      <td>0</td>\n",
       "      <td>0</td>\n",
       "      <td>1</td>\n",
       "      <td>0</td>\n",
       "      <td>0</td>\n",
       "      <td>0</td>\n",
       "      <td>0</td>\n",
       "      <td>0</td>\n",
       "      <td>1</td>\n",
       "    </tr>\n",
       "    <tr>\n",
       "      <td>2</td>\n",
       "      <td>68</td>\n",
       "      <td>52</td>\n",
       "      <td>1</td>\n",
       "      <td>116</td>\n",
       "      <td>0</td>\n",
       "      <td>1</td>\n",
       "      <td>1</td>\n",
       "      <td>0</td>\n",
       "      <td>1</td>\n",
       "      <td>0</td>\n",
       "      <td>...</td>\n",
       "      <td>0</td>\n",
       "      <td>0</td>\n",
       "      <td>0</td>\n",
       "      <td>0</td>\n",
       "      <td>0</td>\n",
       "      <td>0</td>\n",
       "      <td>0</td>\n",
       "      <td>0</td>\n",
       "      <td>1</td>\n",
       "      <td>0</td>\n",
       "    </tr>\n",
       "    <tr>\n",
       "      <td>3</td>\n",
       "      <td>33</td>\n",
       "      <td>33</td>\n",
       "      <td>0</td>\n",
       "      <td>33</td>\n",
       "      <td>0</td>\n",
       "      <td>1</td>\n",
       "      <td>0</td>\n",
       "      <td>0</td>\n",
       "      <td>0</td>\n",
       "      <td>0</td>\n",
       "      <td>...</td>\n",
       "      <td>0</td>\n",
       "      <td>0</td>\n",
       "      <td>0</td>\n",
       "      <td>0</td>\n",
       "      <td>0</td>\n",
       "      <td>0</td>\n",
       "      <td>1</td>\n",
       "      <td>0</td>\n",
       "      <td>0</td>\n",
       "      <td>0</td>\n",
       "    </tr>\n",
       "    <tr>\n",
       "      <td>4</td>\n",
       "      <td>23</td>\n",
       "      <td>30</td>\n",
       "      <td>1</td>\n",
       "      <td>30</td>\n",
       "      <td>0</td>\n",
       "      <td>0</td>\n",
       "      <td>0</td>\n",
       "      <td>0</td>\n",
       "      <td>0</td>\n",
       "      <td>0</td>\n",
       "      <td>...</td>\n",
       "      <td>0</td>\n",
       "      <td>1</td>\n",
       "      <td>0</td>\n",
       "      <td>0</td>\n",
       "      <td>0</td>\n",
       "      <td>0</td>\n",
       "      <td>0</td>\n",
       "      <td>0</td>\n",
       "      <td>1</td>\n",
       "      <td>0</td>\n",
       "    </tr>\n",
       "  </tbody>\n",
       "</table>\n",
       "<p>5 rows × 152 columns</p>\n",
       "</div>"
      ],
      "text/plain": [
       "   tenure  age  marital  income  retire  gender  tollfree  equip  callcard  \\\n",
       "0      13   44        1      64       0       0         0      0         1   \n",
       "1      11   33        1     136       0       0         1      0         1   \n",
       "2      68   52        1     116       0       1         1      0         1   \n",
       "3      33   33        0      33       0       1         0      0         0   \n",
       "4      23   30        1      30       0       0         0      0         0   \n",
       "\n",
       "   wireless  ...  reside_3  reside_4  reside_5  reside_6  reside_7  reside_8  \\\n",
       "0         0  ...         0         0         0         0         0         0   \n",
       "1         1  ...         0         0         0         1         0         0   \n",
       "2         0  ...         0         0         0         0         0         0   \n",
       "3         0  ...         0         0         0         0         0         0   \n",
       "4         0  ...         0         1         0         0         0         0   \n",
       "\n",
       "   custcat_1  custcat_2  custcat_3  custcat_4  \n",
       "0          1          0          0          0  \n",
       "1          0          0          0          1  \n",
       "2          0          0          1          0  \n",
       "3          1          0          0          0  \n",
       "4          0          0          1          0  \n",
       "\n",
       "[5 rows x 152 columns]"
      ]
     },
     "execution_count": 32,
     "metadata": {},
     "output_type": "execute_result"
    }
   ],
   "source": [
    "df.head()"
   ]
  },
  {
   "cell_type": "code",
   "execution_count": null,
   "metadata": {},
   "outputs": [],
   "source": []
  },
  {
   "cell_type": "markdown",
   "metadata": {},
   "source": [
    "## train test split"
   ]
  },
  {
   "cell_type": "code",
   "execution_count": 127,
   "metadata": {},
   "outputs": [
    {
     "name": "stdout",
     "output_type": "stream",
     "text": [
      "(800, 151) (200, 151)\n"
     ]
    }
   ],
   "source": [
    "\n",
    "X = df.drop(['churn'],axis=1)\n",
    "y = df['churn']\n",
    "\n",
    "# X = df[['tenure', 'age','equip']]\n",
    "\n",
    "X_train, X_test, y_train, y_test = train_test_split(X, y, test_size=0.2, random_state=42)\n",
    "print(X_train.shape, X_test.shape)"
   ]
  },
  {
   "cell_type": "code",
   "execution_count": null,
   "metadata": {},
   "outputs": [],
   "source": []
  },
  {
   "cell_type": "markdown",
   "metadata": {},
   "source": [
    "## Model - Logistic regression"
   ]
  },
  {
   "cell_type": "code",
   "execution_count": 128,
   "metadata": {},
   "outputs": [
    {
     "data": {
      "text/plain": [
       "LogisticRegression(C=1.0, class_weight=None, dual=False, fit_intercept=True,\n",
       "                   intercept_scaling=1, l1_ratio=None, max_iter=100,\n",
       "                   multi_class='warn', n_jobs=None, penalty='l2',\n",
       "                   random_state=None, solver='warn', tol=0.0001, verbose=0,\n",
       "                   warm_start=False)"
      ]
     },
     "execution_count": 128,
     "metadata": {},
     "output_type": "execute_result"
    }
   ],
   "source": [
    "log_clf = LogisticRegression()\n",
    "log_clf.fit(X_train, y_train)"
   ]
  },
  {
   "cell_type": "code",
   "execution_count": 129,
   "metadata": {},
   "outputs": [
    {
     "data": {
      "text/plain": [
       "array([0, 0, 1, 0, 1, 0, 1, 0, 0, 0, 0, 0, 0, 0, 1, 1, 0, 1, 0, 1, 1, 0,\n",
       "       0, 0, 0, 0, 0, 1, 0, 0, 0, 1, 0, 0, 0, 1, 1, 0, 0, 1, 1, 0, 1, 0,\n",
       "       0, 0, 0, 1, 0, 0, 0, 0, 0, 0, 0, 0, 0, 1, 1, 0, 0, 0, 0, 0, 0, 0,\n",
       "       0, 0, 0, 0, 0, 1, 0, 0, 0, 0, 0, 0, 0, 0, 1, 0, 0, 0, 1, 0, 0, 1,\n",
       "       0, 0, 0, 0, 0, 0, 0, 0, 0, 1, 0, 0, 0, 0, 0, 1, 1, 1, 0, 0, 1, 0,\n",
       "       0, 1, 0, 0, 1, 1, 0, 0, 0, 0, 0, 0, 0, 0, 0, 0, 0, 0, 0, 0, 0, 0,\n",
       "       0, 1, 0, 0, 0, 0, 0, 0, 0, 0, 0, 0, 1, 0, 0, 0, 1, 0, 0, 1, 0, 0,\n",
       "       0, 0, 0, 0, 0, 0, 1, 0, 0, 1, 1, 1, 0, 0, 0, 1, 0, 0, 0, 0, 0, 0,\n",
       "       1, 1, 0, 0, 0, 0, 0, 0, 1, 1, 0, 0, 0, 0, 0, 1, 0, 0, 0, 0, 0, 0,\n",
       "       0, 0], dtype=int64)"
      ]
     },
     "execution_count": 129,
     "metadata": {},
     "output_type": "execute_result"
    }
   ],
   "source": [
    "## make prediction\n",
    "log_clf_predictions = log_clf.predict( X_test )\n",
    "log_clf_predictions"
   ]
  },
  {
   "cell_type": "code",
   "execution_count": 130,
   "metadata": {},
   "outputs": [
    {
     "name": "stdout",
     "output_type": "stream",
     "text": [
      "              precision    recall  f1-score   support\n",
      "\n",
      "           0       0.84      0.88      0.86       149\n",
      "           1       0.59      0.51      0.55        51\n",
      "\n",
      "    accuracy                           0.79       200\n",
      "   macro avg       0.72      0.69      0.70       200\n",
      "weighted avg       0.78      0.79      0.78       200\n",
      "\n"
     ]
    }
   ],
   "source": [
    "print(classification_report(y_test, log_clf_predictions))"
   ]
  },
  {
   "cell_type": "code",
   "execution_count": 154,
   "metadata": {},
   "outputs": [
    {
     "name": "stdout",
     "output_type": "stream",
     "text": [
      "[[131  18]\n",
      " [ 25  26]]\n"
     ]
    }
   ],
   "source": [
    "## confusion matrix\n",
    "conf_matrix = confusion_matrix(y_test,log_clf_predictions)\n",
    "print(conf_matrix)"
   ]
  },
  {
   "cell_type": "code",
   "execution_count": 131,
   "metadata": {},
   "outputs": [
    {
     "data": {
      "image/png": "[encoded data removed]",
      "text/plain": [
       "<Figure size 576x432 with 1 Axes>"
      ]
     },
     "metadata": {
      "needs_background": "light"
     },
     "output_type": "display_data"
    }
   ],
   "source": [
    "## false positive rate, true positive rate, for ROC\n",
    "fpr, tpr, threshold = metrics.roc_curve(y_test, log_clf_predictions)\n",
    "roc_auc = metrics.auc(fpr, tpr)\n",
    "\n",
    "## ROC plot\n",
    "\n",
    "plt.title('Receiver Operating Characteristic')\n",
    "plt.plot(fpr, tpr, 'b', label = 'AUC = %0.2f' % roc_auc)\n",
    "plt.legend(loc = 'lower right')\n",
    "plt.plot([0, 1], [0, 1],'r--')\n",
    "plt.xlim([0, 1])\n",
    "plt.ylim([0, 1])\n",
    "plt.ylabel('True Positive Rate')\n",
    "plt.xlabel('False Positive Rate')\n",
    "plt.show()\n"
   ]
  },
  {
   "cell_type": "markdown",
   "metadata": {},
   "source": [
    "- the AUC score = 0.72 still have room to improve"
   ]
  },
  {
   "cell_type": "code",
   "execution_count": 108,
   "metadata": {},
   "outputs": [
    {
     "data": {
      "text/plain": [
       "['model/telco_churn_log_clf.sav']"
      ]
     },
     "execution_count": 108,
     "metadata": {},
     "output_type": "execute_result"
    }
   ],
   "source": [
    "# save the model to disk\n",
    "filename = 'model/telco_churn_log_clf.sav'\n",
    "joblib.dump( log_clf , filename)\n",
    " "
   ]
  },
  {
   "cell_type": "markdown",
   "metadata": {},
   "source": [
    "## Model - Xgboost - simple"
   ]
  },
  {
   "cell_type": "code",
   "execution_count": 132,
   "metadata": {},
   "outputs": [
    {
     "data": {
      "text/plain": [
       "XGBClassifier(base_score=0.5, booster=None, colsample_bylevel=1,\n",
       "              colsample_bynode=1, colsample_bytree=1, eval_metric='auc',\n",
       "              gamma=0, gpu_id=-1, importance_type='gain',\n",
       "              interaction_constraints=None, learning_rate=0.1, max_delta_step=0,\n",
       "              max_depth=7, min_child_weight=10, missing=nan,\n",
       "              monotone_constraints=None, n_estimators=100, n_jobs=0,\n",
       "              num_parallel_tree=1, objective='binary:logistic', random_state=0,\n",
       "              reg_alpha=0, reg_lambda=1, scale_pos_weight=1, subsample=0.8,\n",
       "              tree_method=None, validate_parameters=False, verbosity=None)"
      ]
     },
     "execution_count": 132,
     "metadata": {},
     "output_type": "execute_result"
    }
   ],
   "source": [
    "## xgboost model\n",
    "xgb_clf = XGBClassifier(n_estimators=100, max_depth=7,eval_metric ='auc',\n",
    "                        learning_rate = 0.1, min_child_weight= 10, subsample= 0.8 )\n",
    "xgb_clf.fit(X_train, y_train)"
   ]
  },
  {
   "cell_type": "code",
   "execution_count": 133,
   "metadata": {},
   "outputs": [
    {
     "data": {
      "text/plain": [
       "array([0, 0, 1, 0, 1, 1, 1, 0, 1, 0, 0, 0, 0, 0, 1, 0, 0, 1, 0, 0, 1, 0,\n",
       "       0, 0, 0, 0, 0, 1, 0, 0, 0, 1, 0, 0, 0, 0, 0, 0, 0, 0, 1, 0, 1, 0,\n",
       "       1, 0, 0, 1, 1, 0, 1, 0, 0, 0, 0, 0, 0, 1, 1, 0, 0, 0, 0, 0, 0, 0,\n",
       "       1, 0, 0, 0, 0, 0, 0, 0, 0, 0, 0, 0, 0, 0, 1, 0, 0, 0, 1, 0, 0, 0,\n",
       "       0, 0, 0, 0, 0, 0, 0, 0, 0, 1, 0, 1, 0, 0, 0, 1, 1, 0, 0, 0, 1, 0,\n",
       "       0, 1, 0, 1, 1, 1, 0, 0, 0, 0, 0, 0, 0, 0, 0, 0, 0, 0, 0, 0, 1, 0,\n",
       "       0, 0, 0, 0, 0, 0, 1, 0, 0, 0, 1, 0, 1, 0, 0, 0, 0, 0, 0, 1, 0, 0,\n",
       "       0, 0, 0, 0, 0, 0, 1, 0, 0, 0, 1, 1, 0, 0, 0, 1, 0, 0, 0, 0, 0, 0,\n",
       "       1, 1, 0, 0, 0, 0, 0, 0, 1, 0, 0, 0, 0, 1, 0, 1, 0, 0, 0, 0, 0, 0,\n",
       "       0, 0], dtype=int64)"
      ]
     },
     "execution_count": 133,
     "metadata": {},
     "output_type": "execute_result"
    }
   ],
   "source": [
    "## make prediction\n",
    "xgb_clf_predictions = xgb_clf.predict( X_test )\n",
    "xgb_clf_predictions"
   ]
  },
  {
   "cell_type": "code",
   "execution_count": 134,
   "metadata": {},
   "outputs": [
    {
     "name": "stdout",
     "output_type": "stream",
     "text": [
      "              precision    recall  f1-score   support\n",
      "\n",
      "           0       0.85      0.89      0.87       149\n",
      "           1       0.61      0.53      0.57        51\n",
      "\n",
      "    accuracy                           0.80       200\n",
      "   macro avg       0.73      0.71      0.72       200\n",
      "weighted avg       0.79      0.80      0.79       200\n",
      "\n"
     ]
    }
   ],
   "source": [
    "print(classification_report(y_test, xgb_clf_predictions))"
   ]
  },
  {
   "cell_type": "code",
   "execution_count": 135,
   "metadata": {},
   "outputs": [
    {
     "data": {
      "text/plain": [
       "<matplotlib.axes._subplots.AxesSubplot at 0x177c2b23588>"
      ]
     },
     "execution_count": 135,
     "metadata": {},
     "output_type": "execute_result"
    },
    {
     "data": {
      "image/png": "[encoded data removed]",
      "text/plain": [
       "<Figure size 576x432 with 1 Axes>"
      ]
     },
     "metadata": {
      "needs_background": "light"
     },
     "output_type": "display_data"
    }
   ],
   "source": [
    "## xgb variable importance plot\n",
    "\n",
    "xgb.plot_importance( xgb_clf, max_num_features=20, height=0.7)\n"
   ]
  },
  {
   "cell_type": "markdown",
   "metadata": {},
   "source": [
    "as based on the model feature importance\n",
    "- income,longten, age are the top3 contributing factor to churn\n"
   ]
  },
  {
   "cell_type": "code",
   "execution_count": null,
   "metadata": {},
   "outputs": [],
   "source": []
  },
  {
   "cell_type": "code",
   "execution_count": 136,
   "metadata": {},
   "outputs": [
    {
     "data": {
      "image/png": "[encoded data removed]",
      "text/plain": [
       "<Figure size 576x432 with 1 Axes>"
      ]
     },
     "metadata": {
      "needs_background": "light"
     },
     "output_type": "display_data"
    }
   ],
   "source": [
    "## false positive rate, true positive rate, for ROC\n",
    "fpr, tpr, threshold = metrics.roc_curve(y_test, xgb_clf_predictions)\n",
    "roc_auc = metrics.auc(fpr, tpr)\n",
    "\n",
    "## ROC plot\n",
    "\n",
    "plt.title('Receiver Operating Characteristic (Xgboost simple)')\n",
    "plt.plot(fpr, tpr, 'b', label = 'AUC = %0.2f' % roc_auc)\n",
    "plt.legend(loc = 'lower right')\n",
    "plt.plot([0, 1], [0, 1],'r--')\n",
    "plt.xlim([0, 1])\n",
    "plt.ylim([0, 1])\n",
    "plt.ylabel('True Positive Rate')\n",
    "plt.xlabel('False Positive Rate')\n",
    "plt.show()\n"
   ]
  },
  {
   "cell_type": "markdown",
   "metadata": {},
   "source": [
    "- the AUC score = 0.71 still have room to improve"
   ]
  },
  {
   "cell_type": "code",
   "execution_count": null,
   "metadata": {},
   "outputs": [],
   "source": []
  },
  {
   "cell_type": "markdown",
   "metadata": {},
   "source": [
    "## Model - Xgboost with custom parameter, boosting & early-stopping"
   ]
  },
  {
   "cell_type": "code",
   "execution_count": 114,
   "metadata": {},
   "outputs": [],
   "source": [
    "## create specific train matrix dataset for xgboost and with n samples\n",
    "\n",
    "data_train  = xgb.DMatrix (X_train, label=y_train )\n",
    "data_test  = xgb.DMatrix( X_test   , label=y_test )\n",
    "eval_list = [(data_train, 'train'), (data_test, 'test')]"
   ]
  },
  {
   "cell_type": "code",
   "execution_count": 137,
   "metadata": {
    "collapsed": true
   },
   "outputs": [
    {
     "name": "stdout",
     "output_type": "stream",
     "text": [
      "[12:01:46] WARNING: C:\\Users\\Administrator\\workspace\\xgboost-win64_release_1.0.0\\src\\learner.cc:328: \n",
      "Parameters: { colsample_bytree , lambda  } might not be used.\n",
      "\n",
      "  This may not be accurate due to some parameters are only used in language bindings but\n",
      "  passed down to XGBoost core.  Or some parameters are not used but slip through this\n",
      "  verification. Please open an issue if you find above cases.\n",
      "\n",
      "\n",
      "[0]\ttrain-auc:0.79428\ttest-auc:0.78640\n",
      "Multiple eval metrics have been passed: 'test-auc' will be used for early stopping.\n",
      "\n",
      "Will train until test-auc hasn't improved in 50 rounds.\n",
      "[1]\ttrain-auc:0.80990\ttest-auc:0.80315\n",
      "[2]\ttrain-auc:0.81534\ttest-auc:0.79782\n",
      "[3]\ttrain-auc:0.82058\ttest-auc:0.79553\n",
      "[4]\ttrain-auc:0.82455\ttest-auc:0.81228\n",
      "[5]\ttrain-auc:0.83554\ttest-auc:0.82040\n",
      "[6]\ttrain-auc:0.83920\ttest-auc:0.81152\n",
      "[7]\ttrain-auc:0.84388\ttest-auc:0.80391\n",
      "[8]\ttrain-auc:0.84704\ttest-auc:0.80517\n",
      "[9]\ttrain-auc:0.85037\ttest-auc:0.80416\n",
      "[10]\ttrain-auc:0.85225\ttest-auc:0.80619\n",
      "[11]\ttrain-auc:0.85437\ttest-auc:0.80213\n",
      "[12]\ttrain-auc:0.85570\ttest-auc:0.80162\n",
      "[13]\ttrain-auc:0.85573\ttest-auc:0.80061\n",
      "[14]\ttrain-auc:0.85709\ttest-auc:0.79858\n",
      "[15]\ttrain-auc:0.85955\ttest-auc:0.79401\n",
      "[16]\ttrain-auc:0.86257\ttest-auc:0.79503\n",
      "[17]\ttrain-auc:0.86484\ttest-auc:0.79452\n",
      "[18]\ttrain-auc:0.86616\ttest-auc:0.79452\n",
      "[19]\ttrain-auc:0.86903\ttest-auc:0.79756\n",
      "[20]\ttrain-auc:0.87027\ttest-auc:0.79553\n",
      "[21]\ttrain-auc:0.87188\ttest-auc:0.79655\n",
      "[22]\ttrain-auc:0.87414\ttest-auc:0.79706\n",
      "[23]\ttrain-auc:0.87690\ttest-auc:0.79756\n",
      "[24]\ttrain-auc:0.87797\ttest-auc:0.80264\n",
      "[25]\ttrain-auc:0.87985\ttest-auc:0.79553\n",
      "[26]\ttrain-auc:0.88113\ttest-auc:0.79249\n",
      "[27]\ttrain-auc:0.88200\ttest-auc:0.79046\n",
      "[28]\ttrain-auc:0.88373\ttest-auc:0.78640\n",
      "[29]\ttrain-auc:0.88508\ttest-auc:0.78590\n",
      "[30]\ttrain-auc:0.88651\ttest-auc:0.78437\n",
      "[31]\ttrain-auc:0.88787\ttest-auc:0.78590\n",
      "[32]\ttrain-auc:0.88889\ttest-auc:0.78539\n",
      "[33]\ttrain-auc:0.88988\ttest-auc:0.78387\n",
      "[34]\ttrain-auc:0.89092\ttest-auc:0.78539\n",
      "[35]\ttrain-auc:0.89257\ttest-auc:0.78894\n",
      "[36]\ttrain-auc:0.89310\ttest-auc:0.78488\n",
      "[37]\ttrain-auc:0.89376\ttest-auc:0.78640\n",
      "[38]\ttrain-auc:0.89416\ttest-auc:0.78133\n",
      "[39]\ttrain-auc:0.89570\ttest-auc:0.78488\n",
      "[40]\ttrain-auc:0.89660\ttest-auc:0.78437\n",
      "[41]\ttrain-auc:0.89888\ttest-auc:0.78133\n",
      "[42]\ttrain-auc:0.89982\ttest-auc:0.77930\n",
      "[43]\ttrain-auc:0.90129\ttest-auc:0.77778\n",
      "[44]\ttrain-auc:0.90155\ttest-auc:0.77676\n",
      "[45]\ttrain-auc:0.90242\ttest-auc:0.77879\n",
      "[46]\ttrain-auc:0.90346\ttest-auc:0.77829\n",
      "[47]\ttrain-auc:0.90450\ttest-auc:0.77524\n",
      "[48]\ttrain-auc:0.90557\ttest-auc:0.77017\n",
      "[49]\ttrain-auc:0.90643\ttest-auc:0.77321\n",
      "[50]\ttrain-auc:0.90729\ttest-auc:0.77423\n",
      "[51]\ttrain-auc:0.90854\ttest-auc:0.77778\n",
      "[52]\ttrain-auc:0.90923\ttest-auc:0.77423\n",
      "[53]\ttrain-auc:0.90961\ttest-auc:0.77524\n",
      "[54]\ttrain-auc:0.90996\ttest-auc:0.77676\n",
      "[55]\ttrain-auc:0.91109\ttest-auc:0.77727\n",
      "Stopping. Best iteration:\n",
      "[5]\ttrain-auc:0.83554\ttest-auc:0.82040\n",
      "\n",
      "score = 0.8204, n_boost_round =5.\n"
     ]
    }
   ],
   "source": [
    "## model parameter\n",
    "xgb_params = {'max_depth':7, # maximum depth of a tree\n",
    "             'objective':'binary:logistic', ## objective function\n",
    "             'booster' : \"gbtree\",\n",
    "             'eval_metric': \"auc\",\n",
    "             'eta'      :0.1, # learning rate \n",
    "             'lambda '  :4,   #L2 regularization term, suggest >1 more conservative \n",
    "             'colsample_bytree ':0.8,\n",
    "             'colsample_bylevel':1,\n",
    "             'min_child_weight': 10, \n",
    "             'subsample':0.8, # subsample percentage of data\n",
    "             'nthread'  :4}  #number of cpu core\n",
    "\n",
    "## build xgboost model\n",
    "xgb_model = xgb.train(xgb_params, data_train, num_boost_round=300, evals = eval_list,\n",
    "                  early_stopping_rounds=50, maximize=True)  ## set maximize = True if the eval-metric is higher the better\n",
    "\n",
    "## print score\n",
    "print('score = %1.4f, n_boost_round =%d.'  %(xgb_model.best_score ,  xgb_model.best_iteration) )"
   ]
  },
  {
   "cell_type": "code",
   "execution_count": 138,
   "metadata": {},
   "outputs": [
    {
     "data": {
      "text/plain": [
       "array([0.03218659, 0.0509673 , 0.67673784, 0.1099831 , 0.5336811 ,\n",
       "       0.45596465, 0.5596377 , 0.33894742, 0.49302492, 0.2559159 ],\n",
       "      dtype=float32)"
      ]
     },
     "execution_count": 138,
     "metadata": {},
     "output_type": "execute_result"
    }
   ],
   "source": [
    "## make prediction\n",
    "xgb_predictions = xgb_model.predict( xgb.DMatrix(X_test) )\n",
    "xgb_predictions[:10]"
   ]
  },
  {
   "cell_type": "code",
   "execution_count": 139,
   "metadata": {},
   "outputs": [],
   "source": [
    "## as xgboost method above return probabilitie value, we need set threshold and convert to binary class\n",
    "# threshold = 0.5\n",
    "# xgb_predictions = [1 if n >= threshold else 0 for n in xgb_predictions]\n",
    "# xgb_predictions[:10]\n"
   ]
  },
  {
   "cell_type": "code",
   "execution_count": 140,
   "metadata": {},
   "outputs": [],
   "source": [
    "# print(classification_report(y_test, xgb_predictions))"
   ]
  },
  {
   "cell_type": "code",
   "execution_count": null,
   "metadata": {},
   "outputs": [],
   "source": []
  },
  {
   "cell_type": "code",
   "execution_count": 148,
   "metadata": {
    "collapsed": true
   },
   "outputs": [
    {
     "ename": "ExecutableNotFound",
     "evalue": "failed to execute ['dot', '-Tpng'], make sure the Graphviz executables are on your systems' PATH",
     "output_type": "error",
     "traceback": [
      "\u001b[1;31m---------------------------------------------------------------------------\u001b[0m",
      "\u001b[1;31mFileNotFoundError\u001b[0m                         Traceback (most recent call last)",
      "\u001b[1;32m~\\Anaconda3\\lib\\site-packages\\graphviz\\backend.py\u001b[0m in \u001b[0;36mrun\u001b[1;34m(cmd, input, capture_output, check, quiet, **kwargs)\u001b[0m\n\u001b[0;32m    158\u001b[0m     \u001b[1;32mtry\u001b[0m\u001b[1;33m:\u001b[0m\u001b[1;33m\u001b[0m\u001b[1;33m\u001b[0m\u001b[0m\n\u001b[1;32m--> 159\u001b[1;33m         \u001b[0mproc\u001b[0m \u001b[1;33m=\u001b[0m \u001b[0msubprocess\u001b[0m\u001b[1;33m.\u001b[0m\u001b[0mPopen\u001b[0m\u001b[1;33m(\u001b[0m\u001b[0mcmd\u001b[0m\u001b[1;33m,\u001b[0m \u001b[0mstartupinfo\u001b[0m\u001b[1;33m=\u001b[0m\u001b[0mget_startupinfo\u001b[0m\u001b[1;33m(\u001b[0m\u001b[1;33m)\u001b[0m\u001b[1;33m,\u001b[0m \u001b[1;33m**\u001b[0m\u001b[0mkwargs\u001b[0m\u001b[1;33m)\u001b[0m\u001b[1;33m\u001b[0m\u001b[1;33m\u001b[0m\u001b[0m\n\u001b[0m\u001b[0;32m    160\u001b[0m     \u001b[1;32mexcept\u001b[0m \u001b[0mOSError\u001b[0m \u001b[1;32mas\u001b[0m \u001b[0me\u001b[0m\u001b[1;33m:\u001b[0m\u001b[1;33m\u001b[0m\u001b[1;33m\u001b[0m\u001b[0m\n",
      "\u001b[1;32m~\\Anaconda3\\lib\\subprocess.py\u001b[0m in \u001b[0;36m__init__\u001b[1;34m(self, args, bufsize, executable, stdin, stdout, stderr, preexec_fn, close_fds, shell, cwd, env, universal_newlines, startupinfo, creationflags, restore_signals, start_new_session, pass_fds, encoding, errors, text)\u001b[0m\n\u001b[0;32m    774\u001b[0m                                 \u001b[0merrread\u001b[0m\u001b[1;33m,\u001b[0m \u001b[0merrwrite\u001b[0m\u001b[1;33m,\u001b[0m\u001b[1;33m\u001b[0m\u001b[1;33m\u001b[0m\u001b[0m\n\u001b[1;32m--> 775\u001b[1;33m                                 restore_signals, start_new_session)\n\u001b[0m\u001b[0;32m    776\u001b[0m         \u001b[1;32mexcept\u001b[0m\u001b[1;33m:\u001b[0m\u001b[1;33m\u001b[0m\u001b[1;33m\u001b[0m\u001b[0m\n",
      "\u001b[1;32m~\\Anaconda3\\lib\\subprocess.py\u001b[0m in \u001b[0;36m_execute_child\u001b[1;34m(self, args, executable, preexec_fn, close_fds, pass_fds, cwd, env, startupinfo, creationflags, shell, p2cread, p2cwrite, c2pread, c2pwrite, errread, errwrite, unused_restore_signals, unused_start_new_session)\u001b[0m\n\u001b[0;32m   1177\u001b[0m                                          \u001b[0mos\u001b[0m\u001b[1;33m.\u001b[0m\u001b[0mfspath\u001b[0m\u001b[1;33m(\u001b[0m\u001b[0mcwd\u001b[0m\u001b[1;33m)\u001b[0m \u001b[1;32mif\u001b[0m \u001b[0mcwd\u001b[0m \u001b[1;32mis\u001b[0m \u001b[1;32mnot\u001b[0m \u001b[1;32mNone\u001b[0m \u001b[1;32melse\u001b[0m \u001b[1;32mNone\u001b[0m\u001b[1;33m,\u001b[0m\u001b[1;33m\u001b[0m\u001b[1;33m\u001b[0m\u001b[0m\n\u001b[1;32m-> 1178\u001b[1;33m                                          startupinfo)\n\u001b[0m\u001b[0;32m   1179\u001b[0m             \u001b[1;32mfinally\u001b[0m\u001b[1;33m:\u001b[0m\u001b[1;33m\u001b[0m\u001b[1;33m\u001b[0m\u001b[0m\n",
      "\u001b[1;31mFileNotFoundError\u001b[0m: [WinError 2] The system cannot find the file specified",
      "\nDuring handling of the above exception, another exception occurred:\n",
      "\u001b[1;31mExecutableNotFound\u001b[0m                        Traceback (most recent call last)",
      "\u001b[1;32m<ipython-input-148-2fa732322e7a>\u001b[0m in \u001b[0;36m<module>\u001b[1;34m\u001b[0m\n\u001b[1;32m----> 1\u001b[1;33m \u001b[0mxgb\u001b[0m\u001b[1;33m.\u001b[0m\u001b[0mplot_tree\u001b[0m\u001b[1;33m(\u001b[0m\u001b[0mxgb_model\u001b[0m\u001b[1;33m)\u001b[0m\u001b[1;33m\u001b[0m\u001b[1;33m\u001b[0m\u001b[0m\n\u001b[0m",
      "\u001b[1;32m~\\Anaconda3\\lib\\site-packages\\xgboost\\plotting.py\u001b[0m in \u001b[0;36mplot_tree\u001b[1;34m(booster, fmap, num_trees, rankdir, ax, **kwargs)\u001b[0m\n\u001b[0;32m    244\u001b[0m \u001b[1;33m\u001b[0m\u001b[0m\n\u001b[0;32m    245\u001b[0m     \u001b[0ms\u001b[0m \u001b[1;33m=\u001b[0m \u001b[0mBytesIO\u001b[0m\u001b[1;33m(\u001b[0m\u001b[1;33m)\u001b[0m\u001b[1;33m\u001b[0m\u001b[1;33m\u001b[0m\u001b[0m\n\u001b[1;32m--> 246\u001b[1;33m     \u001b[0ms\u001b[0m\u001b[1;33m.\u001b[0m\u001b[0mwrite\u001b[0m\u001b[1;33m(\u001b[0m\u001b[0mg\u001b[0m\u001b[1;33m.\u001b[0m\u001b[0mpipe\u001b[0m\u001b[1;33m(\u001b[0m\u001b[0mformat\u001b[0m\u001b[1;33m=\u001b[0m\u001b[1;34m'png'\u001b[0m\u001b[1;33m)\u001b[0m\u001b[1;33m)\u001b[0m\u001b[1;33m\u001b[0m\u001b[1;33m\u001b[0m\u001b[0m\n\u001b[0m\u001b[0;32m    247\u001b[0m     \u001b[0ms\u001b[0m\u001b[1;33m.\u001b[0m\u001b[0mseek\u001b[0m\u001b[1;33m(\u001b[0m\u001b[1;36m0\u001b[0m\u001b[1;33m)\u001b[0m\u001b[1;33m\u001b[0m\u001b[1;33m\u001b[0m\u001b[0m\n\u001b[0;32m    248\u001b[0m     \u001b[0mimg\u001b[0m \u001b[1;33m=\u001b[0m \u001b[0mimage\u001b[0m\u001b[1;33m.\u001b[0m\u001b[0mimread\u001b[0m\u001b[1;33m(\u001b[0m\u001b[0ms\u001b[0m\u001b[1;33m)\u001b[0m\u001b[1;33m\u001b[0m\u001b[1;33m\u001b[0m\u001b[0m\n",
      "\u001b[1;32m~\\Anaconda3\\lib\\site-packages\\graphviz\\files.py\u001b[0m in \u001b[0;36mpipe\u001b[1;34m(self, format, renderer, formatter, quiet)\u001b[0m\n\u001b[0;32m    136\u001b[0m         out = backend.pipe(self._engine, format, data,\n\u001b[0;32m    137\u001b[0m                            \u001b[0mrenderer\u001b[0m\u001b[1;33m=\u001b[0m\u001b[0mrenderer\u001b[0m\u001b[1;33m,\u001b[0m \u001b[0mformatter\u001b[0m\u001b[1;33m=\u001b[0m\u001b[0mformatter\u001b[0m\u001b[1;33m,\u001b[0m\u001b[1;33m\u001b[0m\u001b[1;33m\u001b[0m\u001b[0m\n\u001b[1;32m--> 138\u001b[1;33m                            quiet=quiet)\n\u001b[0m\u001b[0;32m    139\u001b[0m \u001b[1;33m\u001b[0m\u001b[0m\n\u001b[0;32m    140\u001b[0m         \u001b[1;32mreturn\u001b[0m \u001b[0mout\u001b[0m\u001b[1;33m\u001b[0m\u001b[1;33m\u001b[0m\u001b[0m\n",
      "\u001b[1;32m~\\Anaconda3\\lib\\site-packages\\graphviz\\backend.py\u001b[0m in \u001b[0;36mpipe\u001b[1;34m(engine, format, data, renderer, formatter, quiet)\u001b[0m\n\u001b[0;32m    227\u001b[0m     \"\"\"\n\u001b[0;32m    228\u001b[0m     \u001b[0mcmd\u001b[0m\u001b[1;33m,\u001b[0m \u001b[0m_\u001b[0m \u001b[1;33m=\u001b[0m \u001b[0mcommand\u001b[0m\u001b[1;33m(\u001b[0m\u001b[0mengine\u001b[0m\u001b[1;33m,\u001b[0m \u001b[0mformat\u001b[0m\u001b[1;33m,\u001b[0m \u001b[1;32mNone\u001b[0m\u001b[1;33m,\u001b[0m \u001b[0mrenderer\u001b[0m\u001b[1;33m,\u001b[0m \u001b[0mformatter\u001b[0m\u001b[1;33m)\u001b[0m\u001b[1;33m\u001b[0m\u001b[1;33m\u001b[0m\u001b[0m\n\u001b[1;32m--> 229\u001b[1;33m     \u001b[0mout\u001b[0m\u001b[1;33m,\u001b[0m \u001b[0m_\u001b[0m \u001b[1;33m=\u001b[0m \u001b[0mrun\u001b[0m\u001b[1;33m(\u001b[0m\u001b[0mcmd\u001b[0m\u001b[1;33m,\u001b[0m \u001b[0minput\u001b[0m\u001b[1;33m=\u001b[0m\u001b[0mdata\u001b[0m\u001b[1;33m,\u001b[0m \u001b[0mcapture_output\u001b[0m\u001b[1;33m=\u001b[0m\u001b[1;32mTrue\u001b[0m\u001b[1;33m,\u001b[0m \u001b[0mcheck\u001b[0m\u001b[1;33m=\u001b[0m\u001b[1;32mTrue\u001b[0m\u001b[1;33m,\u001b[0m \u001b[0mquiet\u001b[0m\u001b[1;33m=\u001b[0m\u001b[0mquiet\u001b[0m\u001b[1;33m)\u001b[0m\u001b[1;33m\u001b[0m\u001b[1;33m\u001b[0m\u001b[0m\n\u001b[0m\u001b[0;32m    230\u001b[0m     \u001b[1;32mreturn\u001b[0m \u001b[0mout\u001b[0m\u001b[1;33m\u001b[0m\u001b[1;33m\u001b[0m\u001b[0m\n\u001b[0;32m    231\u001b[0m \u001b[1;33m\u001b[0m\u001b[0m\n",
      "\u001b[1;32m~\\Anaconda3\\lib\\site-packages\\graphviz\\backend.py\u001b[0m in \u001b[0;36mrun\u001b[1;34m(cmd, input, capture_output, check, quiet, **kwargs)\u001b[0m\n\u001b[0;32m    160\u001b[0m     \u001b[1;32mexcept\u001b[0m \u001b[0mOSError\u001b[0m \u001b[1;32mas\u001b[0m \u001b[0me\u001b[0m\u001b[1;33m:\u001b[0m\u001b[1;33m\u001b[0m\u001b[1;33m\u001b[0m\u001b[0m\n\u001b[0;32m    161\u001b[0m         \u001b[1;32mif\u001b[0m \u001b[0me\u001b[0m\u001b[1;33m.\u001b[0m\u001b[0merrno\u001b[0m \u001b[1;33m==\u001b[0m \u001b[0merrno\u001b[0m\u001b[1;33m.\u001b[0m\u001b[0mENOENT\u001b[0m\u001b[1;33m:\u001b[0m\u001b[1;33m\u001b[0m\u001b[1;33m\u001b[0m\u001b[0m\n\u001b[1;32m--> 162\u001b[1;33m             \u001b[1;32mraise\u001b[0m \u001b[0mExecutableNotFound\u001b[0m\u001b[1;33m(\u001b[0m\u001b[0mcmd\u001b[0m\u001b[1;33m)\u001b[0m\u001b[1;33m\u001b[0m\u001b[1;33m\u001b[0m\u001b[0m\n\u001b[0m\u001b[0;32m    163\u001b[0m         \u001b[1;32melse\u001b[0m\u001b[1;33m:\u001b[0m\u001b[1;33m\u001b[0m\u001b[1;33m\u001b[0m\u001b[0m\n\u001b[0;32m    164\u001b[0m             \u001b[1;32mraise\u001b[0m\u001b[1;33m\u001b[0m\u001b[1;33m\u001b[0m\u001b[0m\n",
      "\u001b[1;31mExecutableNotFound\u001b[0m: failed to execute ['dot', '-Tpng'], make sure the Graphviz executables are on your systems' PATH"
     ]
    },
    {
     "data": {
      "image/png": "[encoded data removed]",
      "text/plain": [
       "<Figure size 576x432 with 1 Axes>"
      ]
     },
     "metadata": {
      "needs_background": "light"
     },
     "output_type": "display_data"
    }
   ],
   "source": [
    "xgb.plot_tree(xgb_model)"
   ]
  },
  {
   "cell_type": "code",
   "execution_count": 167,
   "metadata": {},
   "outputs": [
    {
     "data": {
      "text/plain": [
       "<matplotlib.axes._subplots.AxesSubplot at 0x177cae1c708>"
      ]
     },
     "execution_count": 167,
     "metadata": {},
     "output_type": "execute_result"
    },
    {
     "data": {
      "image/png": "[encoded data removed]",
      "text/plain": [
       "<Figure size 864x648 with 1 Axes>"
      ]
     },
     "metadata": {
      "needs_background": "light"
     },
     "output_type": "display_data"
    }
   ],
   "source": [
    "## xgb variable importance plot\n",
    "\n",
    "xgb.plot_importance( xgb_model, max_num_features=50, height=1)\n"
   ]
  },
  {
   "cell_type": "markdown",
   "metadata": {},
   "source": [
    "as based on the model feature importance\n",
    "- longten, longmon, income, tenure and age are the top5 contributing factor to churn\n",
    "- understand longten & longmon more detail (  definition is long distance over month, and over tenure) and how it can be include/exclude to enhance product offering and lower churn\n",
    "- the longer the tenure, the less likely they will churn\n",
    "\n",
    "- in the other hand, the top5 least importance feature: region and residential area, pager, callcard and wireless.\n"
   ]
  },
  {
   "cell_type": "code",
   "execution_count": null,
   "metadata": {},
   "outputs": [],
   "source": []
  },
  {
   "cell_type": "code",
   "execution_count": 142,
   "metadata": {},
   "outputs": [
    {
     "data": {
      "image/png": "[encoded data removed]",
      "text/plain": [
       "<Figure size 576x432 with 1 Axes>"
      ]
     },
     "metadata": {
      "needs_background": "light"
     },
     "output_type": "display_data"
    }
   ],
   "source": [
    "## false positive rate, true positive rate, for ROC\n",
    "fpr, tpr, threshold = metrics.roc_curve(y_test, xgb_predictions)\n",
    "roc_auc = metrics.auc(fpr, tpr)\n",
    "\n",
    "## ROC plot\n",
    "\n",
    "plt.title('Receiver Operating Characteristic (Xgboost with custom parameters)')\n",
    "plt.plot(fpr, tpr, 'b', label = 'AUC = %0.2f' % roc_auc)\n",
    "plt.legend(loc = 'lower right')\n",
    "plt.plot([0, 1], [0, 1],'r--')\n",
    "plt.xlim([0, 1])\n",
    "plt.ylim([0, 1])\n",
    "plt.ylabel('True Positive Rate')\n",
    "plt.xlabel('False Positive Rate')\n",
    "plt.show()\n"
   ]
  },
  {
   "cell_type": "markdown",
   "metadata": {},
   "source": [
    "- Not bad for the first few try, we able to achieve AUC score = 0.85\n"
   ]
  },
  {
   "cell_type": "markdown",
   "metadata": {},
   "source": []
  },
  {
   "cell_type": "code",
   "execution_count": 143,
   "metadata": {},
   "outputs": [
    {
     "data": {
      "text/plain": [
       "['model/telco_churn_xgboost_custom.sav']"
      ]
     },
     "execution_count": 143,
     "metadata": {},
     "output_type": "execute_result"
    }
   ],
   "source": [
    "# save the model to disk\n",
    "filename = 'model/telco_churn_xgboost_custom.sav'\n",
    "joblib.dump( xgb_model , filename)\n",
    " "
   ]
  },
  {
   "cell_type": "code",
   "execution_count": null,
   "metadata": {},
   "outputs": [],
   "source": []
  },
  {
   "cell_type": "code",
   "execution_count": null,
   "metadata": {},
   "outputs": [],
   "source": []
  },
  {
   "cell_type": "markdown",
   "metadata": {},
   "source": [
    "## Model - Light GBM model"
   ]
  },
  {
   "cell_type": "code",
   "execution_count": 155,
   "metadata": {},
   "outputs": [],
   "source": [
    "\n",
    "## create model-specific train data matrix\n",
    "\n",
    "data_train  = lgb.Dataset (X_train, label=y_train )\n",
    "data_test  = lgb.Dataset( X_test  , label=y_test )\n",
    "eval_list = [(data_train, 'train'), (data_test, 'test')]\n",
    "\n",
    "\n",
    "## define parameter\n",
    "params = {\n",
    "    'objective':'binary', ## linear objective function\n",
    "    'eval_metric': \"auc\",   \n",
    "    'max_depth': 7, \n",
    "    'learning_rate': 0.1,\n",
    "    'lambda '  :4,   #L2 regularization term, suggest >1 more conservative \n",
    "    'subsample':0.8, # subsample percentage of data\n",
    "    'verbose': 10} \n",
    "\n",
    "## number of estimators\n",
    "n_estimators = 500\n",
    "\n",
    "\n",
    "## model \n",
    "lightgbm_model = lgb.train(params, data_train, n_estimators,  verbose_eval=1)"
   ]
  },
  {
   "cell_type": "code",
   "execution_count": 156,
   "metadata": {},
   "outputs": [
    {
     "data": {
      "text/plain": [
       "array([7.65658544e-05, 2.11487096e-06, 9.80835716e-01, 4.79696270e-06,\n",
       "       9.89485579e-01, 1.52449029e-01, 9.44680792e-01, 4.97869138e-03,\n",
       "       9.78980101e-01, 2.83206143e-01])"
      ]
     },
     "execution_count": 156,
     "metadata": {},
     "output_type": "execute_result"
    }
   ],
   "source": [
    "\n",
    "## model prediction\n",
    "lgb_predictions = lightgbm_model.predict(X_test)\n",
    "lgb_predictions[:10]\n"
   ]
  },
  {
   "cell_type": "code",
   "execution_count": 157,
   "metadata": {},
   "outputs": [],
   "source": [
    "# ## as method above return probabilitie value, we need set threshold and convert to binary class\n",
    "# threshold = 0.5\n",
    "# lgb_predictions = [1 if n > threshold else 0 for n in lgb_predictions]\n",
    "\n",
    "# lgb_predictions[:10]\n"
   ]
  },
  {
   "cell_type": "code",
   "execution_count": 158,
   "metadata": {},
   "outputs": [],
   "source": [
    "# print(classification_report(y_test, lgb_predictions))"
   ]
  },
  {
   "cell_type": "code",
   "execution_count": 166,
   "metadata": {},
   "outputs": [
    {
     "data": {
      "text/plain": [
       "<matplotlib.axes._subplots.AxesSubplot at 0x177c296a788>"
      ]
     },
     "execution_count": 166,
     "metadata": {},
     "output_type": "execute_result"
    },
    {
     "data": {
      "image/png": "[encoded data removed]",
      "text/plain": [
       "<Figure size 864x648 with 1 Axes>"
      ]
     },
     "metadata": {
      "needs_background": "light"
     },
     "output_type": "display_data"
    }
   ],
   "source": [
    "## set figure plot size\n",
    "plt.rcParams['figure.figsize'] = [12, 9]\n",
    "\n",
    "\n",
    "## lgb variable importance plot\n",
    "lgb.plot_importance( lightgbm_model, max_num_features=50, height=0.5)\n",
    "\n"
   ]
  },
  {
   "cell_type": "markdown",
   "metadata": {},
   "source": [
    "the LGB model feature importance look quite similar to XGboost model\n",
    "- longten, longmon, income, tenure and age are the top5 contributing factor to churn\n",
    "\n",
    "- in the other hand, the top5 least importance feature: address, residential area, customer category (who be useful if we able to get more detail on customer-category definition, how the segmentation and what custcat=2 refer to )\n"
   ]
  },
  {
   "cell_type": "code",
   "execution_count": 160,
   "metadata": {},
   "outputs": [
    {
     "data": {
      "image/png": "[encoded data removed]",
      "text/plain": [
       "<Figure size 576x432 with 1 Axes>"
      ]
     },
     "metadata": {
      "needs_background": "light"
     },
     "output_type": "display_data"
    }
   ],
   "source": [
    "## false positive rate, true positive rate, for ROC\n",
    "fpr, tpr, threshold = metrics.roc_curve(y_test, lgb_predictions)\n",
    "roc_auc = metrics.auc(fpr, tpr)\n",
    "\n",
    "## ROC plot\n",
    "\n",
    "plt.title('Receiver Operating Characteristic (light GBM)')\n",
    "plt.plot(fpr, tpr, 'b', label = 'AUC = %0.2f' % roc_auc)\n",
    "plt.legend(loc = 'lower right')\n",
    "plt.plot([0, 1], [0, 1],'r--')\n",
    "plt.xlim([0, 1])\n",
    "plt.ylim([0, 1])\n",
    "plt.ylabel('True Positive Rate')\n",
    "plt.xlabel('False Positive Rate')\n",
    "plt.show()"
   ]
  },
  {
   "cell_type": "code",
   "execution_count": 452,
   "metadata": {},
   "outputs": [
    {
     "data": {
      "text/plain": [
       "['model/telco_churn_lightgbm.sav']"
      ]
     },
     "execution_count": 452,
     "metadata": {},
     "output_type": "execute_result"
    }
   ],
   "source": [
    "# save the model to disk\n",
    "filename = 'model/telco_churn_lightgbm.sav'\n",
    "joblib.dump( lightgbm_model , filename)\n",
    " "
   ]
  },
  {
   "cell_type": "code",
   "execution_count": null,
   "metadata": {},
   "outputs": [],
   "source": []
  },
  {
   "cell_type": "code",
   "execution_count": null,
   "metadata": {},
   "outputs": [],
   "source": []
  },
  {
   "cell_type": "code",
   "execution_count": null,
   "metadata": {},
   "outputs": [],
   "source": []
  },
  {
   "cell_type": "markdown",
   "metadata": {},
   "source": [
    "## Summary\n",
    "\n",
    "\n",
    "#### (1) Model performance:\n",
    "- We had tested different machine learning model to predict the telco churn user and compare based on AUC score as evaluation metric\n",
    "    - Logistic regression , AUC = 0.69\n",
    "    - xgboost model (simple), AUC = 0.71\n",
    "    - Xgboost model (custom parameter) , AUC = 0.85\n",
    "    - LightGBM model, AUC = 0.73\n",
    "- Overall, Xgboost model with custom parameter give us the best model performance\n",
    "\n",
    "/////////////////////////\n",
    "\n",
    "#### (2) Feature importance: ( what are the factor contribute to customer churn?)\n",
    "\n",
    "![](img/xgb_feature.png)\n",
    "\n",
    "\n",
    "- based on the xgboost model feature importance plot, we observed that:\n",
    "    - longten, longmon, income, tenure and age are the top5 contributing factor to churn\n",
    "    - understand longten & longmon more detail (  definition is long distance over month, and over tenure) and how it can be include/exclude to enhance product offering and lower churn\n",
    "    - the longer the tenure, the less likely they will churn\n",
    "    - in the other hand, the top5 least importance feature: region and residential area, pager, callcard and wireless.\n",
    "\n",
    "/////////////////////////\n",
    "    \n",
    "#### (3) Suggestion/ Future work/ next phase\n",
    "\n",
    "\n",
    "##### action to lower churn\n",
    "\n",
    "- retain existing loyal user (high tenure) by offer loyalty package offer based on the preference. It is more cost-effective to keep one than acquire new customer\n",
    "\n",
    "- identified potential churn user within next 3/6/12 months, obtain feedback and offer personalized offer\n",
    "\n",
    "\n",
    "\n",
    "#####  to improve the model performance\n",
    "\n",
    "- add in more user behavior data such as demographic, credit-score, behavioral and customer segment\n",
    "\n",
    "- Include time-series data such as (user start date and user complaint date) to better predict likelihood of churn in the defined timeframe ( next 3 months, next 6 months)\n",
    "\n",
    "- add in user sentiment and satisfaction score\n",
    "\n",
    "- perform NLP text processing for social media, call record to understand their feedback and interested topic or product or promotion \n"
   ]
  },
  {
   "cell_type": "code",
   "execution_count": null,
   "metadata": {},
   "outputs": [],
   "source": []
  }
 ],
 "metadata": {
  "kernelspec": {
   "display_name": "Python 3",
   "language": "python",
   "name": "python3"
  },
  "language_info": {
   "codemirror_mode": {
    "name": "ipython",
    "version": 3
   },
   "file_extension": ".py",
   "mimetype": "text/x-python",
   "name": "python",
   "nbconvert_exporter": "python",
   "pygments_lexer": "ipython3",
   "version": "3.7.4"
  }
 },
 "nbformat": 4,
 "nbformat_minor": 2
}
